{
 "cells": [
  {
   "cell_type": "markdown",
   "id": "028b49e2-ead5-4bd0-b877-059bdddbc50e",
   "metadata": {},
   "source": [
    "## Creating  a list\n",
    "Learn how to creating a list and execute a list of task with AI\n",
    "\n"
   ]
  },
  {
   "cell_type": "code",
   "execution_count": 2,
   "id": "47728759-08a5-43db-b504-09967a0d3c2b",
   "metadata": {},
   "outputs": [],
   "source": [
    "!pip install -q -U google-generativeai"
   ]
  },
  {
   "cell_type": "code",
   "execution_count": 3,
   "id": "665d242a-b5b3-42c0-85ce-e16b6e1cf7c2",
   "metadata": {},
   "outputs": [
    {
     "name": "stdout",
     "output_type": "stream",
     "text": [
      "API key loaded successfully!\n"
     ]
    }
   ],
   "source": [
    "import google.generativeai as genai\n",
    "from dotenv import load_dotenv\n",
    "import os\n",
    "\n",
    "# Load environment variables\n",
    "load_dotenv()\n",
    "\n",
    "# Get API key\n",
    "api_key = os.getenv('GOOGLE_API_KEY')\n",
    "\n",
    "# Check if loaded\n",
    "if api_key is None:\n",
    "    print(\"Warning: API key not found!\")\n",
    "else:\n",
    "    print(\"API key loaded successfully!\")\n",
    "    \n",
    "# ⭐ Configure genai with the API key\n",
    "genai.configure(api_key=api_key)\n",
    "\n",
    "# Now your model code will work\n",
    "model = genai.GenerativeModel(model_name=\"gemini-2.5-flash\")"
   ]
  },
  {
   "cell_type": "code",
   "execution_count": 4,
   "id": "a17a3f9a-f71f-4fea-a897-40217983e124",
   "metadata": {},
   "outputs": [],
   "source": [
    "response = model.generate_content"
   ]
  },
  {
   "cell_type": "markdown",
   "id": "2e601e69-46a0-48a6-a158-0afcd5824a91",
   "metadata": {},
   "source": [
    "Below is a sample of a List"
   ]
  },
  {
   "cell_type": "code",
   "execution_count": 5,
   "id": "c79072c9-3506-4610-b206-5a41143e7313",
   "metadata": {},
   "outputs": [],
   "source": [
    "friends_list = [\"Tommy\", \"Isabel\", \"Daniel\"]"
   ]
  },
  {
   "cell_type": "code",
   "execution_count": 6,
   "id": "43795494-7ee9-4aef-90bd-d5712240d502",
   "metadata": {},
   "outputs": [
    {
     "name": "stdout",
     "output_type": "stream",
     "text": [
      "['Tommy', 'Isabel', 'Daniel']\n"
     ]
    }
   ],
   "source": [
    "print(friends_list)"
   ]
  },
  {
   "cell_type": "markdown",
   "id": "ab071f35-87c1-4d25-b887-5846874b9f51",
   "metadata": {},
   "source": [
    "`friends_list` is a single variable of type `list` that holds multiple values."
   ]
  },
  {
   "cell_type": "code",
   "execution_count": 7,
   "id": "5cd1764b-ca94-4d5b-b57d-6344aa7321fe",
   "metadata": {},
   "outputs": [
    {
     "data": {
      "text/plain": [
       "list"
      ]
     },
     "execution_count": 7,
     "metadata": {},
     "output_type": "execute_result"
    }
   ],
   "source": [
    "type(friends_list)"
   ]
  },
  {
   "cell_type": "markdown",
   "id": "3a2ffc2c-2eb7-4a22-9f2f-ca0aec8e3568",
   "metadata": {},
   "source": [
    "You can check how many values are stored in the list by using `len()`:"
   ]
  },
  {
   "cell_type": "code",
   "execution_count": 8,
   "id": "34a325ac-3504-423d-b4d4-260b23768d41",
   "metadata": {},
   "outputs": [
    {
     "data": {
      "text/plain": [
       "3"
      ]
     },
     "execution_count": 8,
     "metadata": {},
     "output_type": "execute_result"
    }
   ],
   "source": [
    "len(friends_list)"
   ]
  },
  {
   "cell_type": "markdown",
   "id": "5c107f3c-9e11-4cf9-a66d-92185ba0506c",
   "metadata": {},
   "source": [
    "So this list has three elements."
   ]
  },
  {
   "cell_type": "markdown",
   "id": "b00b1a5d-32c6-41e4-b733-ad516d314f75",
   "metadata": {},
   "source": [
    "You can use lists as you used variables before within LLM prompts. Below, you are including the `friends_list` in the prompt to write four-line birthday poems for `'Tommy'`, `'Isabel'` and `'Daniel'`."
   ]
  },
  {
   "cell_type": "code",
   "execution_count": 9,
   "id": "890a0354-6080-4f13-8adf-c170f59758c1",
   "metadata": {},
   "outputs": [
    {
     "name": "stdout",
     "output_type": "stream",
     "text": [
      "\n",
      "Write a set of four line birthday poems for my friends ['Tommy', 'Isabel', 'Daniel']. \n",
      "The poems should be insipred by the first letter of each friend's name. Provide it in plain text without any formatting\n",
      "\n"
     ]
    }
   ],
   "source": [
    "prompt = f\"\"\"\n",
    "Write a set of four line birthday poems for my friends {friends_list}. \n",
    "The poems should be insipred by the first letter of each friend's name. Provide it in plain text without any formatting\n",
    "\"\"\"\n",
    "print(prompt)"
   ]
  },
  {
   "cell_type": "markdown",
   "id": "27c562c6-b0dd-4ede-8ed4-95d0ed2c5744",
   "metadata": {},
   "source": [
    "Now, you can use that prompt with the LLM:"
   ]
  },
  {
   "cell_type": "code",
   "execution_count": 10,
   "id": "1757d134-a432-4810-8289-f247969f1cf1",
   "metadata": {},
   "outputs": [
    {
     "name": "stdout",
     "output_type": "stream",
     "text": [
      "Tommy, for your birthday, bright and new,\n",
      "Terrific wishes we send to you.\n",
      "Today's your day, let joy take flight,\n",
      "May all your moments be pure delight.\n",
      "\n",
      "Isabel, an incredible friend indeed,\n",
      "Inspiring kindness, a treasured seed.\n",
      "It's your special day, filled with cheer,\n",
      "May happiness stay throughout the year.\n",
      "\n",
      "Daniel, delightful, true, and grand,\n",
      "Dreams and wishes, close at hand.\n",
      "Discover new joys, as days unfold,\n",
      "A birthday story, brave and bold.\n"
     ]
    }
   ],
   "source": [
    "print(response(prompt).text)"
   ]
  },
  {
   "cell_type": "markdown",
   "id": "ee3ac7ff-cd83-4096-b85b-63a2748b196a",
   "metadata": {},
   "source": [
    "## Accessing individual elements of a list\n"
   ]
  },
  {
   "cell_type": "markdown",
   "id": "ae957453-4484-47ed-aa54-d0e9205424aa",
   "metadata": {},
   "source": [
    "You can access individual elements from a list. "
   ]
  },
  {
   "cell_type": "markdown",
   "id": "990e8a0f-516f-4178-9d96-0030237cdcea",
   "metadata": {},
   "source": [
    "For instance, to access the first element, you would use the following code:"
   ]
  },
  {
   "cell_type": "code",
   "execution_count": 11,
   "id": "77393fd3-42bf-4b44-b8d9-1fb7988c5e5a",
   "metadata": {},
   "outputs": [
    {
     "name": "stdout",
     "output_type": "stream",
     "text": [
      "Tommy\n"
     ]
    }
   ],
   "source": [
    "first_friend = friends_list[0]\n",
    "print(first_friend)  # Output: Tommy"
   ]
  },
  {
   "cell_type": "markdown",
   "id": "6f187701-6134-45f2-a38b-009bfa7baf3a",
   "metadata": {},
   "source": [
    "To access the second element, you would use the following code:"
   ]
  },
  {
   "cell_type": "code",
   "execution_count": 12,
   "id": "e812dbba-74db-4c80-aed5-836bd31db93b",
   "metadata": {},
   "outputs": [
    {
     "name": "stdout",
     "output_type": "stream",
     "text": [
      "Isabel\n"
     ]
    }
   ],
   "source": [
    "print(friends_list[1]) # Output: Isabel"
   ]
  },
  {
   "cell_type": "markdown",
   "id": "d7d028cd-62ba-4983-90a6-29d2c942669b",
   "metadata": {},
   "source": [
    "## Adding another element to the list\n"
   ]
  },
  {
   "cell_type": "markdown",
   "id": "29b488c3-3d06-4f3e-af49-eb470fadc2df",
   "metadata": {},
   "source": [
    "If you want to add some data to an list, you will use list.append(new_data). So, to add \"Otto\" to your friends_list, you can run the following code:"
   ]
  },
  {
   "cell_type": "code",
   "execution_count": 13,
   "id": "a16d62c3-96ef-49bb-a813-8be5bf0165e0",
   "metadata": {},
   "outputs": [],
   "source": [
    "# add single element to list\n",
    "friends_list.append(\"Otto\")"
   ]
  },
  {
   "cell_type": "code",
   "execution_count": 14,
   "id": "cf3a4eaa-476c-471f-ae6b-0659ed2af4d6",
   "metadata": {},
   "outputs": [
    {
     "name": "stdout",
     "output_type": "stream",
     "text": [
      "['Tommy', 'Isabel', 'Daniel', 'Otto']\n"
     ]
    }
   ],
   "source": [
    "print(friends_list)"
   ]
  },
  {
   "cell_type": "markdown",
   "id": "3fee8030-4da9-4ca9-9b37-6ca0d5fdb943",
   "metadata": {},
   "source": [
    "## Deleting elements\n"
   ]
  },
  {
   "cell_type": "markdown",
   "id": "9c684be7-d549-4b4a-9896-27f7e0ac8cec",
   "metadata": {},
   "source": [
    "Tommy moved to Bora Bora, so we can't be friends anymore. Let's remove Tommy from friends_list by using .remove():"
   ]
  },
  {
   "cell_type": "code",
   "execution_count": 15,
   "id": "d23ccc07-adf9-42a7-9aad-ce2223cdda26",
   "metadata": {},
   "outputs": [],
   "source": [
    "#using remove\n",
    "friends_list.remove(\"Tommy\")"
   ]
  },
  {
   "cell_type": "code",
   "execution_count": 16,
   "id": "14a29fbb-0f14-4d46-a81f-c4a79c36e217",
   "metadata": {},
   "outputs": [
    {
     "name": "stdout",
     "output_type": "stream",
     "text": [
      "['Isabel', 'Daniel', 'Otto']\n"
     ]
    }
   ],
   "source": [
    "print(friends_list)"
   ]
  },
  {
   "cell_type": "markdown",
   "id": "49a1b181-78f3-4193-bd06-9d7bf3d0d38b",
   "metadata": {},
   "source": [
    "## Lists with other data types\n",
    "\n",
    "Lists can hold any type of data. For instance, here is a list of number\n"
   ]
  },
  {
   "cell_type": "code",
   "execution_count": 17,
   "id": "a80f2142-d9f5-4058-b285-d5cb6922b14b",
   "metadata": {},
   "outputs": [],
   "source": [
    "list_ages = [42, 28, 30]"
   ]
  },
  {
   "cell_type": "code",
   "execution_count": 18,
   "id": "bd256fb5-33f1-4718-b22c-d18aa568a8f4",
   "metadata": {},
   "outputs": [
    {
     "name": "stdout",
     "output_type": "stream",
     "text": [
      "[42, 28, 30]\n"
     ]
    }
   ],
   "source": [
    "print(list_ages)"
   ]
  },
  {
   "cell_type": "markdown",
   "id": "ac775848-9918-4ca5-8fab-95eb8fbe1454",
   "metadata": {},
   "source": [
    "Lists can also hold long strings. Here's a list of tasks that might make up a todo list"
   ]
  },
  {
   "cell_type": "code",
   "execution_count": 19,
   "id": "ee8cfd4f-b27c-45fb-ba60-b8008b25dad5",
   "metadata": {},
   "outputs": [],
   "source": [
    "#list of tasks in priority order. Multi-line lists are allowed in python!\n",
    "list_of_tasks = [\n",
    "    \"Compose a brief email to my boss explaining that I will be late for tomorrow's meeting.\",\n",
    "    \"Wrcite a birthday poem for Otto, celebrating his 28th birthday.\",\n",
    "    \"Write a 100-word review of the movie 'The Arrival'.\"\n",
    "]"
   ]
  },
  {
   "cell_type": "markdown",
   "id": "3e207130-598a-4d8b-8a06-80925ec5f608",
   "metadata": {},
   "source": [
    "If you were wondering how to use lists with AI, take this example. Each element in the previous list is a string that you can pass to `print_llm_response()`. If you want an LLM to do each of these tasks for you, here's what you would do:\n",
    "\n",
    "Set a variable called `task` to each element in the list in turn, then pass it to `print_llm_response()`."
   ]
  },
  {
   "cell_type": "code",
   "execution_count": 20,
   "id": "8f01c92e-1afa-4f0f-b1ed-beda49e420f2",
   "metadata": {},
   "outputs": [
    {
     "name": "stdout",
     "output_type": "stream",
     "text": [
      "Subject: Running Late for Tomorrow's Meeting - [Your Name]\n",
      "\n",
      "Hi [Boss's Name],\n",
      "\n",
      "I'm writing to let you know that I will be running a bit late for tomorrow's meeting at [Meeting Time, e.g., 9:00 AM].\n",
      "\n",
      "I anticipate joining by [Estimated Time, e.g., 9:15 AM] / as soon as possible.\n",
      "\n",
      "I apologize for any inconvenience this may cause. I'll review the agenda beforehand and catch up quickly on anything I miss.\n",
      "\n",
      "Regards,\n",
      "\n",
      "[Your Name]\n"
     ]
    }
   ],
   "source": [
    "task = list_of_tasks[0]\n",
    "print(response(task).text)"
   ]
  },
  {
   "cell_type": "code",
   "execution_count": 21,
   "id": "4825e6d9-5ca7-4f43-8f65-d6f0c28cc621",
   "metadata": {},
   "outputs": [
    {
     "name": "stdout",
     "output_type": "stream",
     "text": [
      "To Otto, with a cheer so bright,\n",
      "We celebrate your special light!\n",
      "For twenty-eight years, strong and true,\n",
      "A world of wishes just for you.\n",
      "\n",
      "From youthful steps to wisdom's gleam,\n",
      "You've built your path, pursued your dream.\n",
      "With kindness shown and spirit keen,\n",
      "You're one of the best we've ever seen.\n",
      "\n",
      "This age, a time of vibrant might,\n",
      "Where futures shine with promise bright.\n",
      "May laughter fill your present day,\n",
      "And chase all worries far away.\n",
      "\n",
      "May new adventures come your way,\n",
      "And happiness light every day.\n",
      "May all your hopes and dreams take flight,\n",
      "And guide you through each day and night.\n",
      "\n",
      "So raise a glass, let spirits soar,\n",
      "To Otto, whom we all adore!\n",
      "Happy 28th, dear and true,\n",
      "We send our very best to you!\n"
     ]
    }
   ],
   "source": [
    "task = list_of_tasks[1]\n",
    "print(response(task).text)"
   ]
  },
  {
   "cell_type": "code",
   "execution_count": 22,
   "id": "6ed6fd72-7d07-4d5a-b9b9-bbc69617e6b4",
   "metadata": {},
   "outputs": [
    {
     "name": "stdout",
     "output_type": "stream",
     "text": [
      "\"Arrival\" transcends typical sci-fi, offering a profoundly moving and intellectually stimulating experience. Amy Adams delivers a captivating, empathetic performance as linguist Dr. Louise Banks, tasked with deciphering the complex, circular language of mysterious alien heptapods. Denis Villeneuve masterfully crafts a visually stunning and emotionally resonant narrative that eschews explosive action for intense cerebral engagement. The film's non-linear structure beautifully explores themes of communication, grief, love, and the perception of time, unraveling a unique perspective on choice and destiny. It's a poignant, thought-provoking masterpiece that lingers, celebrating the transformative power of understanding across all barriers.\n"
     ]
    }
   ],
   "source": [
    "task = list_of_tasks[2]\n",
    "print(response(task).text)"
   ]
  },
  {
   "cell_type": "markdown",
   "id": "150787df-29f9-4a3b-9a60-44c92abe254d",
   "metadata": {},
   "source": [
    "## Extra practice"
   ]
  },
  {
   "cell_type": "markdown",
   "id": "d657c223-1b34-44e2-ab09-0195796e4eb8",
   "metadata": {},
   "source": [
    "Please go through the exercises in the cells below if you want some extra practice for the topics you covered in this lesson."
   ]
  },
  {
   "cell_type": "code",
   "execution_count": 23,
   "id": "ca3346e6-eaa1-421e-adcf-13081730d662",
   "metadata": {},
   "outputs": [],
   "source": [
    "# Create a list with the titles \n",
    "# of five of your favorite movies\n",
    "\n",
    "### WRITE CODE HERE ###\n",
    "movie_list = [\"Mission Impossible\" , \"Titanic\" , \"Mr. Incredible\"]\n",
    "### --------------- ###"
   ]
  },
  {
   "cell_type": "code",
   "execution_count": 24,
   "id": "4bd046f3-29e4-4d66-b5a9-81b9d674961a",
   "metadata": {},
   "outputs": [
    {
     "name": "stdout",
     "output_type": "stream",
     "text": [
      "7\n"
     ]
    }
   ],
   "source": [
    "prime_numbers = [2, 3, 5, 7, 11]\n",
    "print(prime_numbers[3])"
   ]
  },
  {
   "cell_type": "code",
   "execution_count": 25,
   "id": "8b4b91b4-3402-4f36-bf26-c024ff5e0c49",
   "metadata": {},
   "outputs": [
    {
     "name": "stdout",
     "output_type": "stream",
     "text": [
      "7\n"
     ]
    }
   ],
   "source": [
    "# Fix the bug in the following code\n",
    "\n",
    "prime_numbers = [2, 3, 5, 7, 11]\n",
    "\n",
    "### FIX THIS CODE ###\n",
    "print(prime_numbers[3]) #access and print() the fourth element\n",
    "### --------------- ###"
   ]
  },
  {
   "cell_type": "code",
   "execution_count": 26,
   "id": "c46db3e4-ecb9-4207-9afa-fed8a4a7e0c2",
   "metadata": {},
   "outputs": [],
   "source": [
    "# In the following code, remove the country \n",
    "# that is not in South America\n",
    "\n",
    "countries_in_south_america = [\"Colombia\", \"Peru\", \n",
    "                              \"Brasil\", \"Japan\",\n",
    "                              \"Argentina\"]\n",
    "\n"
   ]
  },
  {
   "cell_type": "code",
   "execution_count": 27,
   "id": "69f24f9f-9a08-4dc7-b12c-781be3c5b405",
   "metadata": {},
   "outputs": [
    {
     "name": "stdout",
     "output_type": "stream",
     "text": [
      "['Colombia', 'Peru', 'Brasil', 'Argentina']\n"
     ]
    }
   ],
   "source": [
    "### WRITE CODE HERE ###\n",
    "countries_in_south_america.remove(\"Japan\")\n",
    "### --------------- ###\n",
    "\n",
    "print(countries_in_south_america)"
   ]
  }
 ],
 "metadata": {
  "kernelspec": {
   "display_name": "Python [conda env:base] *",
   "language": "python",
   "name": "conda-base-py"
  },
  "language_info": {
   "codemirror_mode": {
    "name": "ipython",
    "version": 3
   },
   "file_extension": ".py",
   "mimetype": "text/x-python",
   "name": "python",
   "nbconvert_exporter": "python",
   "pygments_lexer": "ipython3",
   "version": "3.12.2"
  }
 },
 "nbformat": 4,
 "nbformat_minor": 5
}
