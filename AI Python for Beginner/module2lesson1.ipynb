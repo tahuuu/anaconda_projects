{
 "cells": [
  {
   "cell_type": "markdown",
   "id": "028b49e2-ead5-4bd0-b877-059bdddbc50e",
   "metadata": {},
   "source": [
    "## Creating  a list\n",
    "Learn how to creating a list and execute a list of task with AI\n",
    "\n"
   ]
  },
  {
   "cell_type": "code",
   "execution_count": 3,
   "id": "47728759-08a5-43db-b504-09967a0d3c2b",
   "metadata": {},
   "outputs": [],
   "source": [
    "!pip install -q -U google-generativeai"
   ]
  },
  {
   "cell_type": "code",
   "execution_count": 4,
   "id": "665d242a-b5b3-42c0-85ce-e16b6e1cf7c2",
   "metadata": {},
   "outputs": [
    {
     "name": "stdout",
     "output_type": "stream",
     "text": [
      "API key loaded successfully!\n"
     ]
    }
   ],
   "source": [
    "import google.generativeai as genai\n",
    "\n",
    "from dotenv import load_dotenv\n",
    "import os\n",
    "\n",
    "# Load environment variables from .env file\n",
    "load_dotenv()\n",
    "\n",
    "# Get API key from environment\n",
    "api_key = os.getenv('GOOGLE_API_KEY')\n",
    "\n",
    "# Optional: Check if key loaded successfully\n",
    "if api_key is None:\n",
    "    print(\"Warning: API key not found!\")\n",
    "else:\n",
    "    print(\"API key loaded successfully!\")\n",
    "# Load the Gemini model\n",
    "model = genai.GenerativeModel(model_name=\"gemini-2.5-flash\")"
   ]
  },
  {
   "cell_type": "code",
   "execution_count": 5,
   "id": "a17a3f9a-f71f-4fea-a897-40217983e124",
   "metadata": {},
   "outputs": [],
   "source": [
    "response = model.generate_content"
   ]
  },
  {
   "cell_type": "markdown",
   "id": "2e601e69-46a0-48a6-a158-0afcd5824a91",
   "metadata": {},
   "source": [
    "Below is a sample of a List"
   ]
  },
  {
   "cell_type": "code",
   "execution_count": 6,
   "id": "c79072c9-3506-4610-b206-5a41143e7313",
   "metadata": {},
   "outputs": [],
   "source": [
    "friends_list = [\"Tommy\", \"Isabel\", \"Daniel\"]"
   ]
  },
  {
   "cell_type": "code",
   "execution_count": 7,
   "id": "43795494-7ee9-4aef-90bd-d5712240d502",
   "metadata": {},
   "outputs": [
    {
     "name": "stdout",
     "output_type": "stream",
     "text": [
      "['Tommy', 'Isabel', 'Daniel']\n"
     ]
    }
   ],
   "source": [
    "print(friends_list)"
   ]
  },
  {
   "cell_type": "markdown",
   "id": "ab071f35-87c1-4d25-b887-5846874b9f51",
   "metadata": {},
   "source": [
    "`friends_list` is a single variable of type `list` that holds multiple values."
   ]
  },
  {
   "cell_type": "code",
   "execution_count": 9,
   "id": "5cd1764b-ca94-4d5b-b57d-6344aa7321fe",
   "metadata": {},
   "outputs": [
    {
     "data": {
      "text/plain": [
       "list"
      ]
     },
     "execution_count": 9,
     "metadata": {},
     "output_type": "execute_result"
    }
   ],
   "source": [
    "type(friends_list)"
   ]
  },
  {
   "cell_type": "markdown",
   "id": "3a2ffc2c-2eb7-4a22-9f2f-ca0aec8e3568",
   "metadata": {},
   "source": [
    "You can check how many values are stored in the list by using `len()`:"
   ]
  },
  {
   "cell_type": "code",
   "execution_count": 10,
   "id": "34a325ac-3504-423d-b4d4-260b23768d41",
   "metadata": {},
   "outputs": [
    {
     "data": {
      "text/plain": [
       "3"
      ]
     },
     "execution_count": 10,
     "metadata": {},
     "output_type": "execute_result"
    }
   ],
   "source": [
    "len(friends_list)"
   ]
  },
  {
   "cell_type": "markdown",
   "id": "5c107f3c-9e11-4cf9-a66d-92185ba0506c",
   "metadata": {},
   "source": [
    "So this list has three elements."
   ]
  },
  {
   "cell_type": "markdown",
   "id": "b00b1a5d-32c6-41e4-b733-ad516d314f75",
   "metadata": {},
   "source": [
    "You can use lists as you used variables before within LLM prompts. Below, you are including the `friends_list` in the prompt to write four-line birthday poems for `'Tommy'`, `'Isabel'` and `'Daniel'`."
   ]
  },
  {
   "cell_type": "code",
   "execution_count": 8,
   "id": "890a0354-6080-4f13-8adf-c170f59758c1",
   "metadata": {},
   "outputs": [
    {
     "name": "stdout",
     "output_type": "stream",
     "text": [
      "\n",
      "Write a set of four line birthday poems for my friends ['Tommy', 'Isabel', 'Daniel']. \n",
      "The poems should be insipred by the first letter of each friend's name. Provide it in plain text without any formatting\n",
      "\n"
     ]
    }
   ],
   "source": [
    "prompt = f\"\"\"\n",
    "Write a set of four line birthday poems for my friends {friends_list}. \n",
    "The poems should be insipred by the first letter of each friend's name. Provide it in plain text without any formatting\n",
    "\"\"\"\n",
    "print(prompt)"
   ]
  },
  {
   "cell_type": "markdown",
   "id": "27c562c6-b0dd-4ede-8ed4-95d0ed2c5744",
   "metadata": {},
   "source": [
    "Now, you can use that prompt with the LLM:"
   ]
  },
  {
   "cell_type": "code",
   "execution_count": 9,
   "id": "1757d134-a432-4810-8289-f247969f1cf1",
   "metadata": {},
   "outputs": [
    {
     "ename": "DefaultCredentialsError",
     "evalue": "\n  No API_KEY or ADC found. Please either:\n    - Set the `GOOGLE_API_KEY` environment variable.\n    - Manually pass the key with `genai.configure(api_key=my_api_key)`.\n    - Or set up Application Default Credentials, see https://ai.google.dev/gemini-api/docs/oauth for more information.",
     "output_type": "error",
     "traceback": [
      "\u001b[0;31m---------------------------------------------------------------------------\u001b[0m",
      "\u001b[0;31mDefaultCredentialsError\u001b[0m                   Traceback (most recent call last)",
      "Cell \u001b[0;32mIn[9], line 1\u001b[0m\n\u001b[0;32m----> 1\u001b[0m \u001b[38;5;28mprint\u001b[39m(response(prompt)\u001b[38;5;241m.\u001b[39mtext)\n",
      "File \u001b[0;32m/opt/anaconda3/lib/python3.12/site-packages/google/generativeai/generative_models.py:317\u001b[0m, in \u001b[0;36mGenerativeModel.generate_content\u001b[0;34m(self, contents, generation_config, safety_settings, stream, tools, tool_config, request_options)\u001b[0m\n\u001b[1;32m    314\u001b[0m     request\u001b[38;5;241m.\u001b[39mcontents[\u001b[38;5;241m-\u001b[39m\u001b[38;5;241m1\u001b[39m]\u001b[38;5;241m.\u001b[39mrole \u001b[38;5;241m=\u001b[39m _USER_ROLE\n\u001b[1;32m    316\u001b[0m \u001b[38;5;28;01mif\u001b[39;00m \u001b[38;5;28mself\u001b[39m\u001b[38;5;241m.\u001b[39m_client \u001b[38;5;129;01mis\u001b[39;00m \u001b[38;5;28;01mNone\u001b[39;00m:\n\u001b[0;32m--> 317\u001b[0m     \u001b[38;5;28mself\u001b[39m\u001b[38;5;241m.\u001b[39m_client \u001b[38;5;241m=\u001b[39m client\u001b[38;5;241m.\u001b[39mget_default_generative_client()\n\u001b[1;32m    319\u001b[0m \u001b[38;5;28;01mif\u001b[39;00m request_options \u001b[38;5;129;01mis\u001b[39;00m \u001b[38;5;28;01mNone\u001b[39;00m:\n\u001b[1;32m    320\u001b[0m     request_options \u001b[38;5;241m=\u001b[39m {}\n",
      "File \u001b[0;32m/opt/anaconda3/lib/python3.12/site-packages/google/generativeai/client.py:360\u001b[0m, in \u001b[0;36mget_default_generative_client\u001b[0;34m()\u001b[0m\n\u001b[1;32m    359\u001b[0m \u001b[38;5;28;01mdef\u001b[39;00m \u001b[38;5;21mget_default_generative_client\u001b[39m() \u001b[38;5;241m-\u001b[39m\u001b[38;5;241m>\u001b[39m glm\u001b[38;5;241m.\u001b[39mGenerativeServiceClient:\n\u001b[0;32m--> 360\u001b[0m     \u001b[38;5;28;01mreturn\u001b[39;00m _client_manager\u001b[38;5;241m.\u001b[39mget_default_client(\u001b[38;5;124m\"\u001b[39m\u001b[38;5;124mgenerative\u001b[39m\u001b[38;5;124m\"\u001b[39m)\n",
      "File \u001b[0;32m/opt/anaconda3/lib/python3.12/site-packages/google/generativeai/client.py:289\u001b[0m, in \u001b[0;36m_ClientManager.get_default_client\u001b[0;34m(self, name)\u001b[0m\n\u001b[1;32m    287\u001b[0m client \u001b[38;5;241m=\u001b[39m \u001b[38;5;28mself\u001b[39m\u001b[38;5;241m.\u001b[39mclients\u001b[38;5;241m.\u001b[39mget(name)\n\u001b[1;32m    288\u001b[0m \u001b[38;5;28;01mif\u001b[39;00m client \u001b[38;5;129;01mis\u001b[39;00m \u001b[38;5;28;01mNone\u001b[39;00m:\n\u001b[0;32m--> 289\u001b[0m     client \u001b[38;5;241m=\u001b[39m \u001b[38;5;28mself\u001b[39m\u001b[38;5;241m.\u001b[39mmake_client(name)\n\u001b[1;32m    290\u001b[0m     \u001b[38;5;28mself\u001b[39m\u001b[38;5;241m.\u001b[39mclients[name] \u001b[38;5;241m=\u001b[39m client\n\u001b[1;32m    291\u001b[0m \u001b[38;5;28;01mreturn\u001b[39;00m client\n",
      "File \u001b[0;32m/opt/anaconda3/lib/python3.12/site-packages/google/generativeai/client.py:249\u001b[0m, in \u001b[0;36m_ClientManager.make_client\u001b[0;34m(self, name)\u001b[0m\n\u001b[1;32m    242\u001b[0m \u001b[38;5;28;01mexcept\u001b[39;00m ga_exceptions\u001b[38;5;241m.\u001b[39mDefaultCredentialsError \u001b[38;5;28;01mas\u001b[39;00m e:\n\u001b[1;32m    243\u001b[0m     e\u001b[38;5;241m.\u001b[39margs \u001b[38;5;241m=\u001b[39m (\n\u001b[1;32m    244\u001b[0m         \u001b[38;5;124m\"\u001b[39m\u001b[38;5;130;01m\\n\u001b[39;00m\u001b[38;5;124m  No API_KEY or ADC found. Please either:\u001b[39m\u001b[38;5;130;01m\\n\u001b[39;00m\u001b[38;5;124m\"\u001b[39m\n\u001b[1;32m    245\u001b[0m         \u001b[38;5;124m\"\u001b[39m\u001b[38;5;124m    - Set the `GOOGLE_API_KEY` environment variable.\u001b[39m\u001b[38;5;130;01m\\n\u001b[39;00m\u001b[38;5;124m\"\u001b[39m\n\u001b[1;32m    246\u001b[0m         \u001b[38;5;124m\"\u001b[39m\u001b[38;5;124m    - Manually pass the key with `genai.configure(api_key=my_api_key)`.\u001b[39m\u001b[38;5;130;01m\\n\u001b[39;00m\u001b[38;5;124m\"\u001b[39m\n\u001b[1;32m    247\u001b[0m         \u001b[38;5;124m\"\u001b[39m\u001b[38;5;124m    - Or set up Application Default Credentials, see https://ai.google.dev/gemini-api/docs/oauth for more information.\u001b[39m\u001b[38;5;124m\"\u001b[39m,\n\u001b[1;32m    248\u001b[0m     )\n\u001b[0;32m--> 249\u001b[0m     \u001b[38;5;28;01mraise\u001b[39;00m e\n\u001b[1;32m    251\u001b[0m \u001b[38;5;28;01mif\u001b[39;00m \u001b[38;5;129;01mnot\u001b[39;00m \u001b[38;5;28mself\u001b[39m\u001b[38;5;241m.\u001b[39mdefault_metadata:\n\u001b[1;32m    252\u001b[0m     \u001b[38;5;28;01mreturn\u001b[39;00m client\n",
      "File \u001b[0;32m/opt/anaconda3/lib/python3.12/site-packages/google/generativeai/client.py:241\u001b[0m, in \u001b[0;36m_ClientManager.make_client\u001b[0;34m(self, name)\u001b[0m\n\u001b[1;32m    239\u001b[0m \u001b[38;5;28;01mtry\u001b[39;00m:\n\u001b[1;32m    240\u001b[0m     \u001b[38;5;28;01mwith\u001b[39;00m patch_colab_gce_credentials():\n\u001b[0;32m--> 241\u001b[0m         client \u001b[38;5;241m=\u001b[39m \u001b[38;5;28mcls\u001b[39m(\u001b[38;5;241m*\u001b[39m\u001b[38;5;241m*\u001b[39m\u001b[38;5;28mself\u001b[39m\u001b[38;5;241m.\u001b[39mclient_config)\n\u001b[1;32m    242\u001b[0m \u001b[38;5;28;01mexcept\u001b[39;00m ga_exceptions\u001b[38;5;241m.\u001b[39mDefaultCredentialsError \u001b[38;5;28;01mas\u001b[39;00m e:\n\u001b[1;32m    243\u001b[0m     e\u001b[38;5;241m.\u001b[39margs \u001b[38;5;241m=\u001b[39m (\n\u001b[1;32m    244\u001b[0m         \u001b[38;5;124m\"\u001b[39m\u001b[38;5;130;01m\\n\u001b[39;00m\u001b[38;5;124m  No API_KEY or ADC found. Please either:\u001b[39m\u001b[38;5;130;01m\\n\u001b[39;00m\u001b[38;5;124m\"\u001b[39m\n\u001b[1;32m    245\u001b[0m         \u001b[38;5;124m\"\u001b[39m\u001b[38;5;124m    - Set the `GOOGLE_API_KEY` environment variable.\u001b[39m\u001b[38;5;130;01m\\n\u001b[39;00m\u001b[38;5;124m\"\u001b[39m\n\u001b[1;32m    246\u001b[0m         \u001b[38;5;124m\"\u001b[39m\u001b[38;5;124m    - Manually pass the key with `genai.configure(api_key=my_api_key)`.\u001b[39m\u001b[38;5;130;01m\\n\u001b[39;00m\u001b[38;5;124m\"\u001b[39m\n\u001b[1;32m    247\u001b[0m         \u001b[38;5;124m\"\u001b[39m\u001b[38;5;124m    - Or set up Application Default Credentials, see https://ai.google.dev/gemini-api/docs/oauth for more information.\u001b[39m\u001b[38;5;124m\"\u001b[39m,\n\u001b[1;32m    248\u001b[0m     )\n",
      "File \u001b[0;32m/opt/anaconda3/lib/python3.12/site-packages/google/ai/generativelanguage_v1beta/services/generative_service/client.py:667\u001b[0m, in \u001b[0;36mGenerativeServiceClient.__init__\u001b[0;34m(self, credentials, transport, client_options, client_info)\u001b[0m\n\u001b[1;32m    658\u001b[0m     transport_init: Union[\n\u001b[1;32m    659\u001b[0m         Type[GenerativeServiceTransport],\n\u001b[1;32m    660\u001b[0m         Callable[\u001b[38;5;241m.\u001b[39m\u001b[38;5;241m.\u001b[39m\u001b[38;5;241m.\u001b[39m, GenerativeServiceTransport],\n\u001b[0;32m   (...)\u001b[0m\n\u001b[1;32m    664\u001b[0m         \u001b[38;5;28;01melse\u001b[39;00m cast(Callable[\u001b[38;5;241m.\u001b[39m\u001b[38;5;241m.\u001b[39m\u001b[38;5;241m.\u001b[39m, GenerativeServiceTransport], transport)\n\u001b[1;32m    665\u001b[0m     )\n\u001b[1;32m    666\u001b[0m     \u001b[38;5;66;03m# initialize with the provided callable or the passed in class\u001b[39;00m\n\u001b[0;32m--> 667\u001b[0m     \u001b[38;5;28mself\u001b[39m\u001b[38;5;241m.\u001b[39m_transport \u001b[38;5;241m=\u001b[39m transport_init(\n\u001b[1;32m    668\u001b[0m         credentials\u001b[38;5;241m=\u001b[39mcredentials,\n\u001b[1;32m    669\u001b[0m         credentials_file\u001b[38;5;241m=\u001b[39m\u001b[38;5;28mself\u001b[39m\u001b[38;5;241m.\u001b[39m_client_options\u001b[38;5;241m.\u001b[39mcredentials_file,\n\u001b[1;32m    670\u001b[0m         host\u001b[38;5;241m=\u001b[39m\u001b[38;5;28mself\u001b[39m\u001b[38;5;241m.\u001b[39m_api_endpoint,\n\u001b[1;32m    671\u001b[0m         scopes\u001b[38;5;241m=\u001b[39m\u001b[38;5;28mself\u001b[39m\u001b[38;5;241m.\u001b[39m_client_options\u001b[38;5;241m.\u001b[39mscopes,\n\u001b[1;32m    672\u001b[0m         client_cert_source_for_mtls\u001b[38;5;241m=\u001b[39m\u001b[38;5;28mself\u001b[39m\u001b[38;5;241m.\u001b[39m_client_cert_source,\n\u001b[1;32m    673\u001b[0m         quota_project_id\u001b[38;5;241m=\u001b[39m\u001b[38;5;28mself\u001b[39m\u001b[38;5;241m.\u001b[39m_client_options\u001b[38;5;241m.\u001b[39mquota_project_id,\n\u001b[1;32m    674\u001b[0m         client_info\u001b[38;5;241m=\u001b[39mclient_info,\n\u001b[1;32m    675\u001b[0m         always_use_jwt_access\u001b[38;5;241m=\u001b[39m\u001b[38;5;28;01mTrue\u001b[39;00m,\n\u001b[1;32m    676\u001b[0m         api_audience\u001b[38;5;241m=\u001b[39m\u001b[38;5;28mself\u001b[39m\u001b[38;5;241m.\u001b[39m_client_options\u001b[38;5;241m.\u001b[39mapi_audience,\n\u001b[1;32m    677\u001b[0m     )\n\u001b[1;32m    679\u001b[0m \u001b[38;5;28;01mif\u001b[39;00m \u001b[38;5;124m\"\u001b[39m\u001b[38;5;124masync\u001b[39m\u001b[38;5;124m\"\u001b[39m \u001b[38;5;129;01mnot\u001b[39;00m \u001b[38;5;129;01min\u001b[39;00m \u001b[38;5;28mstr\u001b[39m(\u001b[38;5;28mself\u001b[39m\u001b[38;5;241m.\u001b[39m_transport):\n\u001b[1;32m    680\u001b[0m     \u001b[38;5;28;01mif\u001b[39;00m CLIENT_LOGGING_SUPPORTED \u001b[38;5;129;01mand\u001b[39;00m _LOGGER\u001b[38;5;241m.\u001b[39misEnabledFor(\n\u001b[1;32m    681\u001b[0m         std_logging\u001b[38;5;241m.\u001b[39mDEBUG\n\u001b[1;32m    682\u001b[0m     ):  \u001b[38;5;66;03m# pragma: NO COVER\u001b[39;00m\n",
      "File \u001b[0;32m/opt/anaconda3/lib/python3.12/site-packages/google/ai/generativelanguage_v1beta/services/generative_service/transports/grpc.py:235\u001b[0m, in \u001b[0;36mGenerativeServiceGrpcTransport.__init__\u001b[0;34m(self, host, credentials, credentials_file, scopes, channel, api_mtls_endpoint, client_cert_source, ssl_channel_credentials, client_cert_source_for_mtls, quota_project_id, client_info, always_use_jwt_access, api_audience)\u001b[0m\n\u001b[1;32m    230\u001b[0m             \u001b[38;5;28mself\u001b[39m\u001b[38;5;241m.\u001b[39m_ssl_channel_credentials \u001b[38;5;241m=\u001b[39m grpc\u001b[38;5;241m.\u001b[39mssl_channel_credentials(\n\u001b[1;32m    231\u001b[0m                 certificate_chain\u001b[38;5;241m=\u001b[39mcert, private_key\u001b[38;5;241m=\u001b[39mkey\n\u001b[1;32m    232\u001b[0m             )\n\u001b[1;32m    234\u001b[0m \u001b[38;5;66;03m# The base transport sets the host, credentials and scopes\u001b[39;00m\n\u001b[0;32m--> 235\u001b[0m \u001b[38;5;28msuper\u001b[39m()\u001b[38;5;241m.\u001b[39m\u001b[38;5;21m__init__\u001b[39m(\n\u001b[1;32m    236\u001b[0m     host\u001b[38;5;241m=\u001b[39mhost,\n\u001b[1;32m    237\u001b[0m     credentials\u001b[38;5;241m=\u001b[39mcredentials,\n\u001b[1;32m    238\u001b[0m     credentials_file\u001b[38;5;241m=\u001b[39mcredentials_file,\n\u001b[1;32m    239\u001b[0m     scopes\u001b[38;5;241m=\u001b[39mscopes,\n\u001b[1;32m    240\u001b[0m     quota_project_id\u001b[38;5;241m=\u001b[39mquota_project_id,\n\u001b[1;32m    241\u001b[0m     client_info\u001b[38;5;241m=\u001b[39mclient_info,\n\u001b[1;32m    242\u001b[0m     always_use_jwt_access\u001b[38;5;241m=\u001b[39malways_use_jwt_access,\n\u001b[1;32m    243\u001b[0m     api_audience\u001b[38;5;241m=\u001b[39mapi_audience,\n\u001b[1;32m    244\u001b[0m )\n\u001b[1;32m    246\u001b[0m \u001b[38;5;28;01mif\u001b[39;00m \u001b[38;5;129;01mnot\u001b[39;00m \u001b[38;5;28mself\u001b[39m\u001b[38;5;241m.\u001b[39m_grpc_channel:\n\u001b[1;32m    247\u001b[0m     \u001b[38;5;66;03m# initialize with the provided callable or the default channel\u001b[39;00m\n\u001b[1;32m    248\u001b[0m     channel_init \u001b[38;5;241m=\u001b[39m channel \u001b[38;5;129;01mor\u001b[39;00m \u001b[38;5;28mtype\u001b[39m(\u001b[38;5;28mself\u001b[39m)\u001b[38;5;241m.\u001b[39mcreate_channel\n",
      "File \u001b[0;32m/opt/anaconda3/lib/python3.12/site-packages/google/ai/generativelanguage_v1beta/services/generative_service/transports/base.py:100\u001b[0m, in \u001b[0;36mGenerativeServiceTransport.__init__\u001b[0;34m(self, host, credentials, credentials_file, scopes, quota_project_id, client_info, always_use_jwt_access, api_audience, **kwargs)\u001b[0m\n\u001b[1;32m     96\u001b[0m     credentials, _ \u001b[38;5;241m=\u001b[39m google\u001b[38;5;241m.\u001b[39mauth\u001b[38;5;241m.\u001b[39mload_credentials_from_file(\n\u001b[1;32m     97\u001b[0m         credentials_file, \u001b[38;5;241m*\u001b[39m\u001b[38;5;241m*\u001b[39mscopes_kwargs, quota_project_id\u001b[38;5;241m=\u001b[39mquota_project_id\n\u001b[1;32m     98\u001b[0m     )\n\u001b[1;32m     99\u001b[0m \u001b[38;5;28;01melif\u001b[39;00m credentials \u001b[38;5;129;01mis\u001b[39;00m \u001b[38;5;28;01mNone\u001b[39;00m \u001b[38;5;129;01mand\u001b[39;00m \u001b[38;5;129;01mnot\u001b[39;00m \u001b[38;5;28mself\u001b[39m\u001b[38;5;241m.\u001b[39m_ignore_credentials:\n\u001b[0;32m--> 100\u001b[0m     credentials, _ \u001b[38;5;241m=\u001b[39m google\u001b[38;5;241m.\u001b[39mauth\u001b[38;5;241m.\u001b[39mdefault(\n\u001b[1;32m    101\u001b[0m         \u001b[38;5;241m*\u001b[39m\u001b[38;5;241m*\u001b[39mscopes_kwargs, quota_project_id\u001b[38;5;241m=\u001b[39mquota_project_id\n\u001b[1;32m    102\u001b[0m     )\n\u001b[1;32m    103\u001b[0m     \u001b[38;5;66;03m# Don't apply audience if the credentials file passed from user.\u001b[39;00m\n\u001b[1;32m    104\u001b[0m     \u001b[38;5;28;01mif\u001b[39;00m \u001b[38;5;28mhasattr\u001b[39m(credentials, \u001b[38;5;124m\"\u001b[39m\u001b[38;5;124mwith_gdch_audience\u001b[39m\u001b[38;5;124m\"\u001b[39m):\n",
      "File \u001b[0;32m/opt/anaconda3/lib/python3.12/site-packages/google/auth/_default.py:685\u001b[0m, in \u001b[0;36mdefault\u001b[0;34m(scopes, request, quota_project_id, default_scopes)\u001b[0m\n\u001b[1;32m    677\u001b[0m             _LOGGER\u001b[38;5;241m.\u001b[39mwarning(\n\u001b[1;32m    678\u001b[0m                 \u001b[38;5;124m\"\u001b[39m\u001b[38;5;124mNo project ID could be determined. Consider running \u001b[39m\u001b[38;5;124m\"\u001b[39m\n\u001b[1;32m    679\u001b[0m                 \u001b[38;5;124m\"\u001b[39m\u001b[38;5;124m`gcloud config set project` or setting the \u001b[39m\u001b[38;5;132;01m%s\u001b[39;00m\u001b[38;5;124m \u001b[39m\u001b[38;5;124m\"\u001b[39m\n\u001b[1;32m    680\u001b[0m                 \u001b[38;5;124m\"\u001b[39m\u001b[38;5;124menvironment variable\u001b[39m\u001b[38;5;124m\"\u001b[39m,\n\u001b[1;32m    681\u001b[0m                 environment_vars\u001b[38;5;241m.\u001b[39mPROJECT,\n\u001b[1;32m    682\u001b[0m             )\n\u001b[1;32m    683\u001b[0m         \u001b[38;5;28;01mreturn\u001b[39;00m credentials, effective_project_id\n\u001b[0;32m--> 685\u001b[0m \u001b[38;5;28;01mraise\u001b[39;00m exceptions\u001b[38;5;241m.\u001b[39mDefaultCredentialsError(_CLOUD_SDK_MISSING_CREDENTIALS)\n",
      "\u001b[0;31mDefaultCredentialsError\u001b[0m: \n  No API_KEY or ADC found. Please either:\n    - Set the `GOOGLE_API_KEY` environment variable.\n    - Manually pass the key with `genai.configure(api_key=my_api_key)`.\n    - Or set up Application Default Credentials, see https://ai.google.dev/gemini-api/docs/oauth for more information."
     ]
    }
   ],
   "source": [
    "print(response(prompt).text)"
   ]
  },
  {
   "cell_type": "markdown",
   "id": "ee3ac7ff-cd83-4096-b85b-63a2748b196a",
   "metadata": {},
   "source": [
    "## Accessing individual elements of a list\n"
   ]
  },
  {
   "cell_type": "markdown",
   "id": "ae957453-4484-47ed-aa54-d0e9205424aa",
   "metadata": {},
   "source": [
    "You can access individual elements from a list. "
   ]
  },
  {
   "cell_type": "markdown",
   "id": "990e8a0f-516f-4178-9d96-0030237cdcea",
   "metadata": {},
   "source": [
    "For instance, to access the first element, you would use the following code:"
   ]
  },
  {
   "cell_type": "code",
   "execution_count": 21,
   "id": "77393fd3-42bf-4b44-b8d9-1fb7988c5e5a",
   "metadata": {},
   "outputs": [
    {
     "name": "stdout",
     "output_type": "stream",
     "text": [
      "Tommy\n"
     ]
    }
   ],
   "source": [
    "first_friend = friends_list[0]\n",
    "print(first_friend)  # Output: Tommy"
   ]
  },
  {
   "cell_type": "markdown",
   "id": "6f187701-6134-45f2-a38b-009bfa7baf3a",
   "metadata": {},
   "source": [
    "To access the second element, you would use the following code:"
   ]
  },
  {
   "cell_type": "code",
   "execution_count": 23,
   "id": "e812dbba-74db-4c80-aed5-836bd31db93b",
   "metadata": {},
   "outputs": [
    {
     "name": "stdout",
     "output_type": "stream",
     "text": [
      "Isabel\n"
     ]
    }
   ],
   "source": [
    "print(friends_list[1]) # Output: Isabel"
   ]
  },
  {
   "cell_type": "markdown",
   "id": "d7d028cd-62ba-4983-90a6-29d2c942669b",
   "metadata": {},
   "source": [
    "## Adding another element to the list\n"
   ]
  },
  {
   "cell_type": "markdown",
   "id": "29b488c3-3d06-4f3e-af49-eb470fadc2df",
   "metadata": {},
   "source": [
    "If you want to add some data to an list, you will use list.append(new_data). So, to add \"Otto\" to your friends_list, you can run the following code:"
   ]
  },
  {
   "cell_type": "code",
   "execution_count": 24,
   "id": "a16d62c3-96ef-49bb-a813-8be5bf0165e0",
   "metadata": {},
   "outputs": [],
   "source": [
    "# add single element to list\n",
    "friends_list.append(\"Otto\")"
   ]
  },
  {
   "cell_type": "code",
   "execution_count": 25,
   "id": "cf3a4eaa-476c-471f-ae6b-0659ed2af4d6",
   "metadata": {},
   "outputs": [
    {
     "name": "stdout",
     "output_type": "stream",
     "text": [
      "['Tommy', 'Isabel', 'Daniel', 'Otto']\n"
     ]
    }
   ],
   "source": [
    "print(friends_list)"
   ]
  },
  {
   "cell_type": "markdown",
   "id": "3fee8030-4da9-4ca9-9b37-6ca0d5fdb943",
   "metadata": {},
   "source": [
    "## Deleting elements\n"
   ]
  },
  {
   "cell_type": "markdown",
   "id": "9c684be7-d549-4b4a-9896-27f7e0ac8cec",
   "metadata": {},
   "source": [
    "Tommy moved to Bora Bora, so we can't be friends anymore. Let's remove Tommy from friends_list by using .remove():"
   ]
  },
  {
   "cell_type": "code",
   "execution_count": 26,
   "id": "d23ccc07-adf9-42a7-9aad-ce2223cdda26",
   "metadata": {},
   "outputs": [],
   "source": [
    "#using remove\n",
    "friends_list.remove(\"Tommy\")"
   ]
  },
  {
   "cell_type": "code",
   "execution_count": 27,
   "id": "14a29fbb-0f14-4d46-a81f-c4a79c36e217",
   "metadata": {},
   "outputs": [
    {
     "name": "stdout",
     "output_type": "stream",
     "text": [
      "['Isabel', 'Daniel', 'Otto']\n"
     ]
    }
   ],
   "source": [
    "print(friends_list)"
   ]
  },
  {
   "cell_type": "markdown",
   "id": "49a1b181-78f3-4193-bd06-9d7bf3d0d38b",
   "metadata": {},
   "source": [
    "## Lists with other data types\n",
    "\n",
    "Lists can hold any type of data. For instance, here is a list of number\n"
   ]
  },
  {
   "cell_type": "code",
   "execution_count": 28,
   "id": "a80f2142-d9f5-4058-b285-d5cb6922b14b",
   "metadata": {},
   "outputs": [],
   "source": [
    "list_ages = [42, 28, 30]"
   ]
  },
  {
   "cell_type": "code",
   "execution_count": 29,
   "id": "bd256fb5-33f1-4718-b22c-d18aa568a8f4",
   "metadata": {},
   "outputs": [
    {
     "name": "stdout",
     "output_type": "stream",
     "text": [
      "[42, 28, 30]\n"
     ]
    }
   ],
   "source": [
    "print(list_ages)"
   ]
  },
  {
   "cell_type": "markdown",
   "id": "ac775848-9918-4ca5-8fab-95eb8fbe1454",
   "metadata": {},
   "source": [
    "Lists can also hold long strings. Here's a list of tasks that might make up a todo list"
   ]
  },
  {
   "cell_type": "code",
   "execution_count": 35,
   "id": "ee8cfd4f-b27c-45fb-ba60-b8008b25dad5",
   "metadata": {},
   "outputs": [],
   "source": [
    "#list of tasks in priority order. Multi-line lists are allowed in python!\n",
    "list_of_tasks = [\n",
    "    \"Compose a brief email to my boss explaining that I will be late for tomorrow's meeting.\",\n",
    "    \"Wrcite a birthday poem for Otto, celebrating his 28th birthday.\",\n",
    "    \"Write a 100-word review of the movie 'The Arrival'.\"\n",
    "]"
   ]
  },
  {
   "cell_type": "markdown",
   "id": "3e207130-598a-4d8b-8a06-80925ec5f608",
   "metadata": {},
   "source": [
    "If you were wondering how to use lists with AI, take this example. Each element in the previous list is a string that you can pass to `print_llm_response()`. If you want an LLM to do each of these tasks for you, here's what you would do:\n",
    "\n",
    "Set a variable called `task` to each element in the list in turn, then pass it to `print_llm_response()`."
   ]
  },
  {
   "cell_type": "code",
   "execution_count": 32,
   "id": "8f01c92e-1afa-4f0f-b1ed-beda49e420f2",
   "metadata": {},
   "outputs": [
    {
     "name": "stdout",
     "output_type": "stream",
     "text": [
      "Subject: Lateness for Tomorrow's [Meeting Name, if known] Meeting\n",
      "\n",
      "Dear [Boss's Name],\n",
      "\n",
      "I am writing to let you know that I will unfortunately be late for tomorrow's [Meeting Name, if applicable] meeting.\n",
      "\n",
      "I anticipate joining by approximately [Time] and apologize for any inconvenience this may cause. I will catch up on anything I miss as quickly as possible.\n",
      "\n",
      "Regards,\n",
      "\n",
      "[Your Name]\n"
     ]
    }
   ],
   "source": [
    "task = list_of_tasks[0]\n",
    "print(response(task).text)"
   ]
  },
  {
   "cell_type": "code",
   "execution_count": 34,
   "id": "4825e6d9-5ca7-4f43-8f65-d6f0c28cc621",
   "metadata": {},
   "outputs": [
    {
     "name": "stdout",
     "output_type": "stream",
     "text": [
      "The candles glow, the smiles are bright,\n",
      "Filling the air with pure delight.\n",
      "For Otto, dear, the day is here,\n",
      "Your twenty-eighth, let's give a cheer!\n",
      "\n",
      "Eight and twenty years have spun,\n",
      "Since your remarkable life begun.\n",
      "Each chapter written, strong and true,\n",
      "With all the wisdom gained by you.\n",
      "\n",
      "Your spirit's bright, your laughter clear,\n",
      "A welcome presence, year by year.\n",
      "With kindness, strength, and steady grace,\n",
      "You light up every time and place.\n",
      "\n",
      "The future calls with open door,\n",
      "For dreams to chase and to explore.\n",
      "May joy and wonder pave your way,\n",
      "And happiness fill every day.\n",
      "\n",
      "So raise a glass, let good times flow,\n",
      "And may your coming year truly glow.\n",
      "Happy birthday, Otto, grand and true,\n",
      "We're so incredibly proud of you!\n"
     ]
    }
   ],
   "source": [
    "task = list_of_tasks[1]\n",
    "print(response(task).text)"
   ]
  },
  {
   "cell_type": "code",
   "execution_count": 36,
   "id": "6ed6fd72-7d07-4d5a-b9b9-bbc69617e6b4",
   "metadata": {},
   "outputs": [
    {
     "name": "stdout",
     "output_type": "stream",
     "text": [
      "Denis Villeneuve's \"Arrival\" is a profoundly intelligent and emotionally resonant sci-fi masterpiece. When mysterious alien spacecraft appear worldwide, linguist Dr. Louise Banks (Amy Adams) is tasked with deciphering their complex, circular language. Far from a typical invasion flick, the film masterfully explores communication, empathy, and the nature of time itself.\n",
      "\n",
      "Adams delivers a career-defining performance, portraying Louise's journey with nuanced vulnerability and unwavering determination. Villeneuve's direction is visually stunning and intellectually stimulating, creating a tense yet meditative atmosphere. The narrative skillfully intertwines global stakes with a deeply personal, heartbreaking revelation. \"Arrival\" is a thought-provoking, unforgettable experience that lingers long after the credits roll, challenging perceptions of linearity and connection.\n"
     ]
    }
   ],
   "source": [
    "task = list_of_tasks[2]\n",
    "print(response(task).text)"
   ]
  },
  {
   "cell_type": "markdown",
   "id": "150787df-29f9-4a3b-9a60-44c92abe254d",
   "metadata": {},
   "source": [
    "## Extra practice"
   ]
  },
  {
   "cell_type": "markdown",
   "id": "d657c223-1b34-44e2-ab09-0195796e4eb8",
   "metadata": {},
   "source": [
    "Please go through the exercises in the cells below if you want some extra practice for the topics you covered in this lesson."
   ]
  },
  {
   "cell_type": "code",
   "execution_count": 37,
   "id": "ca3346e6-eaa1-421e-adcf-13081730d662",
   "metadata": {},
   "outputs": [],
   "source": [
    "# Create a list with the titles \n",
    "# of five of your favorite movies\n",
    "\n",
    "### WRITE CODE HERE ###\n",
    "movie_list = [\"Mission Impossible\" , \"Titanic\" , \"Mr. Incredible\"]\n",
    "### --------------- ###"
   ]
  },
  {
   "cell_type": "code",
   "execution_count": 38,
   "id": "4bd046f3-29e4-4d66-b5a9-81b9d674961a",
   "metadata": {},
   "outputs": [
    {
     "name": "stdout",
     "output_type": "stream",
     "text": [
      "7\n"
     ]
    }
   ],
   "source": [
    "prime_numbers = [2, 3, 5, 7, 11]\n",
    "print(prime_numbers[3])"
   ]
  },
  {
   "cell_type": "code",
   "execution_count": 39,
   "id": "8b4b91b4-3402-4f36-bf26-c024ff5e0c49",
   "metadata": {},
   "outputs": [
    {
     "name": "stdout",
     "output_type": "stream",
     "text": [
      "7\n"
     ]
    }
   ],
   "source": [
    "# Fix the bug in the following code\n",
    "\n",
    "prime_numbers = [2, 3, 5, 7, 11]\n",
    "\n",
    "### FIX THIS CODE ###\n",
    "print(prime_numbers[3]) #access and print() the fourth element\n",
    "### --------------- ###"
   ]
  },
  {
   "cell_type": "code",
   "execution_count": 41,
   "id": "c46db3e4-ecb9-4207-9afa-fed8a4a7e0c2",
   "metadata": {},
   "outputs": [],
   "source": [
    "# In the following code, remove the country \n",
    "# that is not in South America\n",
    "\n",
    "countries_in_south_america = [\"Colombia\", \"Peru\", \n",
    "                              \"Brasil\", \"Japan\",\n",
    "                              \"Argentina\"]\n",
    "\n"
   ]
  },
  {
   "cell_type": "code",
   "execution_count": 44,
   "id": "69f24f9f-9a08-4dc7-b12c-781be3c5b405",
   "metadata": {},
   "outputs": [
    {
     "name": "stdout",
     "output_type": "stream",
     "text": [
      "['Colombia', 'Peru', 'Brasil', 'Argentina']\n"
     ]
    }
   ],
   "source": [
    "### WRITE CODE HERE ###\n",
    "countries_in_south_america.remove(\"Japan\")\n",
    "### --------------- ###\n",
    "\n",
    "print(countries_in_south_america)"
   ]
  },
  {
   "cell_type": "code",
   "execution_count": null,
   "id": "870e6a08-31d8-426b-906c-4fcec4642af8",
   "metadata": {},
   "outputs": [],
   "source": []
  }
 ],
 "metadata": {
  "kernelspec": {
   "display_name": "Python [conda env:base] *",
   "language": "python",
   "name": "conda-base-py"
  },
  "language_info": {
   "codemirror_mode": {
    "name": "ipython",
    "version": 3
   },
   "file_extension": ".py",
   "mimetype": "text/x-python",
   "name": "python",
   "nbconvert_exporter": "python",
   "pygments_lexer": "ipython3",
   "version": "3.12.2"
  }
 },
 "nbformat": 4,
 "nbformat_minor": 5
}
