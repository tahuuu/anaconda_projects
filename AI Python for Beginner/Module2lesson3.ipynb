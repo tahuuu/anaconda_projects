{
 "cells": [
  {
   "cell_type": "markdown",
   "id": "47be8743-9af0-47cf-a6b4-40cdfccaec50",
   "metadata": {},
   "source": [
    "# Lesson 3 - Prioritizing tasks with dictionaries and AI\n"
   ]
  },
  {
   "cell_type": "markdown",
   "id": "99e8ac88-6442-4a5e-83de-01a52d85e80c",
   "metadata": {},
   "source": [
    "In this lesson, you will explore dictionaries, a data structure that helps you store key-value pairs. The main difference with list, is that dictionaries assign a key to each values instead of an index. Let's start by importing some functions."
   ]
  },
  {
   "cell_type": "code",
   "execution_count": 1,
   "id": "12063e4e-93f4-4b7c-98c6-3603ce95d22f",
   "metadata": {},
   "outputs": [],
   "source": [
    "!pip install -q -U google-generativeai"
   ]
  },
  {
   "cell_type": "code",
   "execution_count": 2,
   "id": "83f9da5c-34d7-40c8-a4c0-e8844a0af037",
   "metadata": {},
   "outputs": [
    {
     "name": "stdout",
     "output_type": "stream",
     "text": [
      "API key loaded successfully!\n"
     ]
    }
   ],
   "source": [
    "import google.generativeai as genai\n",
    "\n",
    "from dotenv import load_dotenv\n",
    "import os\n",
    "\n",
    "# Load environment variables from .env file\n",
    "load_dotenv()\n",
    "\n",
    "# Get API key from environment\n",
    "api_key = os.getenv('GOOGLE_API_KEY')\n",
    "\n",
    "# Optional: Check if key loaded successfully\n",
    "if api_key is None:\n",
    "    print(\"Warning: API key not found!\")\n",
    "else:\n",
    "    print(\"API key loaded successfully!\")\n",
    "\n",
    "# ⭐ Configure genai with the API key\n",
    "genai.configure(api_key=api_key)\n",
    "\n",
    "# Load the Gemini model\n",
    "model = genai.GenerativeModel(model_name=\"gemini-2.5-flash\")"
   ]
  },
  {
   "cell_type": "code",
   "execution_count": 3,
   "id": "c8da0bed-769b-43bf-8e1a-4447c2099f4d",
   "metadata": {},
   "outputs": [],
   "source": [
    "response = model.generate_content"
   ]
  },
  {
   "cell_type": "markdown",
   "id": "fcd85299-725d-41b6-841b-2475479da2a6",
   "metadata": {},
   "source": [
    "If you wanted to store ice cream flavor descriptions using lists, you would have something like this:"
   ]
  },
  {
   "cell_type": "code",
   "execution_count": 4,
   "id": "0d79ce88-b34b-418b-9d3d-9cf9920e926e",
   "metadata": {},
   "outputs": [],
   "source": [
    "ice_cream_flavors = [\n",
    "    \"Vanilla: Classic and creamy with a rich, smooth flavor from real vanilla beans.\",\n",
    "    \"Chocolate: Deep and indulgent, made with rich cocoa for a satisfying chocolate experience.\",\n",
    "    \"Strawberry: Sweet and fruity, bursting with the fresh taste of ripe strawberries.\",\n",
    "    \"Mint Chocolate Chip: Refreshing mint ice cream studded with decadent chocolate chips.\",\n",
    "    \"Cookie Dough: Vanilla ice cream loaded with chunks of chocolate chip cookie dough.\",\n",
    "    \"Salted Caramel: Sweet and salty with a smooth caramel swirl and a hint of sea salt.\",\n",
    "    \"Pistachio: Nutty and creamy, featuring the distinct taste of real pistachios.\",\n",
    "    \"Cookies and Cream: Vanilla ice cream packed with chunks of chocolate sandwich cookies.\",\n",
    "    \"Mango: Tropical and tangy, made with juicy mangoes for a refreshing treat.\",\n",
    "    \"Rocky Road: Chocolate ice cream mixed with marshmallows, nuts, and chocolate chunks.\"\n",
    "]"
   ]
  },
  {
   "cell_type": "markdown",
   "id": "1f4f28a2-8455-451a-a1c4-f6078f4a73dc",
   "metadata": {},
   "source": [
    "If you wanted to look up the description for a particular flavor, you would have to memorize its index."
   ]
  },
  {
   "cell_type": "markdown",
   "id": "0e502e2e-9765-4cda-b493-c975cac64607",
   "metadata": {},
   "source": [
    "## Building intuition and definitions\n",
    "\n",
    "Dictionaries in Python are very similar to the dictionaries you would find in a library. Each value in a dictionary is associated with a key, just as you will find definitions associated to words in a hardcover dictionary. Let's take as an example the following dictionary with ice cream flavors."
   ]
  },
  {
   "cell_type": "code",
   "execution_count": 5,
   "id": "e5b8d6dc-fa89-41ca-bdd4-8a05505d2d51",
   "metadata": {},
   "outputs": [],
   "source": [
    "ice_cream_flavors = {\n",
    "    \"Mint Chocolate Chip\": \"Refreshing mint ice cream studded with decadent chocolate chips.\",\n",
    "    \"Cookie Dough\": \"Vanilla ice cream loaded with chunks of chocolate chip cookie dough.\",\n",
    "    \"Salted Caramel\": \"Sweet and salty with a smooth caramel swirl and a hint of sea salt.\"\n",
    "}   "
   ]
  },
  {
   "cell_type": "markdown",
   "id": "9cf4ade3-b66a-4a32-b97a-6f51d04cd934",
   "metadata": {},
   "source": [
    "The ice_cream_flavors dictionary has keys:"
   ]
  },
  {
   "cell_type": "code",
   "execution_count": 6,
   "id": "f1c89a61-6280-4ff9-a3b3-d6f47d5bb69b",
   "metadata": {},
   "outputs": [
    {
     "name": "stdout",
     "output_type": "stream",
     "text": [
      "dict_keys(['Mint Chocolate Chip', 'Cookie Dough', 'Salted Caramel'])\n"
     ]
    }
   ],
   "source": [
    "print(ice_cream_flavors.keys())"
   ]
  },
  {
   "cell_type": "markdown",
   "id": "804a08ac-7767-4d9b-9e8f-e2c32b271dcd",
   "metadata": {},
   "source": [
    "and values:"
   ]
  },
  {
   "cell_type": "code",
   "execution_count": 7,
   "id": "8929200e-421e-40c6-84ee-8502d9a988f1",
   "metadata": {},
   "outputs": [
    {
     "name": "stdout",
     "output_type": "stream",
     "text": [
      "dict_values(['Refreshing mint ice cream studded with decadent chocolate chips.', 'Vanilla ice cream loaded with chunks of chocolate chip cookie dough.', 'Sweet and salty with a smooth caramel swirl and a hint of sea salt.'])\n"
     ]
    }
   ],
   "source": [
    "print(ice_cream_flavors.values())"
   ]
  },
  {
   "cell_type": "markdown",
   "id": "9b25b67b-a212-46ac-8543-0d203e077459",
   "metadata": {},
   "source": [
    "## Accessing elements\n"
   ]
  },
  {
   "cell_type": "markdown",
   "id": "d53f609b-36af-4f27-9df0-642c69441734",
   "metadata": {},
   "source": [
    "Dictionaries don't index their elements as list do, so you cannot access values in the way you would using lists. If you run the cell below, you will get an error message since the index 0 is not a key in the `ice_cream_flavors` dictionary. "
   ]
  },
  {
   "cell_type": "code",
   "execution_count": 10,
   "id": "b03357d7-8b0c-4413-95cc-d96411abb517",
   "metadata": {},
   "outputs": [
    {
     "name": "stdout",
     "output_type": "stream",
     "text": [
      "Refreshing mint ice cream studded with decadent chocolate chips.\n"
     ]
    }
   ],
   "source": [
    "print(ice_cream_flavors[\"Mint Chocolate Chip\"])"
   ]
  },
  {
   "cell_type": "markdown",
   "id": "c137917b-3b61-45c7-968c-87338221ca22",
   "metadata": {},
   "source": [
    "So, to access the values in the dictionary you need to use its keys. For instance, for Cookie Dough, you can run the following code:"
   ]
  },
  {
   "cell_type": "code",
   "execution_count": 11,
   "id": "494eed41-1ced-4839-924f-04ad66b20db4",
   "metadata": {},
   "outputs": [
    {
     "name": "stdout",
     "output_type": "stream",
     "text": [
      "Vanilla ice cream loaded with chunks of chocolate chip cookie dough.\n"
     ]
    }
   ],
   "source": [
    "cookie_dough_description = ice_cream_flavors[\"Cookie Dough\"]\n",
    "\n",
    "print(cookie_dough_description)"
   ]
  },
  {
   "cell_type": "markdown",
   "id": "794e65a4-bec5-458b-9149-f5305712bfcf",
   "metadata": {},
   "source": [
    "## Adding and updating elements in a dictionary\n"
   ]
  },
  {
   "cell_type": "markdown",
   "id": "1dc361e2-7b94-450f-acb2-adadffde3b71",
   "metadata": {},
   "source": [
    "Let's take another look at the `ice_cream_flavors` dictionary"
   ]
  },
  {
   "cell_type": "code",
   "execution_count": 12,
   "id": "58f19821-e3df-4926-956c-93ea76fc14d7",
   "metadata": {},
   "outputs": [
    {
     "name": "stdout",
     "output_type": "stream",
     "text": [
      "{'Mint Chocolate Chip': 'Refreshing mint ice cream studded with decadent chocolate chips.', 'Cookie Dough': 'Vanilla ice cream loaded with chunks of chocolate chip cookie dough.', 'Salted Caramel': 'Sweet and salty with a smooth caramel swirl and a hint of sea salt.'}\n"
     ]
    }
   ],
   "source": [
    "print(ice_cream_flavors)"
   ]
  },
  {
   "cell_type": "markdown",
   "id": "c2440c9b-79b1-487e-849b-9d811ea111b8",
   "metadata": {},
   "source": [
    "Now, to add a new item for the \"Rocky Road\" flavor, you will need to assign its definition to ice_cream_flavors[\"Rocky Road\"] as follows:"
   ]
  },
  {
   "cell_type": "code",
   "execution_count": 13,
   "id": "adf03e1b-2443-4c88-b8fe-32591eff3a49",
   "metadata": {},
   "outputs": [],
   "source": [
    "ice_cream_flavors[\"Rocky Road\"] = \"Chocolate ice cream mixd witother ngredients.\""
   ]
  },
  {
   "cell_type": "markdown",
   "id": "3402dfbe-56b3-4008-a43c-80736740ec6c",
   "metadata": {},
   "source": [
    "Note that you are using the same syntax that selects a single item, but this time use a key that didn't exist before and assign it a value. Let's check the dictionary after this update:"
   ]
  },
  {
   "cell_type": "code",
   "execution_count": 14,
   "id": "dd311587-a6ff-4aec-9283-329091d6a722",
   "metadata": {},
   "outputs": [
    {
     "name": "stdout",
     "output_type": "stream",
     "text": [
      "{'Mint Chocolate Chip': 'Refreshing mint ice cream studded with decadent chocolate chips.', 'Cookie Dough': 'Vanilla ice cream loaded with chunks of chocolate chip cookie dough.', 'Salted Caramel': 'Sweet and salty with a smooth caramel swirl and a hint of sea salt.', 'Rocky Road': 'Chocolate ice cream mixd witother ngredients.'}\n"
     ]
    }
   ],
   "source": [
    "print(ice_cream_flavors)"
   ]
  },
  {
   "cell_type": "markdown",
   "id": "2b4906b1-e0aa-486c-a2a7-1493f51bb8f1",
   "metadata": {},
   "source": [
    "You can update existing dictionary items in a similar way. Let's fix the typos from the \"Rocky Road\" description."
   ]
  },
  {
   "cell_type": "code",
   "execution_count": 15,
   "id": "8c1d64ce-c224-4c52-b8c0-70b03b4e689c",
   "metadata": {},
   "outputs": [],
   "source": [
    "ice_cream_flavors[\"Rocky Road\"] = \"Chocolate ice cream mixed with other ingredients.\""
   ]
  },
  {
   "cell_type": "code",
   "execution_count": 16,
   "id": "a4b25e0a-7431-4325-a09e-83348534c73d",
   "metadata": {},
   "outputs": [
    {
     "name": "stdout",
     "output_type": "stream",
     "text": [
      "{'Mint Chocolate Chip': 'Refreshing mint ice cream studded with decadent chocolate chips.', 'Cookie Dough': 'Vanilla ice cream loaded with chunks of chocolate chip cookie dough.', 'Salted Caramel': 'Sweet and salty with a smooth caramel swirl and a hint of sea salt.', 'Rocky Road': 'Chocolate ice cream mixed with other ingredients.'}\n"
     ]
    }
   ],
   "source": [
    "print(ice_cream_flavors)"
   ]
  },
  {
   "cell_type": "markdown",
   "id": "4b073c1a-276d-4ec0-8bcc-caf556b69e32",
   "metadata": {},
   "source": [
    "## Different types of elements\n"
   ]
  },
  {
   "cell_type": "markdown",
   "id": "c2fed4a4-995b-43ad-a037-1c0ef00f07b4",
   "metadata": {},
   "source": [
    "Let's say that you store data about your friends. For Isabel you have the following dictionary."
   ]
  },
  {
   "cell_type": "code",
   "execution_count": 17,
   "id": "a6566e3d-c9f9-4101-9839-e2fbf8e348e3",
   "metadata": {},
   "outputs": [
    {
     "name": "stdout",
     "output_type": "stream",
     "text": [
      "{'age': 28, 'Favorite color': 'red'}\n"
     ]
    }
   ],
   "source": [
    "isabel_facts = {\n",
    "    \"age\": 28,\n",
    "    \"Favorite color\": \"red\"\n",
    "}\n",
    "print(isabel_facts)"
   ]
  },
  {
   "cell_type": "markdown",
   "id": "1988069a-d8c7-4171-91a4-55c1518666d1",
   "metadata": {},
   "source": [
    "You can store information within that dictionary using lists. For instance, the names for each of her cats."
   ]
  },
  {
   "cell_type": "code",
   "execution_count": 18,
   "id": "6cc1ed1c-17d2-4805-99f9-e15d7bb36196",
   "metadata": {},
   "outputs": [],
   "source": [
    "isabel_facts[\"Cat names\"] = [\"Charlie\", \"Smokey\", \"Tabitha\"]"
   ]
  },
  {
   "cell_type": "code",
   "execution_count": 19,
   "id": "b69e8a5d-1d29-4ea6-997b-ad68b702a820",
   "metadata": {},
   "outputs": [
    {
     "name": "stdout",
     "output_type": "stream",
     "text": [
      "{'age': 28, 'Favorite color': 'red', 'Cat names': ['Charlie', 'Smokey', 'Tabitha']}\n"
     ]
    }
   ],
   "source": [
    "print(isabel_facts)"
   ]
  },
  {
   "cell_type": "markdown",
   "id": "719141aa-32c6-4f3e-8484-36ef4f2334e1",
   "metadata": {},
   "source": [
    "Or her favorite snacks:"
   ]
  },
  {
   "cell_type": "code",
   "execution_count": 20,
   "id": "2d63ed9c-325a-4caa-86c5-291738162891",
   "metadata": {},
   "outputs": [],
   "source": [
    "isabel_facts[\"Favorite Snacks\"] = [\"pineapple cake\",\"candy\"]"
   ]
  },
  {
   "cell_type": "code",
   "execution_count": 21,
   "id": "0e3c286e-659b-43f8-95b9-c9909af6fd64",
   "metadata": {},
   "outputs": [
    {
     "name": "stdout",
     "output_type": "stream",
     "text": [
      "{'age': 28, 'Favorite color': 'red', 'Cat names': ['Charlie', 'Smokey', 'Tabitha'], 'Favorite Snacks': ['pineapple cake', 'candy']}\n"
     ]
    }
   ],
   "source": [
    "print(isabel_facts)"
   ]
  },
  {
   "cell_type": "markdown",
   "id": "24df2958-0eee-4537-94f4-2bdf7455a990",
   "metadata": {},
   "source": [
    "## Using dictionaries to complete high priority tasks using AI\n"
   ]
  },
  {
   "cell_type": "markdown",
   "id": "f3779783-c70f-4507-ac87-172d9e739832",
   "metadata": {},
   "source": [
    "In the previous lessons you completed the tasks from a list --like the one below-- using AI."
   ]
  },
  {
   "cell_type": "code",
   "execution_count": 22,
   "id": "28816209-c81c-4bda-b16e-e8d93e3c178e",
   "metadata": {},
   "outputs": [],
   "source": [
    "#task example, large list not ordered by priority. Want to prioritize\n",
    "list_of_tasks = [\n",
    "    \"Compose a brief email to my boss explaining that I will be late for tomorrow's meeting.\",\n",
    "    \"Write a birthday poem for Otto, celebrating his 28th birthday.\",\n",
    "    \"Write a 300-word review of the movie 'The Arrival'.\",\n",
    "    \"Draft a thank-you note for my neighbor Dapinder who helped water my plants while I was on vacation.\",\n",
    "    \"Create an outline for a presentation on the benefits of remote work.\"\n",
    "]"
   ]
  },
  {
   "cell_type": "markdown",
   "id": "c48a7856-7910-4c5f-b48d-ef4f934c5db9",
   "metadata": {},
   "source": [
    "In reality, not all tasks would have the same priority. In fact, for this example, you have tasks with high, medium and low priorities as defined by the following lists:"
   ]
  },
  {
   "cell_type": "code",
   "execution_count": 31,
   "id": "676ba5ba-d9e5-4d58-81d3-55a26852a56e",
   "metadata": {},
   "outputs": [],
   "source": [
    "#instead of that unorganized large list, divide tasks by priority\n",
    "high_priority_tasks = [\n",
    "    \"Compose a brief email to my boss explaining that I will be late for tomorrow's meeting.\",\n",
    "    \"Create an outline for a presentation on the benefits of remote work. Provide the text without formatting\"\n",
    "]\n",
    "\n",
    "medium_priority_tasks = [\n",
    "    \"Write a birthday poem for Otto, celebrating his 28th birthday.\",\n",
    "    \"Draft a thank-you note for my neighbor Dapinder who helped water my plants while I was on vacation.\"\n",
    "]\n",
    "\n",
    "low_priority_tasks = [\n",
    "    \"Write a 300-word review of the movie 'The Arrival'.\"\n",
    "]"
   ]
  },
  {
   "cell_type": "markdown",
   "id": "1b847ae5-e160-4bb4-a9ba-e9c0ed2ac295",
   "metadata": {},
   "source": [
    "You can use dictionaries to store all the tasks with their priorities in a single data object. Run the following cell to create that dictionary and display its contents:"
   ]
  },
  {
   "cell_type": "code",
   "execution_count": 33,
   "id": "e5d018d6-8af2-4a7a-a06d-4fc94afe27e6",
   "metadata": {},
   "outputs": [],
   "source": [
    "#create dictionary with all tasks\n",
    "#dictionaries can contain lists!\n",
    "prioritized_tasks = {\n",
    "    \"high\": high_priority_tasks,\n",
    "    \"medium\": medium_priority_tasks,\n",
    "    \"low\": low_priority_tasks\n",
    "}"
   ]
  },
  {
   "cell_type": "code",
   "execution_count": 34,
   "id": "04f3829e-5193-4d7f-9fd4-985f4c4d8079",
   "metadata": {
    "scrolled": true
   },
   "outputs": [
    {
     "name": "stdout",
     "output_type": "stream",
     "text": [
      "{'high': [\"Compose a brief email to my boss explaining that I will be late for tomorrow's meeting.\", 'Create an outline for a presentation on the benefits of remote work. Provide the text without formatting'], 'medium': ['Write a birthday poem for Otto, celebrating his 28th birthday.', 'Draft a thank-you note for my neighbor Dapinder who helped water my plants while I was on vacation.'], 'low': [\"Write a 300-word review of the movie 'The Arrival'.\"]}\n"
     ]
    }
   ],
   "source": [
    "print(prioritized_tasks)"
   ]
  },
  {
   "cell_type": "markdown",
   "id": "403d3451-4290-4cfe-8f94-ed3ef4007ffb",
   "metadata": {},
   "source": [
    "With this data structure, it is easy for you to focus only on the high priority tasks and complete them using a for loop and LLMs:"
   ]
  },
  {
   "cell_type": "code",
   "execution_count": 35,
   "id": "58561f37-9cf4-4d49-9f8b-9cf892872fd9",
   "metadata": {},
   "outputs": [
    {
     "name": "stdout",
     "output_type": "stream",
     "text": [
      "[\"Compose a brief email to my boss explaining that I will be late for tomorrow's meeting.\", 'Create an outline for a presentation on the benefits of remote work. Provide the text without formatting']\n"
     ]
    }
   ],
   "source": [
    "print(prioritized_tasks[\"high\"])"
   ]
  },
  {
   "cell_type": "code",
   "execution_count": 36,
   "id": "12ef18fa-06b0-496c-bb38-81680c0fb9a7",
   "metadata": {},
   "outputs": [
    {
     "name": "stdout",
     "output_type": "stream",
     "text": [
      "Subject: Update: Lateness for Tomorrow's [Meeting Name/Topic] - [Your Name]\n",
      "\n",
      "Dear [Boss's Name],\n",
      "\n",
      "I am writing to let you know that I will be late for tomorrow's [Meeting Name/Topic] scheduled for [Time, e.g., 9:00 AM].\n",
      "\n",
      "Due to an unforeseen [brief, general reason, e.g., personal appointment/issue/commitment], I won't be able to join right at the start. I anticipate joining by approximately [Specific Time, e.g., 9:30 AM] or as soon as I am able.\n",
      "\n",
      "I apologize for any inconvenience this may cause. I will catch up on any missed points upon joining and will review the agenda beforehand.\n",
      "\n",
      "Best regards,\n",
      "\n",
      "[Your Name]\n",
      "Title: The Multifaceted Advantages of Remote Work\n",
      "\n",
      "Introduction\n",
      "\n",
      "Hook: The evolving landscape of work and the permanence of remote models.\n",
      "Topic: Exploring the significant benefits of remote work for individuals and organizations.\n",
      "Agenda: We will cover employee advantages, employer benefits, and the broader societal impact.\n",
      "\n",
      "Benefits for Employees\n",
      "\n",
      "Enhanced Work-Life Balance\n",
      "Flexibility in daily schedule\n",
      "More time for family, personal interests, and self-care\n",
      "Reduced stress from daily routines\n",
      "\n",
      "Elimination of Commute\n",
      "Significant time savings\n",
      "Cost savings on fuel, public transport, and vehicle maintenance\n",
      "Reduced environmental impact\n",
      "\n",
      "Personalized and Comfortable Work Environment\n",
      "Ability to customize workspace for optimal productivity\n",
      "Fewer office distractions and interruptions\n",
      "Increased comfort and well-being\n",
      "\n",
      "Increased Autonomy and Trust\n",
      "Empowerment through control over work environment and schedule\n",
      "Demonstrates employer trust, fostering loyalty\n",
      "\n",
      "Geographic Flexibility\n",
      "Opportunity to live anywhere, not just near the office\n",
      "Access to a wider range of housing options and lifestyles\n",
      "\n",
      "Improved Health and Well-being\n",
      "More time for exercise and healthy meal preparation\n",
      "Reduced exposure to office illnesses\n",
      "\n",
      "Benefits for Employers and Organizations\n",
      "\n",
      "Expanded Talent Pool\n",
      "Ability to hire the best talent regardless of location\n",
      "Access to diverse skill sets and perspectives\n",
      "\n",
      "Reduced Operational Costs\n",
      "Savings on office rent, utilities, and maintenance\n",
      "Lower expenses for office supplies and amenities\n",
      "\n",
      "Increased Employee Retention and Satisfaction\n",
      "Higher job satisfaction leads to lower turnover rates\n",
      "Reduced costs associated with recruitment and training\n",
      "\n",
      "Enhanced Productivity and Focus\n",
      "Employees often report fewer distractions and more focused work\n",
      "Potential for increased output due to better work-life balance\n",
      "\n",
      "Improved Business Continuity and Resilience\n",
      "Ability to maintain operations during unforeseen events or crises\n",
      "Distributed workforce mitigates risks\n",
      "\n",
      "Positive Brand Image\n",
      "Attracts modern, forward-thinking employees\n",
      "Showcases a commitment to employee well-being and flexibility\n",
      "\n",
      "Environmental Responsibility\n",
      "Reduced carbon footprint from fewer commutes and smaller office spaces\n",
      "Alignment with sustainability goals\n",
      "\n",
      "Addressing Common Misconceptions\n",
      "\n",
      "Productivity: Remote work often leads to equal or higher productivity.\n",
      "Collaboration: Effective tools and strategies enable seamless teamwork.\n",
      "Culture: Intentional efforts can build strong remote team cultures.\n",
      "\n",
      "Key Strategies for Successful Remote Work Implementation\n",
      "\n",
      "Clear communication channels and expectations\n",
      "Investment in collaboration tools and technology\n",
      "Focus on results and outcomes over presence\n",
      "Foster a culture of trust, empathy, and support\n",
      "\n",
      "Conclusion\n",
      "\n",
      "Recap: Remote work offers profound benefits for individuals, businesses, and society.\n",
      "Future of Work: It is a sustainable and increasingly preferred model.\n",
      "Call to Action: Embrace remote work strategically to unlock its full potential.\n",
      "\n",
      "Questions and Discussion\n"
     ]
    }
   ],
   "source": [
    "#complete high priority tasks \n",
    "for task in prioritized_tasks[\"high\"]:\n",
    "    print(response(task).text)"
   ]
  },
  {
   "cell_type": "markdown",
   "id": "985f08f4-295e-4a2a-b5ac-7394d6179091",
   "metadata": {},
   "source": [
    "In the next lesson we will continue exploring dictionaries. You will see how to use values to create prompts to use with LLMs."
   ]
  },
  {
   "cell_type": "markdown",
   "id": "42d065a3-c3f0-42bf-8af1-3d8003779775",
   "metadata": {},
   "source": [
    "## Extra practice"
   ]
  },
  {
   "cell_type": "markdown",
   "id": "b3711589-6675-47de-ae04-c32799a40d68",
   "metadata": {},
   "source": [
    "Please go through the exercises in the cells below if you want some extra practice for the topics you covered in this lesson."
   ]
  },
  {
   "cell_type": "code",
   "execution_count": 37,
   "id": "427780d6-e8e9-4a2f-ba3d-534734cb4420",
   "metadata": {},
   "outputs": [],
   "source": [
    "\n",
    "flavor = \"Rocky Road\" \n",
    "prompt = f\"Provide a brief description for the {flavor} ice cream flavor\"\n",
    "ice_cream_flavors[\"Rocky Road\"] = response(prompt)"
   ]
  },
  {
   "cell_type": "code",
   "execution_count": 40,
   "id": "0eb9f442-cf7c-4c83-b3c9-a41f4cb313f8",
   "metadata": {},
   "outputs": [
    {
     "name": "stdout",
     "output_type": "stream",
     "text": [
      "Creamy chocolate ice cream generously mixed with soft, fluffy marshmallows and crunchy, roasted nuts (typically almonds), offering a delightful contrast of textures and flavors.\n"
     ]
    }
   ],
   "source": [
    "print(response(prompt).text)"
   ]
  },
  {
   "cell_type": "code",
   "execution_count": 42,
   "id": "8fc7388c-e827-473f-8457-16b56b8cb47a",
   "metadata": {},
   "outputs": [
    {
     "name": "stdout",
     "output_type": "stream",
     "text": [
      "Happy Birthday, Otto, a vibrant sound,\n",
      "As twenty-eight full years come round!\n",
      "The candles glow, the laughter rings,\n",
      "For all the joy your presence brings.\n",
      "\n",
      "Through every path you've travelled far,\n",
      "You've shone brightly, like a star.\n",
      "With wisdom gained and spirits keen,\n",
      "You've embraced each challenge, big and clean.\n",
      "\n",
      "This chapter new, with open pages,\n",
      "Holds adventures, across all stages.\n",
      "May strength and courage light your way,\n",
      "Through every single coming day.\n",
      "\n",
      "May laughter echo, rich and deep,\n",
      "And all the promises you keep,\n",
      "Bring you success and endless cheer,\n",
      "Throughout this brand new, wondrous year.\n",
      "\n",
      "So raise a glass, let spirits soar,\n",
      "To Otto, twenty-eight and more!\n",
      "May all your hopes and dreams take flight,\n",
      "Happy Birthday, with all our might!\n",
      "Here are a few options, from more concise to slightly more detailed, choose the one that best fits your style and relationship with Dapinder:\n",
      "\n",
      "**Option 1: Short & Sweet**\n",
      "\n",
      "Dear Dapinder,\n",
      "\n",
      "I just wanted to send a quick note to say a huge thank you for watering my plants while I was away on vacation!\n",
      "\n",
      "It was such a relief not to worry about them, and they look absolutely fantastic. It's truly wonderful to have such thoughtful neighbors.\n",
      "\n",
      "Please let me know if there's ever anything I can do for you in return!\n",
      "\n",
      "Thanks again,\n",
      "\n",
      "[Your Name]\n",
      "\n",
      "---\n",
      "\n",
      "**Option 2: Slightly More Detailed**\n",
      "\n",
      "Dear Dapinder,\n",
      "\n",
      "I wanted to express my sincere gratitude for taking such good care of my plants while I was on vacation.\n",
      "\n",
      "It meant so much to me to know they were in good hands, and it allowed me to fully relax and enjoy my trip without any worries. It was a joy to come home and find them all healthy and thriving – you clearly have a green thumb!\n",
      "\n",
      "I'm incredibly lucky to have such kind and dependable neighbors like you.\n",
      "\n",
      "Please don't hesitate to reach out if I can ever return the favor, whether it's watering your plants, collecting mail, or anything else.\n",
      "\n",
      "Thanks again for everything!\n",
      "\n",
      "Warmly,\n",
      "\n",
      "[Your Name]\n",
      "\n",
      "---\n",
      "\n",
      "**Option 3: If you're dropping something off (e.g., a small treat)**\n",
      "\n",
      "Dear Dapinder,\n",
      "\n",
      "Thank you so, so much for watering my plants while I was away on vacation!\n",
      "\n",
      "Coming home to happy, healthy plants was the perfect welcome, and I truly appreciate you taking the time to look after them. It made such a difference not having to worry.\n",
      "\n",
      "[Optional: \"Please enjoy this little treat as a small token of my appreciation.\"]\n",
      "\n",
      "It's wonderful to have such thoughtful neighbors. Please let me know if there's ever anything I can do for you!\n",
      "\n",
      "Best,\n",
      "\n",
      "[Your Name]\n",
      "\n",
      "---\n",
      "\n",
      "**Remember to:**\n",
      "*   Replace `[Your Name]` with your actual name.\n",
      "*   Choose the salutation (`Dear Dapinder,` or `Hi Dapinder,`) that feels most natural for your relationship.\n"
     ]
    }
   ],
   "source": [
    "# Complete the medium priority tasks\n",
    "# by modifying the following code\n",
    "\n",
    "### EDIT THE FOLLOWING CODE ###\n",
    "for task in prioritized_tasks[\"medium\"]:\n",
    "    print(response(task).text)\n",
    "### --------------- ###"
   ]
  },
  {
   "cell_type": "code",
   "execution_count": null,
   "id": "6714998c-f157-4b84-b2be-7f1a2ef39857",
   "metadata": {},
   "outputs": [],
   "source": []
  }
 ],
 "metadata": {
  "kernelspec": {
   "display_name": "Python [conda env:base] *",
   "language": "python",
   "name": "conda-base-py"
  },
  "language_info": {
   "codemirror_mode": {
    "name": "ipython",
    "version": 3
   },
   "file_extension": ".py",
   "mimetype": "text/x-python",
   "name": "python",
   "nbconvert_exporter": "python",
   "pygments_lexer": "ipython3",
   "version": "3.12.2"
  }
 },
 "nbformat": 4,
 "nbformat_minor": 5
}
