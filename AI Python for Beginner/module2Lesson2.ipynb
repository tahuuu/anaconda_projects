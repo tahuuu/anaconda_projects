{
 "cells": [
  {
   "cell_type": "code",
   "execution_count": 1,
   "id": "96c384f4-5cdd-419a-b602-8412bbb8cfcb",
   "metadata": {},
   "outputs": [],
   "source": [
    "!pip install -q -U google-generativeai"
   ]
  },
  {
   "cell_type": "code",
   "execution_count": 2,
   "id": "6b102dd3-3f97-4eb9-b2b2-b665e23f0a01",
   "metadata": {},
   "outputs": [
    {
     "name": "stdout",
     "output_type": "stream",
     "text": [
      "API key loaded successfully!\n"
     ]
    }
   ],
   "source": [
    "import google.generativeai as genai\n",
    "\n",
    "from dotenv import load_dotenv\n",
    "import os\n",
    "\n",
    "# Load environment variables from .env file\n",
    "load_dotenv()\n",
    "\n",
    "# Get API key from environment\n",
    "api_key = os.getenv('GOOGLE_API_KEY')\n",
    "\n",
    "# Optional: Check if key loaded successfully\n",
    "if api_key is None:\n",
    "    print(\"Warning: API key not found!\")\n",
    "else:\n",
    "    print(\"API key loaded successfully!\")\n",
    "# Load the Gemini model\n",
    "model = genai.GenerativeModel(model_name=\"gemini-2.5-flash\")"
   ]
  },
  {
   "cell_type": "code",
   "execution_count": 5,
   "id": "688b5af4-db35-46c5-ab1a-4c761f05d553",
   "metadata": {},
   "outputs": [],
   "source": [
    "response = model.generate_content"
   ]
  },
  {
   "cell_type": "code",
   "execution_count": 6,
   "id": "a0a8ce47-b759-4740-bc93-2237fc80ee03",
   "metadata": {},
   "outputs": [
    {
     "name": "stdout",
     "output_type": "stream",
     "text": [
      "[\"Compose a brief email to my boss explaining that I will be late for tomorrow's meeting.\", 'Write a birthday poem for Otto, celebrating his 28th birthday.', \"Write a 300-word review of the movie 'The Arrival'.\"]\n"
     ]
    }
   ],
   "source": [
    "list_of_tasks = [\n",
    "    \"Compose a brief email to my boss explaining that I will be late for tomorrow's meeting.\",\n",
    "    \"Write a birthday poem for Otto, celebrating his 28th birthday.\",\n",
    "    \"Write a 300-word review of the movie 'The Arrival'.\"\n",
    "]\n",
    "print(list_of_tasks)"
   ]
  },
  {
   "cell_type": "code",
   "execution_count": 7,
   "id": "8b531a09-aa3c-4d74-b392-d2e72c079d49",
   "metadata": {},
   "outputs": [
    {
     "name": "stdout",
     "output_type": "stream",
     "text": [
      "Subject: Lateness for Tomorrow's Meeting - [Your Name]\n",
      "\n",
      "Hi [Boss's Name],\n",
      "\n",
      "I am writing to let you know that I will unfortunately be late for tomorrow's meeting.\n",
      "\n",
      "Due to an unforeseen [brief, vague reason like \"appointment\" or \"personal matter\" if you choose to include one, otherwise omit], I expect to arrive by approximately [Time, e.g., 9:30 AM]. I will join as soon as I arrive.\n",
      "\n",
      "I apologize for any inconvenience this may cause and will catch up on anything I miss.\n",
      "\n",
      "Best regards,\n",
      "\n",
      "[Your Name]\n"
     ]
    }
   ],
   "source": [
    "task = list_of_tasks[0]\n",
    "print(response(task).text)"
   ]
  },
  {
   "cell_type": "code",
   "execution_count": 8,
   "id": "d4f4ce73-d66a-4de1-96b8-6751684506b4",
   "metadata": {},
   "outputs": [
    {
     "name": "stdout",
     "output_type": "stream",
     "text": [
      "Compose a brief email to my boss explaining that I will be late for tomorrow's meeting.\n",
      "Write a birthday poem for Otto, celebrating his 28th birthday.\n",
      "Write a 300-word review of the movie 'The Arrival'.\n"
     ]
    }
   ],
   "source": [
    "for shit in list_of_tasks:\n",
    "    print(shit)"
   ]
  },
  {
   "cell_type": "code",
   "execution_count": 9,
   "id": "32efdefe-149f-42fd-8e6f-56339641beeb",
   "metadata": {
    "scrolled": true
   },
   "outputs": [
    {
     "name": "stdout",
     "output_type": "stream",
     "text": [
      "Subject: Lateness for Tomorrow's [Meeting Name/Time] Meeting\n",
      "\n",
      "Dear [Boss's Name],\n",
      "\n",
      "I am writing to inform you that I will unfortunately be late for tomorrow's [Meeting Name/Time] meeting.\n",
      "\n",
      "I have an unforeseen commitment that I need to attend to beforehand. I anticipate joining the meeting by approximately [Time you expect to arrive].\n",
      "\n",
      "I apologize for any inconvenience this may cause and will catch up on anything I miss as quickly as possible upon my arrival.\n",
      "\n",
      "Best regards,\n",
      "\n",
      "[Your Name]\n",
      "To Otto, with a cheer and joyful sound,\n",
      "Your twenty-eighth birthday has come around!\n",
      "The cake is cut, the wishes sent your way,\n",
      "A moment to celebrate this happy day.\n",
      "\n",
      "Twenty-eight years, a journey you have made,\n",
      "With wisdom gained, a strong foundation laid.\n",
      "A time for dreams that blossom and take flight,\n",
      "To chase your passions with all of your might.\n",
      "\n",
      "With laughter bright and kindness in your soul,\n",
      "You make the world around you feel quite whole.\n",
      "A friend to many, steady and so true,\n",
      "We're all so very glad to know you, too.\n",
      "\n",
      "May this next year bring all you hope and crave,\n",
      "Adventures wild, and memories to save.\n",
      "May joy and laughter fill your coming year,\n",
      "Chasing away each doubt and every fear.\n",
      "\n",
      "So here's to you, dear Otto, strong and keen,\n",
      "The best 28th birthday you have seen!\n",
      "\n",
      "Happy Birthday!\n",
      "Denis Villeneuve’s “Arrival” isn't merely a sci-fi film; it's a profound, cerebral, and deeply emotional journey that uses the arrival of extraterrestrial life to explore fundamental questions about communication, perception, and the very nature of humanity. Forget explosive battles; this is a first-contact story grounded in intellect and empathy.\n",
      "\n",
      "When twelve colossal, enigmatic spacecraft appear across the globe, the world teeters on the brink of global panic and misunderstanding. Enter Dr. Louise Banks (Amy Adams), an expert linguist recruited by Colonel Weber (Forest Whitaker) and the US military, alongside theoretical physicist Ian Donnelly (Jeremy Renner), to establish contact with the seven-limbed heptapod visitors. Their urgent mission: decipher an alien language that defies all human understanding, under immense pressure to prevent global war as other nations grow increasingly hostile.\n",
      "\n",
      "What unfolds is a masterclass in tension and intellectual curiosity. The film meticulously details the painstaking process of cross-species communication, turning linguistics into a high-stakes, race-against-time thriller. Villeneuve masterfully builds an atmosphere of awe and quiet urgency, aided by Bradford Young’s evocative cinematography and Jóhann Jóhannsson’s haunting, ethereal score.\n",
      "\n",
      "Amy Adams delivers a career-defining performance as Louise, imbuing her character with incredible intelligence, vulnerability, and a quiet, resolute strength. Her deeply personal journey, subtly intertwined with the alien encounter, adds a powerful emotional core that elevates the film beyond mere science fiction. The movie’s central thesis—that language shapes thought, and truly understanding another perspective can fundamentally alter one's own—is explored with astonishing depth. It posits that profound communication might be the ultimate key to averting conflict, not just with aliens, but among ourselves.\n",
      "\n",
      "“Arrival” is a film that rewards contemplation, challenging viewers to think about time, fate, and the profound connections we forge. It’s a beautifully crafted narrative that lingers long after the credits roll, leaving an indelible mark as both a thrilling intellectual puzzle and a poignant human drama. A truly essential, unforgettable watch.\n"
     ]
    }
   ],
   "source": [
    "for task in list_of_tasks:\n",
    "    print(response(task).text)"
   ]
  },
  {
   "cell_type": "code",
   "execution_count": 10,
   "id": "f9f7d9e4-ea32-41ec-8f89-e5e4ff0aeb11",
   "metadata": {},
   "outputs": [],
   "source": [
    "#ice cream flavor example\n",
    "ice_cream_flavors = [\n",
    "    \"Vanilla\",\n",
    "    \"Chocolate\",\n",
    "    \"Strawberry\",\n",
    "    \"Mint Chocolate Chip\"\n",
    "]"
   ]
  },
  {
   "cell_type": "code",
   "execution_count": 12,
   "id": "4652c8f4-6466-47c8-adb0-df7625f9d007",
   "metadata": {},
   "outputs": [
    {
     "name": "stdout",
     "output_type": "stream",
     "text": [
      "For the ice cream flavor listed below, \n",
      "    provide a captivating description that could be used for promotional purposes.\n",
      "\n",
      "    Flavor: Vanilla\n",
      "\n",
      "    \n",
      "Here are a few options for a captivating description, playing on different angles of vanilla's appeal:\n",
      "\n",
      "**Option 1: The Elevated Classic**\n",
      "\n",
      "**Vanilla: The Unveiled Masterpiece**\n",
      "\n",
      "Prepare to rediscover the *true essence* of a classic. Our Vanilla ice cream isn't just a flavor; it's an **ode to pure, unadulterated bliss**, crafted to elevate every expectation. Each **velvety-smooth scoop** is a journey into **fragrant luxury**, infused with the **finest, hand-selected vanilla beans** from sun-drenched orchards. Experience the **warm, aromatic depths** that unfold on your palate – a delicate dance of **creamy sweetness** with subtle, complex notes that linger long after the last bite. It's the **quintessential comfort**, the **elegant foundation**, and the **perfect standalone indulgence** all rolled into one. Taste the sophistication of purity. Taste our Vanilla.\n",
      "\n",
      "---\n",
      "\n",
      "**Option 2: The Sensory Experience**\n",
      "\n",
      "**Vanilla Dream: A Whisper of Pure Indulgence**\n",
      "\n",
      "Close your eyes and let the **silken embrace** of our Vanilla ice cream transport you. This isn't merely ice cream; it's a **sensory poem**, meticulously churned to perfection. We start with the plumpest, most aromatic vanilla beans, coaxing out their **golden essence** to infuse every **creamy, cloud-like spoonful**. The result? A **velvet texture** that melts on your tongue, releasing a symphony of **sweet, warm, and subtly floral notes**. It’s the comforting hug you crave, the nostalgic echo of perfect moments, and a **pure, uncompromised delight** that needs no embellishment. Surrender to the simplicity of extraordinary.\n",
      "\n",
      "---\n",
      "\n",
      "**Option 3: The Art of Simplicity**\n",
      "\n",
      "**Vanilla: Elegance in Every Scoop**\n",
      "\n",
      "In a world of complexity, sometimes true genius lies in breathtaking simplicity. Our Vanilla ice cream is a testament to this philosophy. We celebrate the **timeless beauty** of one of nature's most enchanting flavors, elevating it to an art form. Imagine **rich, farm-fresh cream** delicately folded with the **pure, intoxicating aroma of premium vanilla**. The outcome is a **sumptuously smooth, irresistibly sweet, and deeply satisfying** scoop that sings with an understated brilliance. It’s the perfect companion, the ultimate canvas, or simply, a moment of **unfussy, exquisite pleasure** all on its own. Experience perfection, unadorned.\n",
      "For the ice cream flavor listed below, \n",
      "    provide a captivating description that could be used for promotional purposes.\n",
      "\n",
      "    Flavor: Chocolate\n",
      "\n",
      "    \n",
      "Here are a few options, choose the one that best fits your brand's voice!\n",
      "\n",
      "**Option 1 (Classic & Indulgent):**\n",
      "\n",
      "> **Pure Indulgence: Our Signature Chocolate Ice Cream**\n",
      ">\n",
      "> Prepare for pure, unadulterated bliss. Our Chocolate ice cream isn't just a flavor; it's an experience. Crafted with the finest, deepest cocoa, each velvety scoop is a symphony of rich, intense chocolate notes that awaken your senses. Impossibly smooth, it melts on your tongue, releasing a wave of decadent, comforting sweetness that lingers perfectly. It’s the quintessential indulgence, a timeless classic perfected for the true chocolate lover. Dive into the luxurious depths – your ultimate escape, one irresistible spoonful at a time.\n",
      "\n",
      "**Option 2 (Slightly More Playful & Nostalgic):**\n",
      "\n",
      "> **Your Happy Place, Scooped: Classic Chocolate Ice Cream**\n",
      ">\n",
      "> Remember that first perfect bite of chocolate? We bottled that magic (and made it even colder!). Our Chocolate ice cream is a creamy dream, brimming with the rich, unmistakable taste of pure cocoa. It’s that familiar, comforting hug in a cone, elevated to a smooth, decadent delight that will make you smile with every single spoonful. The ultimate classic, done right – simple, pure, and absolutely delicious. Go ahead, treat your inner child!\n",
      "\n",
      "**Option 3 (Elegant & Sophisticated):**\n",
      "\n",
      "> **The Essence of Cacao: Our Artisanal Chocolate Ice Cream**\n",
      ">\n",
      "> An homage to the magnificent cacao bean. We’ve meticulously crafted a Chocolate ice cream that delivers a profound, complex, and utterly satisfying experience. Each spoonful is a journey through a landscape of intense, dark chocolate luxury, softened by an impossibly smooth, silken texture. It’s rich, it’s sophisticated, and it’s the purest expression of chocolate, designed for those who appreciate the finer notes of this beloved classic. Elevate your dessert moment.\n",
      "For the ice cream flavor listed below, \n",
      "    provide a captivating description that could be used for promotional purposes.\n",
      "\n",
      "    Flavor: Strawberry\n",
      "\n",
      "    \n",
      "Here are a few options for a captivating description for Strawberry ice cream, playing on different angles:\n",
      "\n",
      "**Option 1 (Focus on Freshness & Purity):**\n",
      "\n",
      "> **Pure Strawberry Bliss:**\n",
      "> Dive spoon-first into the vibrant essence of summer. Our Strawberry ice cream is a radiant, blush-pink masterpiece, crafted with only the finest, sun-ripened strawberries. Each velvety scoop delivers a burst of juicy sweetness, perfectly balanced with a whisper of tartness, reminiscent of freshly picked berries on a warm day. It's a timeless classic, reimagined for ultimate creamy indulgence.\n",
      "\n",
      "**Option 2 (Focus on Nostalgia & Indulgence):**\n",
      "\n",
      "> **A Sweet Escape to Strawberry Fields:**\n",
      "> Close your eyes and let the luscious flavor of our Strawberry ice cream transport you. We’ve captured the irresistible charm of perfectly ripe, sweet strawberries, swirling them into an impossibly creamy, dream-like texture. Every bite is a delightful journey – a nostalgic hug of sun-kissed fruit that melts on your tongue, leaving behind pure, unadulterated happiness. It’s not just ice cream; it’s a moment of joy.\n",
      "\n",
      "**Option 3 (Short & Punchy):**\n",
      "\n",
      "> **Simply Irresistible Strawberry:**\n",
      "> Prepare for love at first bite! Our Strawberry ice cream explodes with the authentic, vibrant flavor of real, juicy strawberries. Rich, creamy, and exquisitely refreshing, it’s the quintessential taste of summer, crafted to perfection. A delicious escape in every scoop!\n",
      "For the ice cream flavor listed below, \n",
      "    provide a captivating description that could be used for promotional purposes.\n",
      "\n",
      "    Flavor: Mint Chocolate Chip\n",
      "\n",
      "    \n",
      "Here are a few options for a captivating description, playing with slightly different angles:\n",
      "\n",
      "**Option 1 (Focus on Classic & Contrast):**\n",
      "\n",
      "> **Mint Chocolate Chip: A Symphony of Refreshment and Decadence.**\n",
      ">\n",
      "> Prepare for a timeless journey into pure bliss with our **Mint Chocolate Chip** ice cream! We start with velvety smooth, **invigorating mint ice cream**, so crisp and cool it feels like a refreshing whisper on your palate. Then, we generously fold in **luxurious, melt-in-your-mouth shards of rich, decadent dark chocolate**, creating a delightful textural contrast and an irresistible burst of cocoa in every spoonful. It’s the perfect harmony of cool, clean refreshment and satisfying indulgence – a beloved classic that promises an exhilarating escape with every scoop. Get ready for the perfect balance of a vibrant tingle and a decadent crunch that will leave you craving more!\n",
      "\n",
      "**Option 2 (Focus on Experience & Sensory):**\n",
      "\n",
      "> **The Ultimate Escape: Mint Chocolate Chip.**\n",
      ">\n",
      "> Dive into a vibrant world where cool meets captivating! Our **Mint Chocolate Chip** ice cream is a sensory masterpiece, crafted with **bright, exhilarating mint** that awakens your taste buds with its crisp, clean essence. Each creamy swirl is then studded with an abundance of **premium dark chocolate flakes**, delivering that signature satisfying snap and a deep, rich cocoa finish. It's not just ice cream; it's a refreshing adventure, a delightful moment of indulgence, and the perfect balance of zingy freshness and chocolatey delight. Experience the classic reinvented, one unforgettable spoonful at a time!\n",
      "\n",
      "**Option 3 (Short & Punchy):**\n",
      "\n",
      "> **Mint Chocolate Chip: Pure Chill, Pure Indulgence.**\n",
      ">\n",
      "> Unapologetically refreshing, irresistibly rich. Our **Mint Chocolate Chip** ice cream delivers the iconic duo you crave: brilliantly cool, vibrant mint ice cream generously loaded with decadent, dark chocolate chips. It's the ultimate pick-me-up and treat rolled into one, a perfect balance of crisp minty freshness and satisfying chocolatey crunch. Prepare for love at first scoop!\n"
     ]
    }
   ],
   "source": [
    "for flavor in ice_cream_flavors:\n",
    "    prompt = f\"\"\"For the ice cream flavor listed below, \n",
    "    provide a captivating description that could be used for promotional purposes.\n",
    "\n",
    "    Flavor: {flavor}\n",
    "\n",
    "    \"\"\"\n",
    "    print(prompt)\n",
    "    print(response(prompt).text)"
   ]
  },
  {
   "cell_type": "code",
   "execution_count": 24,
   "id": "f6724052-fac2-43f3-8a79-a994b5054de4",
   "metadata": {},
   "outputs": [],
   "source": [
    "#saving results to a list\n",
    "promotional_descriptions = []\n",
    "for flavor in ice_cream_flavors:\n",
    "    prompt = f\"\"\"For the ice cream flavor listed below, \n",
    "    provide a captivating description that could be used for promotional purposes. Provide 1 description only\n",
    "\n",
    "    Flavor: {flavor}\n",
    "\n",
    "    \"\"\"\n",
    "    description = response(prompt).text\n",
    "    promotional_descriptions.append(description)"
   ]
  },
  {
   "cell_type": "code",
   "execution_count": 25,
   "id": "d4694b39-542a-4787-9176-269ba6352605",
   "metadata": {},
   "outputs": [
    {
     "name": "stdout",
     "output_type": "stream",
     "text": [
      "[\"Discover the soul of sweetness with our **Velvet Vanilla**. More than just a flavor, it's an exquisite embrace of creamy perfection, handcrafted from the finest, most aromatic vanilla beans. Each luxuriously smooth scoop offers a timeless escape, a pure and comforting delight that's subtly rich and utterly unforgettable. The ultimate classic, perfected.\", \"Surrender to the timeless allure of our Classic Chocolate ice cream. Deeply rich, incredibly smooth, and intensely satisfying, every scoop is a decadent journey into pure cocoa bliss. This isn't just chocolate; it's the ultimate velvety escape, perfected for your pleasure.\", \"Dive into the quintessential taste of summer with our Strawberry ice cream! Each scoop is a sun-kissed symphony of sweet, juicy strawberries, bursting with vibrant flavor and swirled into a luscious, creamy dream. It's pure, refreshing bliss – a timeless classic perfected.\", \"Dive into the **refreshingly cool embrace** of our Mint Chocolate Chip ice cream! Each creamy scoop is a delightful journey, where the invigorating burst of pure mint dances perfectly with generous, crisp flakes of rich, dark chocolate. It's a classic reimagined—a vibrant, uplifting treat that promises a moment of pure bliss with every spoonful.\"]\n"
     ]
    }
   ],
   "source": [
    "print(promotional_descriptions)"
   ]
  },
  {
   "cell_type": "code",
   "execution_count": 28,
   "id": "5d7d6ee9-4262-4f17-8fa4-4379005088e0",
   "metadata": {},
   "outputs": [
    {
     "name": "stdout",
     "output_type": "stream",
     "text": [
      "['Chocolate', 'Mint Chocolate Chip']\n",
      "['Chocolate', 'Mint Chocolate Chip']\n"
     ]
    }
   ],
   "source": [
    "# Fix the following code.\n",
    "# It should print the flavors in\n",
    "# ice_cream_flavors one by one.\n",
    "\n",
    "ice_cream_flavors = [\"Chocolate\", \"Mint Chocolate Chip\"]\n",
    "\n",
    "### EDIT THE FOLLOWING CODE ###\n",
    "for flavor in ice_cream_flavors:\n",
    "    print(ice_cream_flavors)\n",
    "### --------------- ###"
   ]
  },
  {
   "cell_type": "code",
   "execution_count": 35,
   "id": "ff8a4ff1-003a-491d-a8a2-9da29fb1bac9",
   "metadata": {},
   "outputs": [
    {
     "name": "stdout",
     "output_type": "stream",
     "text": [
      "The Sundanese translation for \"Cucumber\" as an ice cream flavor would be:\n",
      "\n",
      "**És Krim Bonténg**\n",
      "The most common and natural way to say \"Durian Ice Cream\" in Bahasa Sunda would be:\n",
      "\n",
      "**És Krim Durén**\n",
      "\n",
      "*   **És Krim:** This is borrowed from Indonesian \"Es Krim\" (Ice Cream), which is widely understood and used in Sundanese.\n",
      "*   **Durén:** This is the Sundanese word for Durian.\n",
      "\n",
      "You might also hear **És Durén**, which literally means \"Durian Ice\" but is often used colloquially for durian-flavored frozen desserts, including ice cream. However, **És Krim Durén** is more precise for \"ice cream.\"\n"
     ]
    }
   ],
   "source": [
    "# Translate the flavors in ice_cream_flavors to Spanish\n",
    "ice_cream_flavors = [\"Cucumber\", \"Durian\"]\n",
    "\n",
    "for flavor in ice_cream_flavors:\n",
    "    ### EDIT THE FOLLOWING CODE ###\n",
    "    #Hint: you only need to add one or two sentences to the prompt\n",
    "    prompt = f\"\"\"For the ice cream flavor listed below, translate it to bahasa Sunda.\n",
    "    {flavor}\n",
    "    \"\"\"\n",
    "    ### --------------- ###\n",
    "    print(response(prompt).text)"
   ]
  },
  {
   "cell_type": "code",
   "execution_count": 40,
   "id": "a0f0c96f-0677-487f-b041-7d9e6dd148c9",
   "metadata": {},
   "outputs": [],
   "source": [
    "# Write code to get a list with \n",
    "# words without typos\n",
    "\n",
    "words_with_typos = [\"Aple\", \"Wether\", \"Newpaper\"]\n",
    "words_without_typos = []\n",
    "\n",
    "for word in words_with_typos:\n",
    "    prompt = f\"\"\"Fix the spelling mistake in the following word: {word} and translate it to Bahasa Sunda.\n",
    "    \"\"\"\n",
    "    correct_word = response(prompt).text\n",
    "    words_without_typos.append(correct_word)\n",
    "    ### WRITE CODE HERE  ###\n",
    "    #Hint: Append the correct_word to the words_without_typos list \n",
    "    ### --------------- ###\n",
    "\n"
   ]
  },
  {
   "cell_type": "code",
   "execution_count": 41,
   "id": "17efdf9a-6248-48fe-9bd5-986bfde95c04",
   "metadata": {},
   "outputs": [
    {
     "name": "stdout",
     "output_type": "stream",
     "text": [
      "['The corrected word is **Apple**.\\n\\nIn Bahasa Sunda, \"Apple\" is **Apel**.', 'The spelling mistake in \"Wether\" depends on the intended meaning, as there are two common corrections:\\n\\n1.  **If you meant atmospheric conditions** (e.g., rain, sun, wind):\\n    *   Correct spelling: **Weather**\\n    *   Bahasa Sunda: **Cuaca**\\n\\n2.  **If you meant a conjunction used to introduce an alternative** (e.g., \"I don\\'t know whether to go or stay\"):\\n    *   Correct spelling: **Whether**\\n    *   Bahasa Sunda: This concept is usually expressed through phrases like **naha... atawa henteu** (whether... or not) or **bisi** (in case/whether). There isn\\'t a single direct word for \"whether.\"\\n\\n*(Note: \"Wether\" is also a correctly spelled word, referring to a castrated ram or goat, but it\\'s often confused with \"weather\" and \"whether\" in general usage.)*', 'The corrected word is: **Newspaper**\\n\\nIn Bahasa Sunda, it translates to: **Koran** or **Surat Kabar**']\n"
     ]
    }
   ],
   "source": [
    "print(words_without_typos)"
   ]
  },
  {
   "cell_type": "code",
   "execution_count": null,
   "id": "4b0bfa50-5ad7-48a2-8d48-5beec98f0e5f",
   "metadata": {},
   "outputs": [],
   "source": []
  }
 ],
 "metadata": {
  "kernelspec": {
   "display_name": "Python [conda env:base] *",
   "language": "python",
   "name": "conda-base-py"
  },
  "language_info": {
   "codemirror_mode": {
    "name": "ipython",
    "version": 3
   },
   "file_extension": ".py",
   "mimetype": "text/x-python",
   "name": "python",
   "nbconvert_exporter": "python",
   "pygments_lexer": "ipython3",
   "version": "3.12.2"
  }
 },
 "nbformat": 4,
 "nbformat_minor": 5
}
