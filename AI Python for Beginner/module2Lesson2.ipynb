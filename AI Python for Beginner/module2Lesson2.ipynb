{
 "cells": [
  {
   "cell_type": "code",
   "execution_count": 1,
   "id": "96c384f4-5cdd-419a-b602-8412bbb8cfcb",
   "metadata": {},
   "outputs": [],
   "source": [
    "!pip install -q -U google-generativeai"
   ]
  },
  {
   "cell_type": "code",
   "execution_count": 6,
   "id": "6b102dd3-3f97-4eb9-b2b2-b665e23f0a01",
   "metadata": {},
   "outputs": [
    {
     "name": "stdout",
     "output_type": "stream",
     "text": [
      "API key loaded successfully!\n"
     ]
    }
   ],
   "source": [
    "import google.generativeai as genai\n",
    "\n",
    "from dotenv import load_dotenv\n",
    "import os\n",
    "\n",
    "# Load environment variables from .env file\n",
    "load_dotenv()\n",
    "\n",
    "# Get API key from environment\n",
    "api_key = os.getenv('GOOGLE_API_KEY')\n",
    "\n",
    "# Optional: Check if key loaded successfully\n",
    "if api_key is None:\n",
    "    print(\"Warning: API key not found!\")\n",
    "else:\n",
    "    print(\"API key loaded successfully!\")\n",
    "\n",
    "# ⭐ Configure genai with the API key\n",
    "genai.configure(api_key=api_key)\n",
    "\n",
    "# Load the Gemini model\n",
    "model = genai.GenerativeModel(model_name=\"gemini-2.5-flash\")"
   ]
  },
  {
   "cell_type": "code",
   "execution_count": 7,
   "id": "688b5af4-db35-46c5-ab1a-4c761f05d553",
   "metadata": {},
   "outputs": [],
   "source": [
    "response = model.generate_content"
   ]
  },
  {
   "cell_type": "code",
   "execution_count": 8,
   "id": "a0a8ce47-b759-4740-bc93-2237fc80ee03",
   "metadata": {},
   "outputs": [
    {
     "name": "stdout",
     "output_type": "stream",
     "text": [
      "[\"Compose a brief email to my boss explaining that I will be late for tomorrow's meeting.\", 'Write a birthday poem for Otto, celebrating his 28th birthday.', \"Write a 300-word review of the movie 'The Arrival'.\"]\n"
     ]
    }
   ],
   "source": [
    "list_of_tasks = [\n",
    "    \"Compose a brief email to my boss explaining that I will be late for tomorrow's meeting.\",\n",
    "    \"Write a birthday poem for Otto, celebrating his 28th birthday.\",\n",
    "    \"Write a 300-word review of the movie 'The Arrival'.\"\n",
    "]\n",
    "print(list_of_tasks)"
   ]
  },
  {
   "cell_type": "code",
   "execution_count": 9,
   "id": "8b531a09-aa3c-4d74-b392-d2e72c079d49",
   "metadata": {},
   "outputs": [
    {
     "name": "stdout",
     "output_type": "stream",
     "text": [
      "Subject: Lateness for Tomorrow's Meeting - [Your Name]\n",
      "\n",
      "Hi [Boss's Name],\n",
      "\n",
      "Please note that I will be late for tomorrow's meeting. I have an unavoidable appointment that morning.\n",
      "\n",
      "I anticipate joining around [Time] AM/PM. My apologies for any inconvenience this may cause. I will be sure to catch up on anything I miss.\n",
      "\n",
      "Best regards,\n",
      "\n",
      "[Your Name]\n"
     ]
    }
   ],
   "source": [
    "task = list_of_tasks[0]\n",
    "print(response(task).text)"
   ]
  },
  {
   "cell_type": "code",
   "execution_count": 10,
   "id": "d4f4ce73-d66a-4de1-96b8-6751684506b4",
   "metadata": {},
   "outputs": [
    {
     "name": "stdout",
     "output_type": "stream",
     "text": [
      "Compose a brief email to my boss explaining that I will be late for tomorrow's meeting.\n",
      "Write a birthday poem for Otto, celebrating his 28th birthday.\n",
      "Write a 300-word review of the movie 'The Arrival'.\n"
     ]
    }
   ],
   "source": [
    "for shit in list_of_tasks:\n",
    "    print(shit)"
   ]
  },
  {
   "cell_type": "code",
   "execution_count": 11,
   "id": "32efdefe-149f-42fd-8e6f-56339641beeb",
   "metadata": {
    "scrolled": true
   },
   "outputs": [
    {
     "name": "stdout",
     "output_type": "stream",
     "text": [
      "Subject: Lateness for Tomorrow's Meeting - [Your Name]\n",
      "\n",
      "Dear [Boss's Name],\n",
      "\n",
      "I am writing to let you know that I will be late for tomorrow's [Meeting Name/Time, if known] meeting.\n",
      "\n",
      "I anticipate joining by approximately [Time, e.g., 9:15 AM]. I apologize for any inconvenience this may cause and will catch up on anything I miss.\n",
      "\n",
      "Regards,\n",
      "\n",
      "[Your Name]\n",
      "The sun shines bright, a festive hue,\n",
      "For Otto, twenty-eight, it's true!\n",
      "Another year has swiftly spun,\n",
      "A brand new chapter has begun.\n",
      "\n",
      "The years have woven tales untold,\n",
      "Of wisdom gained, a spirit bold.\n",
      "From youthful dreams to paths you've trod,\n",
      "With open heart, a gift from God.\n",
      "\n",
      "Your laughter rings, a joyful sound,\n",
      "Wherever warmth and fun are found.\n",
      "A generous spirit, kind and keen,\n",
      "The best of friends you've always been.\n",
      "\n",
      "At twenty-eight, a vibrant stride,\n",
      "With strength and dreams held deep inside.\n",
      "The world's an oyster, open wide,\n",
      "With so much more for you to guide.\n",
      "\n",
      "Ahead lie challenges, and grace,\n",
      "Adventures waiting to embrace.\n",
      "May every day bring joy anew,\n",
      "And all your brightest hopes come true.\n",
      "\n",
      "So here's to you, on this fine day,\n",
      "May happiness forever stay.\n",
      "Happy 28th, dear Otto, friend,\n",
      "May joyous moments never end!\n",
      "Denis Villeneuve’s “Arrival” is not just another alien invasion movie; it’s a profound meditation on communication, time, and the very essence of humanity. When twelve colossal, enigmatic spacecraft appear across the globe, humanity is gripped by fear and confusion. The military’s immediate response is to seek answers, recruiting linguistics professor Dr. Louise Banks (Amy Adams) and theoretical physicist Ian Donnelly (Jeremy Renner) to establish contact with the extraterrestrial Heptapods.\n",
      "\n",
      "The film meticulously builds its tension, eschewing typical sci-fi spectacle for a more introspective, cerebral approach. Louise’s mission is formidable: decipher a completely alien language, a circular script that defies linear human thought. Adams delivers a career-defining performance, portraying Louise with a blend of academic rigor, quiet determination, and heartbreaking vulnerability. Her journey into understanding the Heptapods' non-linear perception of time is the film’s emotional core, gradually revealing a devastating personal truth that elevates the narrative beyond simple first contact.\n",
      "\n",
      "Villeneuve’s direction is masterful, maintaining a palpable sense of awe and dread. The Heptapods themselves are brilliantly designed, their form and vocalizations reinforcing their profound otherness. Jóhann Jóhannsson’s haunting score and Bradford Young’s evocative cinematography contribute to an atmosphere that is both intimate and cosmic.\n",
      "\n",
      "\"Arrival\" challenges its audience to think deeply about how language shapes our reality, the nature of choice, and the potential for unity in the face of the unknown. It’s a film that lingers long after the credits roll, its emotional weight and intellectual ambition solidifying its place as a modern science fiction masterpiece. It doesn’t just ask \"Are we alone?\", but \"How would we truly communicate if we weren't?\" and, perhaps most importantly, \"What would we do with the knowledge of our own future?\"\n"
     ]
    }
   ],
   "source": [
    "for task in list_of_tasks:\n",
    "    print(response(task).text)"
   ]
  },
  {
   "cell_type": "code",
   "execution_count": 12,
   "id": "f9f7d9e4-ea32-41ec-8f89-e5e4ff0aeb11",
   "metadata": {},
   "outputs": [],
   "source": [
    "#ice cream flavor example\n",
    "ice_cream_flavors = [\n",
    "    \"Vanilla\",\n",
    "    \"Chocolate\",\n",
    "    \"Strawberry\",\n",
    "    \"Mint Chocolate Chip\"\n",
    "]"
   ]
  },
  {
   "cell_type": "code",
   "execution_count": 14,
   "id": "4652c8f4-6466-47c8-adb0-df7625f9d007",
   "metadata": {},
   "outputs": [
    {
     "name": "stdout",
     "output_type": "stream",
     "text": [
      "For the ice cream flavor listed below, \n",
      "    provide a captivating description that could be used for promotional purposes in Bahasa Indonesia.\n",
      "\n",
      "    Flavor: Vanilla\n",
      "\n",
      "    \n",
      "Tentu, ini dia deskripsi yang memikat untuk es krim Vanilla dalam Bahasa Indonesia:\n",
      "\n",
      "---\n",
      "\n",
      "**Es Krim Vanilla: Pelukan Hangat yang Tak Lekang oleh Waktu**\n",
      "\n",
      "Selami kelembutan surgawi Es Krim Vanilla kami, dibuat dari ekstrak biji vanilla asli pilihan yang menghadirkan aroma semerbak dan rasa manis yang murni, pas, dan begitu memanjakan. Setiap suapnya adalah sebuah simfoni tekstur krim yang begitu halus dan lumer di lidah, memancarkan esensi keanggunan klasik yang tak pernah usang.\n",
      "\n",
      "Ini bukan sekadar rasa; ini adalah kenangan manis masa kecil, kenyamanan abadi, dan sentuhan kemewahan dalam kesederhanaan yang sempurna. Rasakan keajaiban vanilla sejati yang memeluk jiwa dan membangkitkan senyuman. Sempurna untuk setiap momen, Es Krim Vanilla kami selalu menjadi pilihan terbaik untuk memanjakan diri Anda.\n",
      "\n",
      "**Vanilla: Murni. Lembut. Tak Terlupakan.**\n",
      "\n",
      "---\n",
      "For the ice cream flavor listed below, \n",
      "    provide a captivating description that could be used for promotional purposes in Bahasa Indonesia.\n",
      "\n",
      "    Flavor: Chocolate\n",
      "\n",
      "    \n",
      "Tentu, ini dia deskripsi yang menggoda untuk Es Krim Cokelat dalam Bahasa Indonesia:\n",
      "\n",
      "---\n",
      "\n",
      "**Es Krim Cokelat: Kenikmatan Abadi yang Tak Tergantikan**\n",
      "\n",
      "Siapa yang bisa menolak daya pikat cokelat sejati? Benamkan diri Anda dalam pelukan hangat Es Krim Cokelat kami yang tak tertandingi, sebuah ode untuk para pencinta cokelat di seluruh dunia.\n",
      "\n",
      "Dibuat dengan biji kakao pilihan terbaik, setiap sendokan adalah petualangan rasa yang pekat, intens, dan mendalam. Rasakan kelembutan krimi yang sempurna, melumer perlahan di lidah, meninggalkan jejak kebahagiaan murni yang tak terlupakan.\n",
      "\n",
      "Ini bukan sekadar es krim; ini adalah janji akan momen istimewa. Sebuah pelarian manis dari rutinitas, hadiah sempurna untuk memanjakan diri, atau sahabat setia untuk setiap perayaan.\n",
      "\n",
      "Manjakan selera Anda dengan klasik abadi yang akan memikat hati Anda. Es Krim Cokelat kami – kenikmatan murni dalam setiap sendokan!\n",
      "\n",
      "---\n",
      "For the ice cream flavor listed below, \n",
      "    provide a captivating description that could be used for promotional purposes in Bahasa Indonesia.\n",
      "\n",
      "    Flavor: Strawberry\n",
      "\n",
      "    \n",
      "Tentu, ini dia deskripsi yang memikat untuk es krim stroberi dalam Bahasa Indonesia:\n",
      "\n",
      "---\n",
      "\n",
      "**Es Krim Stroberi: Segar Manisnya Petikan Kebahagiaan!**\n",
      "\n",
      "Manjakan diri Anda dengan sensasi rasa manis-asam yang memikat dari Es Krim Stroberi kami. Dibuat dari **stroberi segar pilihan** yang matang sempurna, setiap sendoknya menghadirkan ledakan rasa buah alami yang otentik.\n",
      "\n",
      "Rasakan **tekstur lembut dan krimi** yang lumer perlahan di lidah, memanjakan indra Anda dengan aroma semerbak stroberi asli yang begitu menggoda. Perpaduan sempurna antara manisnya buah dan sentuhan asam yang menyegarkan ini akan membangkitkan keceriaan dan mencerahkan hari Anda.\n",
      "\n",
      "Ini bukan sekadar es krim, ini adalah **petikan kebahagiaan dalam setiap suapan**, siap mengubah momen biasa menjadi luar biasa. Sempurna untuk dinikmati kapan saja, di mana saja!\n",
      "\n",
      "---\n",
      "For the ice cream flavor listed below, \n",
      "    provide a captivating description that could be used for promotional purposes in Bahasa Indonesia.\n",
      "\n",
      "    Flavor: Mint Chocolate Chip\n",
      "\n",
      "    \n",
      "Tentu, ini dia deskripsi promosi yang memikat untuk es krim Mint Chocolate Chip dalam Bahasa Indonesia:\n",
      "\n",
      "---\n",
      "\n",
      "**Mint Chocolate Chip: Kesegaran Mint, Kejutan Cokelat!**\n",
      "\n",
      "Siapkah Anda merasakan perpaduan klasik yang tak lekang oleh waktu? Perkenalkan, Es Krim **Mint Chocolate Chip** kami yang luar biasa!\n",
      "\n",
      "Bayangkan sensasi es krim mint yang **lembut dan sejuk**, dengan semburat **kesegaran mint alami** yang membangkitkan semangat di setiap suapan. Rasanya seperti embun pagi yang dingin, menari di lidah Anda, meninggalkan kesan bersih dan menyegarkan.\n",
      "\n",
      "Namun, kejutan tak berhenti di situ! Setiap sendoknya bertabur **melimpah dengan serpihan cokelat chip berkualitas tinggi** yang renyah dan kaya rasa. Kontras manis pahit dari cokelat ini sempurna berpadu dengan kesejukan mint, menciptakan harmoni rasa yang akan membuat Anda ketagihan.\n",
      "\n",
      "Ini bukan sekadar es krim, ini adalah **sebuah pengalaman**: tarian rasa antara dingin yang menyegarkan dan manis renyah yang memanjakan. Sempurna untuk mendinginkan diri di hari yang panas, sebagai penutup manis setelah makan, atau kapan pun Anda membutuhkan sedikit kebahagiaan!\n",
      "\n",
      "**Manjakan diri Anda dengan Mint Chocolate Chip. Rasakan sendiri perpaduan klasik yang tak terlupakan ini!**\n",
      "\n",
      "---\n"
     ]
    }
   ],
   "source": [
    "for flavor in ice_cream_flavors:\n",
    "    prompt = f\"\"\"For the ice cream flavor listed below, \n",
    "    provide a captivating description that could be used for promotional purposes in Bahasa Indonesia.\n",
    "\n",
    "    Flavor: {flavor}\n",
    "\n",
    "    \"\"\"\n",
    "    print(prompt)\n",
    "    print(response(prompt).text)"
   ]
  },
  {
   "cell_type": "code",
   "execution_count": 16,
   "id": "f6724052-fac2-43f3-8a79-a994b5054de4",
   "metadata": {},
   "outputs": [],
   "source": [
    "#saving results to a list\n",
    "promotional_descriptions = []\n",
    "for flavor in ice_cream_flavors:\n",
    "    prompt = f\"\"\"For the ice cream flavor listed below, \n",
    "    provide a captivating description that could be used for promotional purposes. Provide 1 description only\n",
    "\n",
    "    Flavor: {flavor}\n",
    "\n",
    "    \"\"\"\n",
    "    description = response(prompt).text\n",
    "    promotional_descriptions.append(description)"
   ]
  },
  {
   "cell_type": "code",
   "execution_count": 17,
   "id": "d4694b39-542a-4787-9176-269ba6352605",
   "metadata": {},
   "outputs": [
    {
     "name": "stdout",
     "output_type": "stream",
     "text": [
      "[\"Indulge in the pure, unadulterated pleasure of our signature Vanilla. Crafted with the finest, fragrant vanilla beans, each luscious scoop delivers a smooth, velvety texture and a rich, sweet depth that transcends the ordinary. It's a timeless classic, a comforting embrace, and a versatile masterpiece that stands resplendently on its own or perfectly complements any creation. Discover the sublime elegance of true vanilla perfection.\", \"Surrender to the timeless allure of our Chocolate ice cream. Each velvety-smooth scoop is a journey into rich, deep cocoa perfection, delivering an intense burst of flavor that lingers deliciously. It's not just ice cream; it's a decadent embrace, a comforting classic, and the ultimate indulgence for every chocolate lover. Prepare for pure, unadulterated bliss.\", \"Bask in the sun-drenched sweetness of our Strawberry ice cream! Each creamy scoop is a vibrant celebration, bursting with the pure, juicy essence of perfectly ripe, hand-picked strawberries. It's a taste of summer, a delightful classic, and an irresistible moment of pure, fruity bliss.\", \"Dive into a refreshing oasis! Our Mint Chocolate Chip ice cream begins with a creamy, dreamy base infused with the purest, cool peppermint, delivering an invigorating burst with every scoop. Each luxurious swirl is then generously studded with decadent, dark chocolate chips that melt in your mouth, creating a harmonious dance between crisp, refreshing mint and rich, sweet cocoa. It's a timeless classic perfected, offering a revitalizing escape and a truly blissful experience with every single bite.\"]\n"
     ]
    }
   ],
   "source": [
    "print(promotional_descriptions)"
   ]
  },
  {
   "cell_type": "code",
   "execution_count": 19,
   "id": "5d7d6ee9-4262-4f17-8fa4-4379005088e0",
   "metadata": {},
   "outputs": [
    {
     "name": "stdout",
     "output_type": "stream",
     "text": [
      "Chocolate\n",
      "Mint Chocolate Chip\n"
     ]
    }
   ],
   "source": [
    "# Fix the following code.\n",
    "# It should print the flavors in\n",
    "# ice_cream_flavors one by one.\n",
    "\n",
    "ice_cream_flavors = [\"Chocolate\", \"Mint Chocolate Chip\"]\n",
    "\n",
    "### EDIT THE FOLLOWING CODE ###\n",
    "for flavor in ice_cream_flavors:\n",
    "    print(flavor)\n",
    "### --------------- ###"
   ]
  },
  {
   "cell_type": "code",
   "execution_count": 20,
   "id": "ff8a4ff1-003a-491d-a8a2-9da29fb1bac9",
   "metadata": {},
   "outputs": [
    {
     "name": "stdout",
     "output_type": "stream",
     "text": [
      "**Timun**\n",
      "\n",
      "*(If you want to be more explicit about it being an ice cream flavor, you could say \"Es krim timun\" or \"Es krim rasa timun\" which means \"Cucumber ice cream\" or \"Cucumber flavor ice cream\" respectively. But \"Timun\" alone is generally understood in this context.)*\n",
      "The most common and natural way to say \"Durian ice cream\" in Bahasa Sunda would be:\n",
      "\n",
      "**És Krim Durén**\n",
      "\n",
      "*   **És Krim:** (Ice Cream) - This is a loanword, widely used and understood in Sundanese (and Indonesian).\n",
      "*   **Durén:** (Durian) - While \"durian\" is understood, \"durén\" is a common Sundanese pronunciation when referring to the fruit, especially as an adjective for a flavor.\n"
     ]
    }
   ],
   "source": [
    "# Translate the flavors in ice_cream_flavors to Spanish\n",
    "ice_cream_flavors = [\"Cucumber\", \"Durian\"]\n",
    "\n",
    "for flavor in ice_cream_flavors:\n",
    "    ### EDIT THE FOLLOWING CODE ###\n",
    "    #Hint: you only need to add one or two sentences to the prompt\n",
    "    prompt = f\"\"\"For the ice cream flavor listed below, translate it to bahasa Sunda.\n",
    "    {flavor}\n",
    "    \"\"\"\n",
    "    ### --------------- ###\n",
    "    print(response(prompt).text)"
   ]
  },
  {
   "cell_type": "code",
   "execution_count": 23,
   "id": "a0f0c96f-0677-487f-b041-7d9e6dd148c9",
   "metadata": {},
   "outputs": [],
   "source": [
    "# Write code to get a list with \n",
    "# words without typos\n",
    "\n",
    "words_with_typos = [\"Aple\", \"Wether\", \"Newpaper\"]\n",
    "words_without_typos = []\n",
    "\n",
    "for word in words_with_typos:\n",
    "    prompt = f\"\"\"Fix the spelling mistake in the following word: {word} and translate it to Bahasa Sunda. Provide the answer whithout formatting\n",
    "    \"\"\"\n",
    "    correct_word = response(prompt).text\n",
    "    words_without_typos.append(correct_word)\n",
    "    ### WRITE CODE HERE  ###\n",
    "    #Hint: Append the correct_word to the words_without_typos list \n",
    "    ### --------------- ###\n",
    "\n"
   ]
  },
  {
   "cell_type": "code",
   "execution_count": 24,
   "id": "17efdf9a-6248-48fe-9bd5-986bfde95c04",
   "metadata": {},
   "outputs": [
    {
     "name": "stdout",
     "output_type": "stream",
     "text": [
      "['Apple\\nApel', 'Weather Cuaca', 'Newspaper - koran']\n"
     ]
    }
   ],
   "source": [
    "print(words_without_typos)"
   ]
  },
  {
   "cell_type": "code",
   "execution_count": null,
   "id": "4b0bfa50-5ad7-48a2-8d48-5beec98f0e5f",
   "metadata": {},
   "outputs": [],
   "source": []
  }
 ],
 "metadata": {
  "kernelspec": {
   "display_name": "Python [conda env:base] *",
   "language": "python",
   "name": "conda-base-py"
  },
  "language_info": {
   "codemirror_mode": {
    "name": "ipython",
    "version": 3
   },
   "file_extension": ".py",
   "mimetype": "text/x-python",
   "name": "python",
   "nbconvert_exporter": "python",
   "pygments_lexer": "ipython3",
   "version": "3.12.2"
  }
 },
 "nbformat": 4,
 "nbformat_minor": 5
}
