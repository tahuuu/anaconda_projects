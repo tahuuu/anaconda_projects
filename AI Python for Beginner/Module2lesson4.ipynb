{
 "cells": [
  {
   "cell_type": "markdown",
   "id": "a57882f0-8a36-4299-9923-794c847e80b8",
   "metadata": {},
   "source": [
    "# Lesson 4 - Customizing recipes with lists, dictionaries and AI\n"
   ]
  },
  {
   "cell_type": "markdown",
   "id": "8f83189b-e148-44e1-96d9-db7ac0c156d4",
   "metadata": {},
   "source": [
    "In the previous lesson, you went through how to use dictionaries to complete tasks by priority. In this lesson, you will see how you can use dictionaries to update LLM prompts and create food recipies that match your friends preferences, restrictions and cooking experience."
   ]
  },
  {
   "cell_type": "code",
   "execution_count": 1,
   "id": "97adeed8-8d9a-4cdb-9c19-c921dce33f22",
   "metadata": {},
   "outputs": [],
   "source": [
    "!pip install -q -U google-generativeai"
   ]
  },
  {
   "cell_type": "code",
   "execution_count": 2,
   "id": "f9f2c5b0-abed-4ded-abab-cb272d959487",
   "metadata": {},
   "outputs": [
    {
     "name": "stdout",
     "output_type": "stream",
     "text": [
      "API key loaded successfully!\n"
     ]
    }
   ],
   "source": [
    "import google.generativeai as genai\n",
    "\n",
    "from dotenv import load_dotenv\n",
    "import os\n",
    "\n",
    "# Load environment variables from .env file\n",
    "load_dotenv()\n",
    "\n",
    "# Get API key from environment\n",
    "api_key = os.getenv('GOOGLE_API_KEY')\n",
    "\n",
    "# Optional: Check if key loaded successfully\n",
    "if api_key is None:\n",
    "    print(\"Warning: API key not found!\")\n",
    "else:\n",
    "    print(\"API key loaded successfully!\")\n",
    "\n",
    "# ⭐ Configure genai with the API key\n",
    "genai.configure(api_key=api_key)\n",
    "\n",
    "# Load the Gemini model\n",
    "model = genai.GenerativeModel(model_name=\"gemini-2.5-flash\")"
   ]
  },
  {
   "cell_type": "code",
   "execution_count": 3,
   "id": "10742418-a6b0-4dc5-b5c7-96b1ed59fc5f",
   "metadata": {},
   "outputs": [],
   "source": [
    "response = model.generate_content"
   ]
  },
  {
   "cell_type": "markdown",
   "id": "8fc08cca-f2e3-43b3-9933-f129eabc248f",
   "metadata": {},
   "source": [
    "## Food preference dictionaries\n",
    "\n",
    "Dictionaries are a useful way to organize multiple variables associated with a single entity, like one of your friends. In the next dictionary, you store the food preferences and cooking experience for Tommy."
   ]
  },
  {
   "cell_type": "code",
   "execution_count": 4,
   "id": "1ae880e6-c145-472e-b03c-6078f9a1119d",
   "metadata": {},
   "outputs": [],
   "source": [
    "food_preferences_kamila = {\n",
    "        \"dietary_restrictions\": \"halal food only\",\n",
    "        \"favorite_ingredients\": [\"fish\", \"cuttlefish\", \"beef\", \"carrot\", \"broccoli\"],\n",
    "        \"experience_level\": \"intermediate\",\n",
    "        \"maximum_spice_level\": 2, \"preferences\": \"Western Cuisine\"\n",
    "        \n",
    "}"
   ]
  },
  {
   "cell_type": "markdown",
   "id": "de78d1a3-e02b-4623-bd19-46f11fb66f4d",
   "metadata": {},
   "source": [
    "As you can see there, that dictionary has four keys, wich you can access using \".keys()\":"
   ]
  },
  {
   "cell_type": "code",
   "execution_count": 5,
   "id": "2abb369b-0605-4e66-80ae-787385043b0d",
   "metadata": {},
   "outputs": [
    {
     "name": "stdout",
     "output_type": "stream",
     "text": [
      "dict_keys(['dietary_restrictions', 'favorite_ingredients', 'experience_level', 'maximum_spice_level', 'preferences'])\n"
     ]
    }
   ],
   "source": [
    "print(food_preferences_kamila.keys())"
   ]
  },
  {
   "cell_type": "markdown",
   "id": "a6522752-1b4c-4c98-b4f6-e042add72026",
   "metadata": {},
   "source": [
    "And it has values with different data types: lists, strings and integers."
   ]
  },
  {
   "cell_type": "code",
   "execution_count": 6,
   "id": "c9782d50-28e5-42c8-b3d3-61e58ae84173",
   "metadata": {},
   "outputs": [
    {
     "name": "stdout",
     "output_type": "stream",
     "text": [
      "dict_values(['halal food only', ['fish', 'cuttlefish', 'beef', 'carrot', 'broccoli'], 'intermediate', 2, 'Western Cuisine'])\n"
     ]
    }
   ],
   "source": [
    "print(food_preferences_kamila.values())"
   ]
  },
  {
   "cell_type": "markdown",
   "id": "de155441-d864-4c3c-b8ef-36f66109607c",
   "metadata": {},
   "source": [
    "Let's see how you can use these in a prompt to create recipes that take into account your friends dietary preferences."
   ]
  },
  {
   "cell_type": "markdown",
   "id": "b4d90d45-1291-48ea-9b87-20592d961e77",
   "metadata": {},
   "source": [
    "## Using keys and values within AI prompt"
   ]
  },
  {
   "cell_type": "markdown",
   "id": "56a1c65a-2cd3-4d71-88c7-8af23db298cb",
   "metadata": {},
   "source": [
    "So here's a prompt that uses all the information in the dictionary to create a customized recipe"
   ]
  },
  {
   "cell_type": "code",
   "execution_count": 8,
   "id": "e02ab87b-7e57-48ae-bc8a-bf1bdbecb373",
   "metadata": {},
   "outputs": [],
   "source": [
    "prompt = f\"\"\"Please suggest a recipe that tries to include \n",
    "the following ingredients: \n",
    "{food_preferences_kamila[\"favorite_ingredients\"]}.\n",
    "The recipe should adhere to the following dietary restrictions:\n",
    "{food_preferences_kamila[\"dietary_restrictions\"]}.\n",
    "The difficulty of the recipe should be: \n",
    "{food_preferences_kamila[\"experience_level\"]}\n",
    "The maximum spice level on a scale of 10 should be: \n",
    "{food_preferences_kamila[\"maximum_spice_level\"]}\n",
    "The cuisine preference should be:\n",
    "{food_preferences_kamila[\"preferences\"]}\n",
    "Provide step by step recipe and how to cook it plain text without formatting\n",
    "\"\"\""
   ]
  },
  {
   "cell_type": "markdown",
   "id": "e8f226b2-aa2d-41b0-b6ba-c1b7e4312899",
   "metadata": {},
   "source": [
    "Run the cell below to print the prompt."
   ]
  },
  {
   "cell_type": "code",
   "execution_count": 9,
   "id": "7baff07b-7e2d-4ae2-9b93-a41def6d15d0",
   "metadata": {},
   "outputs": [
    {
     "name": "stdout",
     "output_type": "stream",
     "text": [
      "Please suggest a recipe that tries to include \n",
      "the following ingredients: \n",
      "['fish', 'cuttlefish', 'beef', 'carrot', 'broccoli'].\n",
      "The recipe should adhere to the following dietary restrictions:\n",
      "halal food only.\n",
      "The difficulty of the recipe should be: \n",
      "intermediate\n",
      "The maximum spice level on a scale of 10 should be: \n",
      "2\n",
      "The cuisine preference should be:\n",
      "Western Cuisine\n",
      "Provide step by step recipe and how to cook it plain text without formatting\n",
      "\n"
     ]
    }
   ],
   "source": [
    "print(prompt)"
   ]
  },
  {
   "cell_type": "markdown",
   "id": "42d7f179-76f8-4a30-8a6a-bbdd5b94f147",
   "metadata": {},
   "source": [
    "Now, you can use that prompt with an LLM to suggest a recipe to fit Tommy's preferences:"
   ]
  },
  {
   "cell_type": "code",
   "execution_count": 10,
   "id": "444bc130-f9d2-4bd5-8909-f3cb8f3351d7",
   "metadata": {},
   "outputs": [
    {
     "name": "stdout",
     "output_type": "stream",
     "text": [
      "Mediterranean Surf and Turf with Sautéed Vegetables\n",
      "\n",
      "This dish combines pan-seared halal beef, lightly cooked fish, and tender cuttlefish with fresh vegetables, brought together by a mild, flavorful pan sauce.\n",
      "\n",
      "Yields 2 servings\n",
      "Prep time 25 minutes\n",
      "Cook time 25 minutes\n",
      "\n",
      "Ingredients:\n",
      "For the Beef:\n",
      "250 grams halal beef sirloin or tenderloin steak about 1 inch thick\n",
      "1 tablespoon olive oil\n",
      "1/2 teaspoon salt\n",
      "1/4 teaspoon white pepper\n",
      "\n",
      "For the Seafood:\n",
      "150 grams firm white fish fillets such as cod or snapper skinless boneless\n",
      "150 grams cuttlefish cleaned and cut into 1/2 inch rings or strips\n",
      "1 tablespoon olive oil\n",
      "1/4 teaspoon salt\n",
      "Pinch of white pepper\n",
      "1 tablespoon fresh lemon juice optional for garnish\n",
      "\n",
      "For the Vegetables:\n",
      "1 large carrot peeled and sliced into 1/4 inch rounds or half-moons\n",
      "1 cup broccoli florets\n",
      "1 tablespoon olive oil\n",
      "1/4 teaspoon salt\n",
      "\n",
      "For the Pan Sauce:\n",
      "1 tablespoon olive oil or halal butter\n",
      "1 small shallot finely minced or 1 tablespoon finely minced yellow onion\n",
      "1 clove garlic minced\n",
      "1 cup halal beef broth or vegetable broth\n",
      "1 teaspoon cornstarch mixed with 2 tablespoons cold water slurry\n",
      "1/4 teaspoon salt\n",
      "Pinch of white pepper\n",
      "2 tablespoons fresh parsley chopped for garnish\n",
      "\n",
      "Instructions:\n",
      "\n",
      "1. Prepare the ingredients. Pat the beef steak thoroughly dry with paper towels. Season both sides with 1/2 teaspoon salt and 1/4 teaspoon white pepper. Set aside. Pat the fish fillets thoroughly dry and cut them into 2-3 pieces if large. Season with 1/4 teaspoon salt and a pinch of white pepper. Pat the cuttlefish rings or strips thoroughly dry. Peel and slice the carrot. Wash and separate the broccoli into florets. Mince the shallot and garlic. Prepare the cornstarch slurry.\n",
      "\n",
      "2. Cook the beef. Heat 1 tablespoon olive oil in a large skillet or frying pan over medium-high heat until shimmering. Carefully place the seasoned beef steak in the hot pan. Sear for 3-4 minutes per side for medium-rare, or longer to your desired doneness. The exterior should be nicely browned. Once cooked, transfer the beef to a cutting board, tent loosely with foil, and let it rest for at least 5-7 minutes. This allows the juices to redistribute.\n",
      "\n",
      "3. Sauté the vegetables. While the beef is resting, use the same skillet if it has enough residual oil and fond (browned bits), or add 1 tablespoon fresh olive oil. Add the sliced carrots to the pan and sauté for 3-4 minutes until they start to soften slightly. Add the broccoli florets and 1/4 teaspoon salt. Continue to sauté for another 3-5 minutes, stirring occasionally, until the vegetables are tender-crisp. Transfer the cooked vegetables to a plate and set aside.\n",
      "\n",
      "4. Cook the cuttlefish. Add 1 tablespoon olive oil to the now empty skillet over medium-high heat. Add the cleaned and dried cuttlefish rings or strips to the hot pan. Sauté for only 2-3 minutes, stirring frequently, until they turn opaque and are just cooked through. Be careful not to overcook, as cuttlefish can become rubbery. Remove the cuttlefish from the pan and add it to the plate with the vegetables.\n",
      "\n",
      "5. Cook the fish. Add another tablespoon of olive oil to the skillet if needed. Place the seasoned fish fillets in the hot pan. Cook for 3-4 minutes per side, depending on thickness, until the fish flakes easily with a fork and is opaque throughout. Carefully remove the cooked fish from the pan and place it on the plate with the vegetables and cuttlefish. You can drizzle with optional fresh lemon juice now.\n",
      "\n",
      "6. Prepare the pan sauce. Reduce the heat to medium-low. Add 1 tablespoon olive oil or halal butter to the same skillet. Add the minced shallot or onion and sauté for 1-2 minutes until softened and fragrant. Add the minced garlic and cook for another 30 seconds until aromatic, being careful not to burn it. Pour in the 1 cup of halal beef broth or vegetable broth, scraping up any browned bits (fond) from the bottom of the pan with a wooden spoon. Bring the broth to a gentle simmer.\n",
      "\n",
      "7. Thicken and season the sauce. Stir the cornstarch slurry once more and slowly pour it into the simmering broth while whisking continuously. Continue to whisk until the sauce thickens to your desired consistency, usually about 1-2 minutes. Season the sauce with 1/4 teaspoon salt and a pinch of white pepper. Taste and adjust seasoning if needed. The sauce should be mild and savory.\n",
      "\n",
      "8. Assemble and serve. Slice the rested beef steak against the grain into 1/2 inch thick slices. Arrange the sliced beef, cooked fish, cuttlefish, and sautéed carrots and broccoli on individual plates. Spoon the warm pan sauce generously over the beef, seafood, and vegetables. Garnish with chopped fresh parsley. Serve immediately.\n"
     ]
    }
   ],
   "source": [
    "print(response(prompt).text)"
   ]
  },
  {
   "cell_type": "markdown",
   "id": "0bf947d0-47cc-4df0-920e-281782c9ef97",
   "metadata": {},
   "source": [
    "## Refining the prompt with available ingredients\n"
   ]
  },
  {
   "cell_type": "markdown",
   "id": "baf507ba-57f1-40b4-8d20-cb9ae6546720",
   "metadata": {},
   "source": [
    "You can go a step further and consider the available ingredients at your house. To do so, let's use the following lists:"
   ]
  },
  {
   "cell_type": "code",
   "execution_count": 11,
   "id": "1b1e88f5-196f-4cbd-bbf8-8e3f86a8408e",
   "metadata": {},
   "outputs": [],
   "source": [
    "available_spices = [\"salt\", \"turmeric\", \"oregano\", \"paprika\", \"pepper\", \"soy sauce\"]"
   ]
  },
  {
   "cell_type": "markdown",
   "id": "8f77cc15-cb14-410a-a0fd-e83cd9f2d767",
   "metadata": {},
   "source": [
    "You can add these directly to the prompt so that the LLM take those into consideration"
   ]
  },
  {
   "cell_type": "code",
   "execution_count": 18,
   "id": "0aee11e2-bc82-4c28-b181-73ced1620443",
   "metadata": {},
   "outputs": [
    {
     "name": "stdout",
     "output_type": "stream",
     "text": [
      "Please suggest a recipe that tries to include \n",
      "the following ingredients: \n",
      "['fish', 'cuttlefish', 'beef', 'carrot', 'broccoli'].\n",
      "The recipe should adhere to the following dietary restrictions:\n",
      "halal food only.\n",
      "The difficulty of the recipe should be: \n",
      "intermediate\n",
      "The maximum spice level on a scale of 10 should be: \n",
      "2 \n",
      "The cuisine preference should be:\n",
      "Western Cuisine\n",
      "Provide step by step recipe and how to cook it. No formatting in the text\n",
      "\n",
      "The recipe should not include spices outside of this list:\n",
      "Spices: ['salt', 'turmeric', 'oregano', 'paprika', 'pepper', 'soy sauce']\n",
      "\n"
     ]
    }
   ],
   "source": [
    "prompt = f\"\"\"Please suggest a recipe that tries to include \n",
    "the following ingredients: \n",
    "{food_preferences_kamila[\"favorite_ingredients\"]}.\n",
    "The recipe should adhere to the following dietary restrictions:\n",
    "{food_preferences_kamila[\"dietary_restrictions\"]}.\n",
    "The difficulty of the recipe should be: \n",
    "{food_preferences_kamila[\"experience_level\"]}\n",
    "The maximum spice level on a scale of 10 should be: \n",
    "{food_preferences_kamila[\"maximum_spice_level\"]} \n",
    "The cuisine preference should be:\n",
    "{food_preferences_kamila[\"preferences\"]}\n",
    "Provide step by step recipe and how to cook it. No formatting in the text\n",
    "\n",
    "The recipe should not include spices outside of this list:\n",
    "Spices: {available_spices}\n",
    "\"\"\"\n",
    "print(prompt)"
   ]
  },
  {
   "cell_type": "markdown",
   "id": "350a6b9c-bcb0-42f9-b880-aa2abbbdf5d7",
   "metadata": {},
   "source": [
    "Now, get the LLM response to that prompt and assign it to a variable:"
   ]
  },
  {
   "cell_type": "code",
   "execution_count": 19,
   "id": "d1b9536f-1be9-4b9d-878a-c88102d9f7a1",
   "metadata": {},
   "outputs": [],
   "source": [
    "recipe = response(prompt).text"
   ]
  },
  {
   "cell_type": "markdown",
   "id": "16a635f8-3520-41b7-bdcc-30ec3694c0b6",
   "metadata": {},
   "source": [
    "And print the recipe that considers Tommy's restrictions as well as the available ingredients at your house."
   ]
  },
  {
   "cell_type": "code",
   "execution_count": 21,
   "id": "778c3f34-8962-478d-a06d-625de75510ec",
   "metadata": {},
   "outputs": [
    {
     "name": "stdout",
     "output_type": "stream",
     "text": [
      "Mediterranean Style Seafood and Beef Skewers with Roasted Vegetables\n",
      "\n",
      "This recipe features a harmonious blend of the requested ingredients in a mild, Western-inspired dish. The proteins are marinated with simple herbs and spices then grilled or pan-fried on skewers, complemented by roasted carrots and broccoli.\n",
      "\n",
      "Ingredients:\n",
      "300 grams Halal beef sirloin or tenderloin cut into 1-inch cubes\n",
      "250 grams Firm white fish such as cod or halibut skinless and boneless cut into 1-inch cubes\n",
      "250 grams Cuttlefish cleaned body cut into 1-inch pieces tentacles optional\n",
      "2 medium Carrots peeled and cut into 1/2-inch thick rounds or sticks\n",
      "1 head Broccoli cut into medium florets\n",
      "3 tablespoons Olive oil divided\n",
      "2 teaspoons Salt divided\n",
      "1 teaspoon Black pepper divided\n",
      "1 teaspoon Dried oregano\n",
      "1/2 teaspoon Paprika\n",
      "1/4 teaspoon Turmeric\n",
      "1 tablespoon Soy sauce halal certified or alcohol free preferred\n",
      "8-12 wooden or metal skewers if using wooden soak in water for 30 minutes\n",
      "\n",
      "Instructions:\n",
      "\n",
      "Step 1 Prepare the proteins and marinade. Pat the beef fish and cuttlefish dry thoroughly with paper towels. In a medium bowl combine 1 teaspoon salt 1/2 teaspoon black pepper 1 teaspoon dried oregano 1/2 teaspoon paprika 1/4 teaspoon turmeric and 1 tablespoon soy sauce. Add 1 tablespoon of olive oil to this mixture. This will be your marinade base. Divide this marinade into three roughly equal portions. Add one portion to the beef cubes, one portion to the fish cubes, and one portion to the cuttlefish pieces. Toss each protein gently in its respective marinade to ensure it is well coated. Let the proteins marinate for at least 30 minutes at room temperature or for up to 2 hours in the refrigerator.\n",
      "\n",
      "Step 2 Prepare and roast the vegetables. Preheat your oven to 200 degrees Celsius (390 degrees Fahrenheit). In a large bowl toss the carrot pieces and broccoli florets with 1 tablespoon of olive oil 1/2 teaspoon of salt and 1/4 teaspoon of black pepper. Ensure the vegetables are evenly coated. Spread the seasoned vegetables in a single layer on a baking sheet. Roast them in the preheated oven for 20 to 25 minutes or until they are tender-crisp and show a slight caramelization.\n",
      "\n",
      "Step 3 Assemble the skewers. If you are using wooden skewers make sure they have been soaked in water to prevent burning. Carefully thread the marinated beef fish and cuttlefish pieces onto the skewers. Alternate the proteins for an appealing look and even cooking. Aim for about 3-4 pieces of each protein per skewer. Be gentle when threading the fish to avoid it breaking apart.\n",
      "\n",
      "Step 4 Cook the skewers. Heat the remaining 1 tablespoon of olive oil in a large grill pan or a heavy-bottomed skillet over medium-high heat. Alternatively if you have an outdoor grill preheat it to medium-high heat. Once the pan or grill is hot place the assembled skewers on it. Cook the skewers for 3 to 5 minutes per side turning them occasionally until the beef is cooked to your desired doneness typically medium-rare to medium for tenderness the fish is opaque and flakes easily and the cuttlefish is tender. Be careful not to overcook the cuttlefish as it can become rubbery quickly. You may need to cook the skewers in batches if your pan or grill is not large enough.\n",
      "\n",
      "Step 5 Serve the dish. Once cooked remove the skewers and the roasted vegetables from the heat. Arrange the Mediterranean Style Seafood and Beef Skewers on serving plates alongside the roasted carrots and broccoli. Serve immediately and enjoy your intermediate difficulty and subtly flavored Western meal.\n"
     ]
    }
   ],
   "source": [
    "print(recipe)"
   ]
  },
  {
   "cell_type": "markdown",
   "id": "73aacb91-602e-4c73-ae01-c110266b2c7a",
   "metadata": {},
   "source": [
    "## Looking ahead"
   ]
  },
  {
   "cell_type": "markdown",
   "id": "4859a35b-f5ab-4c4b-83e8-2ed2c880ae37",
   "metadata": {},
   "source": [
    "Let's take another look atfood_preferences_kamila[\"dietary_restrictions\"]"
   ]
  },
  {
   "cell_type": "code",
   "execution_count": 20,
   "id": "f9ce6b57-b1ba-464f-9fe0-57ccf4fccf45",
   "metadata": {},
   "outputs": [
    {
     "name": "stdout",
     "output_type": "stream",
     "text": [
      "halal food only\n"
     ]
    }
   ],
   "source": [
    "print(food_preferences_kamila[\"dietary_restrictions\"])"
   ]
  },
  {
   "cell_type": "markdown",
   "id": "be4989ac-061a-435c-932c-c40827d0b5de",
   "metadata": {},
   "source": [
    "Here is a different way you could tell Python that Tommy is vegetarian:"
   ]
  },
  {
   "cell_type": "code",
   "execution_count": 22,
   "id": "cdcb7663-2158-417a-81c1-8a0dffb18e08",
   "metadata": {},
   "outputs": [],
   "source": [
    "food_preferences_kamila[\"is_halal\"] = True"
   ]
  },
  {
   "cell_type": "code",
   "execution_count": 23,
   "id": "1bfa5ae3-a8ba-4b3b-a046-b004b3bfc7ae",
   "metadata": {},
   "outputs": [
    {
     "name": "stdout",
     "output_type": "stream",
     "text": [
      "{'dietary_restrictions': 'halal food only', 'favorite_ingredients': ['fish', 'cuttlefish', 'beef', 'carrot', 'broccoli'], 'experience_level': 'intermediate', 'maximum_spice_level': 2, 'preferences': 'Western Cuisine', 'is_halal': True}\n"
     ]
    }
   ],
   "source": [
    "print(food_preferences_kamila)"
   ]
  },
  {
   "cell_type": "markdown",
   "id": "85c6020f-9148-400c-9f0c-b7c1d98264fd",
   "metadata": {},
   "source": [
    "## Extra practice"
   ]
  },
  {
   "cell_type": "markdown",
   "id": "a3824cd4-b710-4453-a24c-54b4e61f0e17",
   "metadata": {},
   "source": [
    "Please go through the exercises in the cells below if you want some extra practice for the topics you covered in this lesson."
   ]
  },
  {
   "cell_type": "code",
   "execution_count": 24,
   "id": "65b557eb-bc29-4d8f-852c-d26cb8478b45",
   "metadata": {},
   "outputs": [
    {
     "name": "stdout",
     "output_type": "stream",
     "text": [
      "{'dietary_restrictions': ['carnivore with very minimum spices'], 'favorite_ingredients': ['lamb', 'beef', 'lever', 'beef toungue'], 'experience_level': 'advance', 'maximum_spice_level': 10}\n"
     ]
    }
   ],
   "source": [
    "# Update the following dictionary \n",
    "# with your own preferences \n",
    "\n",
    "### EDIT THE FOLLOWING CODE ###\n",
    "my_food_preferences = {\n",
    "        \"dietary_restrictions\": [\"carnivore with very minimum spices\"], #List with dietary restrictions\n",
    "        \"favorite_ingredients\": [\"lamb\", \"beef\", \"lever\", \"beef toungue\"], #List with top three favorite ingredients\n",
    "        \"experience_level\": \"advance\", #Experience level\n",
    "        \"maximum_spice_level\": 10 #Spice level in a scale from 1 to 10\n",
    "}\n",
    "### --------------- ###\n",
    "\n",
    "print(my_food_preferences)"
   ]
  },
  {
   "cell_type": "code",
   "execution_count": 29,
   "id": "fc006ef6-c3ae-491c-a872-123e683458b6",
   "metadata": {},
   "outputs": [],
   "source": [
    "prompt = f\"\"\"Please suggest a recipe that tries to include \n",
    "the following ingredients: \n",
    "{my_food_preferences[\"favorite_ingredients\"]}.\n",
    "The recipe should adhere to the following dietary restrictions:\n",
    "{my_food_preferences[\"dietary_restrictions\"]}.\n",
    "The difficulty of the recipe should be: \n",
    "{my_food_preferences[\"experience_level\"]}.\n",
    "The maximum spice should be:\n",
    "{my_food_preferences[\"maximum_spice_level\"]}\n",
    "Provide the recipe, cooking guide and calorie count.\n",
    "Provide the text without any formatting\n",
    "\"\"\""
   ]
  },
  {
   "cell_type": "code",
   "execution_count": 30,
   "id": "0e5a9356-2817-4f47-88f1-af6c175a9f28",
   "metadata": {},
   "outputs": [
    {
     "name": "stdout",
     "output_type": "stream",
     "text": [
      "Please suggest a recipe that tries to include \n",
      "the following ingredients: \n",
      "['lamb', 'beef', 'lever', 'beef toungue'].\n",
      "The recipe should adhere to the following dietary restrictions:\n",
      "['carnivore with very minimum spices'].\n",
      "The difficulty of the recipe should be: \n",
      "advance.\n",
      "The maximum spice should be:\n",
      "10\n",
      "Provide the recipe, cooking guide and calorie count.\n",
      "Provide the text without any formatting\n",
      "\n"
     ]
    }
   ],
   "source": [
    "print(prompt)"
   ]
  },
  {
   "cell_type": "code",
   "execution_count": 31,
   "id": "e238e863-be91-4a5d-bb77-84fea59c891e",
   "metadata": {
    "scrolled": true
   },
   "outputs": [
    {
     "name": "stdout",
     "output_type": "stream",
     "text": [
      "Recipe: Carnivore's Deep Earth Medley\n",
      "\n",
      "Ingredients:\n",
      "1 large beef tongue (approximately 3-4 lbs / 1.5-2 kg)\n",
      "2 lbs / 1 kg boneless lamb shoulder or leg, cut into 2-inch chunks\n",
      "2 lbs / 1 kg beef chuck roast or short ribs, cut into 2-inch chunks\n",
      "1 lb / 500g beef liver, cut into 1-inch cubes\n",
      "1 lb / 500g beef fat (suet or trimmings) for rendering tallow\n",
      "Coarse sea salt (to taste, minimum amount)\n",
      "Water (for braising)\n",
      "\n",
      "Cooking Guide:\n",
      "\n",
      "Part 1: Preparing the Beef Tongue\n",
      "1.  Place the beef tongue in a large pot and cover with water. Add a generous pinch of coarse sea salt.\n",
      "2.  Bring to a boil, then reduce heat to low and simmer for 2.5 to 3.5 hours, or until the tongue is very tender when pierced with a fork.\n",
      "3.  Remove the tongue from the water, reserving the cooking liquid. While the tongue is still warm, carefully peel off the tough outer skin. Trim away any excess fat or gristle from the base.\n",
      "4.  Once cooled slightly, slice the peeled tongue into 1/4-inch thick rounds. Set aside.\n",
      "\n",
      "Part 2: Rendering Tallow and Searing Meats\n",
      "1.  Cut the beef fat into small, uniform pieces. Place them in a heavy-bottomed pot or Dutch oven over very low heat. Slowly render the fat, stirring occasionally, until you have clear liquid tallow and crispy bits (cracklings) remain. This process may take 30-60 minutes.\n",
      "2.  Strain the tallow into a separate heatproof bowl, reserving the cracklings if desired. Keep approximately 1/4 cup of the rendered tallow in the pot.\n",
      "3.  Increase the heat under the pot to medium-high. Pat the lamb and beef chunks thoroughly dry with paper towels. Season them lightly with coarse sea salt.\n",
      "4.  Working in batches to avoid overcrowding the pot, sear the lamb and beef chunks on all sides until deeply browned and caramelized. Remove the seared meat and set aside.\n",
      "\n",
      "Part 3: Braising the Meats\n",
      "1.  Deglaze the pot with a small splash of water, scraping up any browned bits from the bottom of the pot with a wooden spoon.\n",
      "2.  Return all seared lamb and beef chunks to the pot. Arrange the sliced beef tongue in a layer over the chunks.\n",
      "3.  Add enough water (or the reserved tongue cooking liquid) to come approximately halfway up the sides of the meat. Add another pinch of coarse sea salt.\n",
      "4.  Bring the liquid to a gentle simmer. Cover the pot tightly and transfer it to a preheated oven at 275°F (135°C).\n",
      "5.  Braise for 3-4 hours, or until both the lamb and beef chunks are fork-tender and easily pull apart.\n",
      "\n",
      "Part 4: Incorporating the Liver and Finishing\n",
      "1.  Remove the pot from the oven. Carefully remove about 1-2 cups of the braising liquid from the pot and set it aside.\n",
      "2.  Distribute the cubed beef liver evenly over the braised meats and tongue in the pot.\n",
      "3.  Return the pot to the oven and continue to braise for another 30-45 minutes, or until the liver is cooked through but still tender. Avoid overcooking the liver to prevent it from becoming tough.\n",
      "4.  Remove the pot from the oven. Using a slotted spoon, carefully transfer all the cooked meats, tongue, and liver to a heatproof, loaf-shaped dish or terrine mold (approximately 9x5 inches or similar). Press down gently to compact the layers of meat.\n",
      "5.  If desired, you can reduce the remaining braising liquid on the stovetop over medium-high heat until it slightly thickens. Pour this reduced liquid over the pressed meats in the mold.\n",
      "6.  Cover the dish with parchment paper or plastic wrap, then place a substantial weight on top (e.g., another smaller loaf pan filled with cans or heavy objects).\n",
      "7.  Refrigerate for at least 8 hours, preferably overnight, to allow the fats and natural gelatin in the meats to solidify and bind the medley together into a firm block.\n",
      "\n",
      "Serving:\n",
      "1.  To unmold the pressed medley, you may need to briefly dip the bottom of the dish in hot water (if necessary) before inverting it onto a clean cutting board.\n",
      "2.  Slice the Deep Earth Medley into thick, substantial portions. It can be served cold, at room temperature, or gently warmed.\n",
      "\n",
      "Calorie Count (Approximate):\n",
      "This recipe yields approximately 3.5 kg (around 7.7 lbs) of finished product.\n",
      "Assuming 10 servings of approximately 350g each, the estimated calorie count per serving is:\n",
      "Approximately 1000-1100 calories per serving.\n",
      "This is a high-fat, high-protein meal, typical for a carnivore diet.\n"
     ]
    }
   ],
   "source": [
    "print(response(prompt).text)"
   ]
  },
  {
   "cell_type": "code",
   "execution_count": null,
   "id": "813de5e2-5c89-4348-bf79-bb46f7106b9b",
   "metadata": {},
   "outputs": [],
   "source": []
  }
 ],
 "metadata": {
  "kernelspec": {
   "display_name": "Python [conda env:base] *",
   "language": "python",
   "name": "conda-base-py"
  },
  "language_info": {
   "codemirror_mode": {
    "name": "ipython",
    "version": 3
   },
   "file_extension": ".py",
   "mimetype": "text/x-python",
   "name": "python",
   "nbconvert_exporter": "python",
   "pygments_lexer": "ipython3",
   "version": "3.12.2"
  }
 },
 "nbformat": 4,
 "nbformat_minor": 5
}
