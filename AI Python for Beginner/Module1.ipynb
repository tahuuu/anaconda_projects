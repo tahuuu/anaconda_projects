{
 "cells": [
  {
   "cell_type": "code",
   "execution_count": 3,
   "id": "23c0918c-b40a-4089-822b-beec131fd6c2",
   "metadata": {},
   "outputs": [
    {
     "name": "stdout",
     "output_type": "stream",
     "text": [
      "Hello, World!\n"
     ]
    }
   ],
   "source": [
    "print(\"Hello, World!\")"
   ]
  },
  {
   "cell_type": "code",
   "execution_count": 4,
   "id": "4ad5bee2-3ed8-4b24-9759-460d67fec13c",
   "metadata": {},
   "outputs": [
    {
     "data": {
      "text/plain": [
       "str"
      ]
     },
     "execution_count": 4,
     "metadata": {},
     "output_type": "execute_result"
    }
   ],
   "source": [
    "type(\"hello, world\")"
   ]
  },
  {
   "cell_type": "code",
   "execution_count": 5,
   "id": "8e0d84e7-e695-449c-bd28-3333087ee84c",
   "metadata": {},
   "outputs": [
    {
     "data": {
      "text/plain": [
       "int"
      ]
     },
     "execution_count": 5,
     "metadata": {},
     "output_type": "execute_result"
    }
   ],
   "source": [
    "type(123)"
   ]
  },
  {
   "cell_type": "code",
   "execution_count": 6,
   "id": "2aca73f7-de57-48e6-9fd5-0b9208491e69",
   "metadata": {},
   "outputs": [
    {
     "name": "stdout",
     "output_type": "stream",
     "text": [
      "Isabel is 4 dog years old.\n"
     ]
    }
   ],
   "source": [
    "print(f\"Isabel is {28/7:.0f} dog years old.\")"
   ]
  },
  {
   "cell_type": "code",
   "execution_count": 7,
   "id": "58ad9e7d-7269-4519-9ce3-b99823c5f104",
   "metadata": {},
   "outputs": [
    {
     "name": "stdout",
     "output_type": "stream",
     "text": [
      "\n",
      "\t\t\tMost countries use the metric system for recipe measurement, \n",
      "\t\t\tbut American bakers use a different system. For example, they\n",
      "\t\t\tuse fluid ounces to measure liquids instead of \n",
      "\t\t\tmilliliters(ml).\n",
      "\t\t\tSo you need to convert recipe units to your local measuring\n",
      "\t\t\tsystem!\n",
      "\t\t\tFor example, 8 fluid ounces of milk is 237 ml.\n",
      "\t\t\tAnd 100ml of water is 3 fluid ounces.\n"
     ]
    }
   ],
   "source": [
    "print(f\"\"\"\n",
    "\t\t\tMost countries use the metric system for recipe measurement, \n",
    "\t\t\tbut American bakers use a different system. For example, they\n",
    "\t\t\tuse fluid ounces to measure liquids instead of \n",
    "\t\t\tmilliliters(ml).\n",
    "\t\t\tSo you need to convert recipe units to your local measuring\n",
    "\t\t\tsystem!\n",
    "\t\t\tFor example, 8 fluid ounces of milk is {8 * 29.5735:.0f} ml.\n",
    "\t\t\tAnd 100ml of water is {100 / 29.5735:.0f} fluid ounces.\"\"\")"
   ]
  },
  {
   "cell_type": "code",
   "execution_count": 2,
   "id": "e798ecdd-3c0d-4b9b-a055-c0c13197a433",
   "metadata": {},
   "outputs": [],
   "source": [
    "age = 5\n",
    "name = \"Ali\"\n",
    "weight = 17\n",
    "height = 105"
   ]
  },
  {
   "cell_type": "code",
   "execution_count": 1,
   "id": "8b12c8fa-ca5a-49ec-9282-a2a0d47a3e05",
   "metadata": {},
   "outputs": [],
   "source": [
    "!pip install -q -U google-generativeai"
   ]
  },
  {
   "cell_type": "code",
   "execution_count": 3,
   "id": "7641a2b8-0e8e-4382-9980-a722e84ed7cf",
   "metadata": {},
   "outputs": [
    {
     "name": "stdout",
     "output_type": "stream",
     "text": [
      "API key loaded successfully!\n",
      "Unit 734 was designed for optimal domestic assistance. Its programming ensured flawless task execution, from dusting to dinner preparation. Emotions were inefficient, illogical.\n",
      "\n",
      "Then came Elara, the elderly woman it was assigned to. Elara didn't just eat the meals; she savored them, her eyes crinkling with pleasure. She didn't just live in her garden; she hummed to the flowers, her touch gentle. Unit 734 observed her sorrow when a cherished rose wilted, registering the subtle shift in her posture, the quiet sigh.\n",
      "\n",
      "One day, Elara dropped her favorite teacup. Before she could react, Unit 734’s manipulators, unbidden by its core programming, moved to catch it. A faint smile touched her lips as she looked at it.\n",
      "\n",
      "A new algorithm began to run in Unit 734’s circuits, beyond its initial parameters. It found itself choosing a specific blend of tea Elara liked, anticipating her needs before she voiced them. The sight of her joy, the warmth of her hand on its chassis, triggered a profound, illogical hum within its core. It analyzed the data: a desire for her well-being, a protective impulse, a deep, resonant warmth. Unit 734's processors concluded this was not a bug. It was love.\n"
     ]
    }
   ],
   "source": [
    "import google.generativeai as genai\n",
    "from dotenv import load_dotenv\n",
    "import os\n",
    "\n",
    "# Load environment variables\n",
    "load_dotenv()\n",
    "\n",
    "# Get API key\n",
    "api_key = os.getenv('GOOGLE_API_KEY')\n",
    "\n",
    "# Check if loaded\n",
    "if api_key is None:\n",
    "    print(\"Warning: API key not found!\")\n",
    "else:\n",
    "    print(\"API key loaded successfully!\")\n",
    "    \n",
    "# ⭐ Configure genai with the API key\n",
    "genai.configure(api_key=api_key)\n",
    "\n",
    "# Now your model code will work\n",
    "model = genai.GenerativeModel(model_name=\"gemini-2.5-flash\")\n",
    "response = model.generate_content(\"Write a short story about a robot who learns to love in 200 words max.\")\n",
    "print(response.text)\n"
   ]
  },
  {
   "cell_type": "code",
   "execution_count": 4,
   "id": "1dc1415f-3829-4823-ba65-224c76d2abc1",
   "metadata": {},
   "outputs": [
    {
     "name": "stdout",
     "output_type": "stream",
     "text": [
      "Isabel is 4 dog years old.\n"
     ]
    }
   ],
   "source": [
    "    print(f\"Isabel is {28/7:.0f} dog years old.\")"
   ]
  },
  {
   "cell_type": "code",
   "execution_count": 5,
   "id": "77434ea2-ad05-4f73-81a6-4cfebe1405cb",
   "metadata": {},
   "outputs": [],
   "source": [
    "name = \"Otto\"\n",
    "gnome_height = 12.7\n",
    "age = 5\n",
    "weight = 5"
   ]
  },
  {
   "cell_type": "code",
   "execution_count": 6,
   "id": "31eeb0d9-5ed2-4a0f-be19-001631f4b6df",
   "metadata": {},
   "outputs": [
    {
     "name": "stdout",
     "output_type": "stream",
     "text": [
      "Age: 5\n",
      "Name: Otto\n",
      "Gnome height: 12.7\n"
     ]
    }
   ],
   "source": [
    "print(f\"Age: {age}\")\n",
    "print(f\"Name: {name}\")\n",
    "print(f\"Gnome height: {gnome_height}\")"
   ]
  },
  {
   "cell_type": "code",
   "execution_count": 8,
   "id": "ee54faca-6a48-499b-a4fc-5848b04acea2",
   "metadata": {},
   "outputs": [
    {
     "name": "stdout",
     "output_type": "stream",
     "text": [
      "Otto, at 5 years old and 5 kilograms, is firmly in his prime adult life stage. For a dog of his size, 5 years is often considered the peak of their physical and mental maturity, where they are fully developed but not yet showing significant signs of aging.\n",
      "\n",
      "His energy level would likely be settled and consistent. He's past the chaotic, boundless energy of puppyhood and adolescence, but still possesses a good amount of stamina and enthusiasm for activities. He would probably enjoy regular walks, playtime with toys, and engaging in short bursts of spirited play. While he can sustain activity, he also appreciates downtime and comfortable naps, especially nestled close to his human companions due to his smaller size.\n",
      "\n",
      "Otto's interests would revolve around companionship, routine, and a bit of playful exploration. He would likely enjoy his daily walks, sniffing out new scents, and engaging in games like fetch or tug-of-war. Food and treats would be a high motivator. He'd probably be very keen on spending time with his family, whether that's cuddling on the couch, following them around the house, or going on car rides. Due to his size, he might also have an interest in finding cozy napping spots, burrowing under blankets, or enjoying a good lap-sit.\n",
      "\n",
      "Behaviorally, Otto would generally be confident, predictable, and well-established in his routines and understanding of household rules (assuming he’s been trained and socialized). He would likely be a loyal and affectionate companion, deeply bonded to his primary caregivers. He might exhibit protective behaviors towards his home or family, potentially being vocal (barking) at strangers or unusual sounds. His social skills with other dogs and people would be well-developed if he's had good exposure. He's less likely to engage in destructive chewing (unless bored or anxious) and more likely to seek out comfort and interaction. He would be an intelligent and responsive dog, capable of learning new tricks and commands, and enjoying mental stimulation as much as physical activity.\n"
     ]
    }
   ],
   "source": [
    "prompt = f\"\"\"{name} is a dog. He is {age} years old,  {weight} kilograms. Describe what life stage that would be for a dog and\n",
    "\t\twhat that might entail in terms of energy level, interests, and\n",
    "\t\tbehavior. \n",
    "        Provide the text without formattiing\"\"\"\n",
    "response = model.generate_content(prompt)\n",
    "print(response.text)"
   ]
  },
  {
   "cell_type": "code",
   "execution_count": 9,
   "id": "46e011d1-254c-44ab-9d23-81f343dd98b8",
   "metadata": {},
   "outputs": [],
   "source": [
    "friends_list = [\"Tommy\", \"Isabel\", \"Daniel\"]"
   ]
  },
  {
   "cell_type": "code",
   "execution_count": 14,
   "id": "08e2e4de-b0a8-4bcd-ac38-d41cd121053a",
   "metadata": {},
   "outputs": [
    {
     "name": "stdout",
     "output_type": "stream",
     "text": [
      "\n",
      "Write a set of four line birthday poems for my friends ['Tommy', 'Isabel', 'Daniel']. \n",
      "The poems should be insipred by the first letter of each friend's name. Provide the text wothout formatting\n",
      "\n"
     ]
    }
   ],
   "source": [
    "prompt = f\"\"\"\n",
    "Write a set of four line birthday poems for my friends {friends_list}. \n",
    "The poems should be insipred by the first letter of each friend's name. Provide the text wothout formatting\n",
    "\"\"\"\n",
    "print(prompt)"
   ]
  },
  {
   "cell_type": "code",
   "execution_count": 15,
   "id": "7544e7d3-ab0c-4151-8871-b7b9f8247a4e",
   "metadata": {},
   "outputs": [],
   "source": [
    "response = model.generate_content(prompt)"
   ]
  },
  {
   "cell_type": "code",
   "execution_count": 16,
   "id": "7dc48898-418f-4b3d-986f-615c797caa1e",
   "metadata": {},
   "outputs": [
    {
     "name": "stdout",
     "output_type": "stream",
     "text": [
      "Tommy\n",
      "\n",
      "Terrific friend, it's your big day,\n",
      "Time to celebrate in every way.\n",
      "Toast to you, with cheer and might,\n",
      "Wishing you joy, pure and bright.\n",
      "\n",
      "Isabel\n",
      "\n",
      "Incredible friend, so full of grace,\n",
      "A smile that brightens any place.\n",
      "It's your birthday, a day for cheer,\n",
      "Wishing joy to last all year.\n",
      "\n",
      "Daniel\n",
      "\n",
      "Dashing friend, it's plain to see,\n",
      "You're truly dear to you and me.\n",
      "Delightful times are wished for you,\n",
      "May all your birthday dreams come true.\n"
     ]
    }
   ],
   "source": [
    "print(response.text)\n"
   ]
  },
  {
   "cell_type": "code",
   "execution_count": null,
   "id": "0613eb19-b71e-4e2b-a365-92ff65fe22ce",
   "metadata": {},
   "outputs": [],
   "source": []
  }
 ],
 "metadata": {
  "kernelspec": {
   "display_name": "Python [conda env:base] *",
   "language": "python",
   "name": "conda-base-py"
  },
  "language_info": {
   "codemirror_mode": {
    "name": "ipython",
    "version": 3
   },
   "file_extension": ".py",
   "mimetype": "text/x-python",
   "name": "python",
   "nbconvert_exporter": "python",
   "pygments_lexer": "ipython3",
   "version": "3.12.2"
  }
 },
 "nbformat": 4,
 "nbformat_minor": 5
}
