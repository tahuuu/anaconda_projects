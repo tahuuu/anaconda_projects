{
 "cells": [
  {
   "cell_type": "code",
   "execution_count": 3,
   "id": "23c0918c-b40a-4089-822b-beec131fd6c2",
   "metadata": {},
   "outputs": [
    {
     "name": "stdout",
     "output_type": "stream",
     "text": [
      "Hello, World!\n"
     ]
    }
   ],
   "source": [
    "print(\"Hello, World!\")"
   ]
  },
  {
   "cell_type": "code",
   "execution_count": 4,
   "id": "4ad5bee2-3ed8-4b24-9759-460d67fec13c",
   "metadata": {},
   "outputs": [
    {
     "data": {
      "text/plain": [
       "str"
      ]
     },
     "execution_count": 4,
     "metadata": {},
     "output_type": "execute_result"
    }
   ],
   "source": [
    "type(\"hello, world\")"
   ]
  },
  {
   "cell_type": "code",
   "execution_count": 5,
   "id": "8e0d84e7-e695-449c-bd28-3333087ee84c",
   "metadata": {},
   "outputs": [
    {
     "data": {
      "text/plain": [
       "int"
      ]
     },
     "execution_count": 5,
     "metadata": {},
     "output_type": "execute_result"
    }
   ],
   "source": [
    "type(123)"
   ]
  },
  {
   "cell_type": "code",
   "execution_count": 6,
   "id": "2aca73f7-de57-48e6-9fd5-0b9208491e69",
   "metadata": {},
   "outputs": [
    {
     "name": "stdout",
     "output_type": "stream",
     "text": [
      "Isabel is 4 dog years old.\n"
     ]
    }
   ],
   "source": [
    "print(f\"Isabel is {28/7:.0f} dog years old.\")"
   ]
  },
  {
   "cell_type": "code",
   "execution_count": 7,
   "id": "58ad9e7d-7269-4519-9ce3-b99823c5f104",
   "metadata": {},
   "outputs": [
    {
     "name": "stdout",
     "output_type": "stream",
     "text": [
      "\n",
      "\t\t\tMost countries use the metric system for recipe measurement, \n",
      "\t\t\tbut American bakers use a different system. For example, they\n",
      "\t\t\tuse fluid ounces to measure liquids instead of \n",
      "\t\t\tmilliliters(ml).\n",
      "\t\t\tSo you need to convert recipe units to your local measuring\n",
      "\t\t\tsystem!\n",
      "\t\t\tFor example, 8 fluid ounces of milk is 237 ml.\n",
      "\t\t\tAnd 100ml of water is 3 fluid ounces.\n"
     ]
    }
   ],
   "source": [
    "print(f\"\"\"\n",
    "\t\t\tMost countries use the metric system for recipe measurement, \n",
    "\t\t\tbut American bakers use a different system. For example, they\n",
    "\t\t\tuse fluid ounces to measure liquids instead of \n",
    "\t\t\tmilliliters(ml).\n",
    "\t\t\tSo you need to convert recipe units to your local measuring\n",
    "\t\t\tsystem!\n",
    "\t\t\tFor example, 8 fluid ounces of milk is {8 * 29.5735:.0f} ml.\n",
    "\t\t\tAnd 100ml of water is {100 / 29.5735:.0f} fluid ounces.\"\"\")"
   ]
  },
  {
   "cell_type": "code",
   "execution_count": 2,
   "id": "e798ecdd-3c0d-4b9b-a055-c0c13197a433",
   "metadata": {},
   "outputs": [],
   "source": [
    "age = 5\n",
    "name = \"Ali\"\n",
    "weight = 17\n",
    "height = 105"
   ]
  },
  {
   "cell_type": "code",
   "execution_count": 3,
   "id": "8b12c8fa-ca5a-49ec-9282-a2a0d47a3e05",
   "metadata": {},
   "outputs": [],
   "source": [
    "!pip install -q -U google-generativeai"
   ]
  },
  {
   "cell_type": "code",
   "execution_count": 1,
   "id": "7641a2b8-0e8e-4382-9980-a722e84ed7cf",
   "metadata": {},
   "outputs": [
    {
     "name": "stdout",
     "output_type": "stream",
     "text": [
      "API key loaded successfully!\n"
     ]
    }
   ],
   "source": [
    "import google.generativeai as genai\n",
    "\n",
    "from dotenv import load_dotenv\n",
    "import os\n",
    "\n",
    "# Load environment variables from .env file\n",
    "load_dotenv()\n",
    "\n",
    "# Get API key from environment\n",
    "api_key = os.getenv('GOOGLE_API_KEY')\n",
    "\n",
    "# Optional: Check if key loaded successfully\n",
    "if api_key is None:\n",
    "    print(\"Warning: API key not found!\")\n",
    "else:\n",
    "    print(\"API key loaded successfully!\")\n"
   ]
  },
  {
   "cell_type": "code",
   "execution_count": 2,
   "id": "d0dd284d-9843-4343-a071-21873fa9e319",
   "metadata": {},
   "outputs": [
    {
     "ename": "DefaultCredentialsError",
     "evalue": "\n  No API_KEY or ADC found. Please either:\n    - Set the `GOOGLE_API_KEY` environment variable.\n    - Manually pass the key with `genai.configure(api_key=my_api_key)`.\n    - Or set up Application Default Credentials, see https://ai.google.dev/gemini-api/docs/oauth for more information.",
     "output_type": "error",
     "traceback": [
      "\u001b[0;31m---------------------------------------------------------------------------\u001b[0m",
      "\u001b[0;31mDefaultCredentialsError\u001b[0m                   Traceback (most recent call last)",
      "Cell \u001b[0;32mIn[2], line 5\u001b[0m\n\u001b[1;32m      2\u001b[0m model \u001b[38;5;241m=\u001b[39m genai\u001b[38;5;241m.\u001b[39mGenerativeModel(model_name\u001b[38;5;241m=\u001b[39m\u001b[38;5;124m\"\u001b[39m\u001b[38;5;124mgemini-2.5-flash\u001b[39m\u001b[38;5;124m\"\u001b[39m)\n\u001b[1;32m      4\u001b[0m \u001b[38;5;66;03m# Send a prompt to the model\u001b[39;00m\n\u001b[0;32m----> 5\u001b[0m response \u001b[38;5;241m=\u001b[39m model\u001b[38;5;241m.\u001b[39mgenerate_content(\u001b[38;5;124m\"\u001b[39m\u001b[38;5;124mWrite a short story about a robot who learns to love in 200 words max.\u001b[39m\u001b[38;5;124m\"\u001b[39m)\n\u001b[1;32m      7\u001b[0m \u001b[38;5;66;03m# Show the result\u001b[39;00m\n\u001b[1;32m      8\u001b[0m \u001b[38;5;28mprint\u001b[39m(response\u001b[38;5;241m.\u001b[39mtext)\n",
      "File \u001b[0;32m/opt/anaconda3/lib/python3.12/site-packages/google/generativeai/generative_models.py:317\u001b[0m, in \u001b[0;36mGenerativeModel.generate_content\u001b[0;34m(self, contents, generation_config, safety_settings, stream, tools, tool_config, request_options)\u001b[0m\n\u001b[1;32m    314\u001b[0m     request\u001b[38;5;241m.\u001b[39mcontents[\u001b[38;5;241m-\u001b[39m\u001b[38;5;241m1\u001b[39m]\u001b[38;5;241m.\u001b[39mrole \u001b[38;5;241m=\u001b[39m _USER_ROLE\n\u001b[1;32m    316\u001b[0m \u001b[38;5;28;01mif\u001b[39;00m \u001b[38;5;28mself\u001b[39m\u001b[38;5;241m.\u001b[39m_client \u001b[38;5;129;01mis\u001b[39;00m \u001b[38;5;28;01mNone\u001b[39;00m:\n\u001b[0;32m--> 317\u001b[0m     \u001b[38;5;28mself\u001b[39m\u001b[38;5;241m.\u001b[39m_client \u001b[38;5;241m=\u001b[39m client\u001b[38;5;241m.\u001b[39mget_default_generative_client()\n\u001b[1;32m    319\u001b[0m \u001b[38;5;28;01mif\u001b[39;00m request_options \u001b[38;5;129;01mis\u001b[39;00m \u001b[38;5;28;01mNone\u001b[39;00m:\n\u001b[1;32m    320\u001b[0m     request_options \u001b[38;5;241m=\u001b[39m {}\n",
      "File \u001b[0;32m/opt/anaconda3/lib/python3.12/site-packages/google/generativeai/client.py:360\u001b[0m, in \u001b[0;36mget_default_generative_client\u001b[0;34m()\u001b[0m\n\u001b[1;32m    359\u001b[0m \u001b[38;5;28;01mdef\u001b[39;00m \u001b[38;5;21mget_default_generative_client\u001b[39m() \u001b[38;5;241m-\u001b[39m\u001b[38;5;241m>\u001b[39m glm\u001b[38;5;241m.\u001b[39mGenerativeServiceClient:\n\u001b[0;32m--> 360\u001b[0m     \u001b[38;5;28;01mreturn\u001b[39;00m _client_manager\u001b[38;5;241m.\u001b[39mget_default_client(\u001b[38;5;124m\"\u001b[39m\u001b[38;5;124mgenerative\u001b[39m\u001b[38;5;124m\"\u001b[39m)\n",
      "File \u001b[0;32m/opt/anaconda3/lib/python3.12/site-packages/google/generativeai/client.py:289\u001b[0m, in \u001b[0;36m_ClientManager.get_default_client\u001b[0;34m(self, name)\u001b[0m\n\u001b[1;32m    287\u001b[0m client \u001b[38;5;241m=\u001b[39m \u001b[38;5;28mself\u001b[39m\u001b[38;5;241m.\u001b[39mclients\u001b[38;5;241m.\u001b[39mget(name)\n\u001b[1;32m    288\u001b[0m \u001b[38;5;28;01mif\u001b[39;00m client \u001b[38;5;129;01mis\u001b[39;00m \u001b[38;5;28;01mNone\u001b[39;00m:\n\u001b[0;32m--> 289\u001b[0m     client \u001b[38;5;241m=\u001b[39m \u001b[38;5;28mself\u001b[39m\u001b[38;5;241m.\u001b[39mmake_client(name)\n\u001b[1;32m    290\u001b[0m     \u001b[38;5;28mself\u001b[39m\u001b[38;5;241m.\u001b[39mclients[name] \u001b[38;5;241m=\u001b[39m client\n\u001b[1;32m    291\u001b[0m \u001b[38;5;28;01mreturn\u001b[39;00m client\n",
      "File \u001b[0;32m/opt/anaconda3/lib/python3.12/site-packages/google/generativeai/client.py:249\u001b[0m, in \u001b[0;36m_ClientManager.make_client\u001b[0;34m(self, name)\u001b[0m\n\u001b[1;32m    242\u001b[0m \u001b[38;5;28;01mexcept\u001b[39;00m ga_exceptions\u001b[38;5;241m.\u001b[39mDefaultCredentialsError \u001b[38;5;28;01mas\u001b[39;00m e:\n\u001b[1;32m    243\u001b[0m     e\u001b[38;5;241m.\u001b[39margs \u001b[38;5;241m=\u001b[39m (\n\u001b[1;32m    244\u001b[0m         \u001b[38;5;124m\"\u001b[39m\u001b[38;5;130;01m\\n\u001b[39;00m\u001b[38;5;124m  No API_KEY or ADC found. Please either:\u001b[39m\u001b[38;5;130;01m\\n\u001b[39;00m\u001b[38;5;124m\"\u001b[39m\n\u001b[1;32m    245\u001b[0m         \u001b[38;5;124m\"\u001b[39m\u001b[38;5;124m    - Set the `GOOGLE_API_KEY` environment variable.\u001b[39m\u001b[38;5;130;01m\\n\u001b[39;00m\u001b[38;5;124m\"\u001b[39m\n\u001b[1;32m    246\u001b[0m         \u001b[38;5;124m\"\u001b[39m\u001b[38;5;124m    - Manually pass the key with `genai.configure(api_key=my_api_key)`.\u001b[39m\u001b[38;5;130;01m\\n\u001b[39;00m\u001b[38;5;124m\"\u001b[39m\n\u001b[1;32m    247\u001b[0m         \u001b[38;5;124m\"\u001b[39m\u001b[38;5;124m    - Or set up Application Default Credentials, see https://ai.google.dev/gemini-api/docs/oauth for more information.\u001b[39m\u001b[38;5;124m\"\u001b[39m,\n\u001b[1;32m    248\u001b[0m     )\n\u001b[0;32m--> 249\u001b[0m     \u001b[38;5;28;01mraise\u001b[39;00m e\n\u001b[1;32m    251\u001b[0m \u001b[38;5;28;01mif\u001b[39;00m \u001b[38;5;129;01mnot\u001b[39;00m \u001b[38;5;28mself\u001b[39m\u001b[38;5;241m.\u001b[39mdefault_metadata:\n\u001b[1;32m    252\u001b[0m     \u001b[38;5;28;01mreturn\u001b[39;00m client\n",
      "File \u001b[0;32m/opt/anaconda3/lib/python3.12/site-packages/google/generativeai/client.py:241\u001b[0m, in \u001b[0;36m_ClientManager.make_client\u001b[0;34m(self, name)\u001b[0m\n\u001b[1;32m    239\u001b[0m \u001b[38;5;28;01mtry\u001b[39;00m:\n\u001b[1;32m    240\u001b[0m     \u001b[38;5;28;01mwith\u001b[39;00m patch_colab_gce_credentials():\n\u001b[0;32m--> 241\u001b[0m         client \u001b[38;5;241m=\u001b[39m \u001b[38;5;28mcls\u001b[39m(\u001b[38;5;241m*\u001b[39m\u001b[38;5;241m*\u001b[39m\u001b[38;5;28mself\u001b[39m\u001b[38;5;241m.\u001b[39mclient_config)\n\u001b[1;32m    242\u001b[0m \u001b[38;5;28;01mexcept\u001b[39;00m ga_exceptions\u001b[38;5;241m.\u001b[39mDefaultCredentialsError \u001b[38;5;28;01mas\u001b[39;00m e:\n\u001b[1;32m    243\u001b[0m     e\u001b[38;5;241m.\u001b[39margs \u001b[38;5;241m=\u001b[39m (\n\u001b[1;32m    244\u001b[0m         \u001b[38;5;124m\"\u001b[39m\u001b[38;5;130;01m\\n\u001b[39;00m\u001b[38;5;124m  No API_KEY or ADC found. Please either:\u001b[39m\u001b[38;5;130;01m\\n\u001b[39;00m\u001b[38;5;124m\"\u001b[39m\n\u001b[1;32m    245\u001b[0m         \u001b[38;5;124m\"\u001b[39m\u001b[38;5;124m    - Set the `GOOGLE_API_KEY` environment variable.\u001b[39m\u001b[38;5;130;01m\\n\u001b[39;00m\u001b[38;5;124m\"\u001b[39m\n\u001b[1;32m    246\u001b[0m         \u001b[38;5;124m\"\u001b[39m\u001b[38;5;124m    - Manually pass the key with `genai.configure(api_key=my_api_key)`.\u001b[39m\u001b[38;5;130;01m\\n\u001b[39;00m\u001b[38;5;124m\"\u001b[39m\n\u001b[1;32m    247\u001b[0m         \u001b[38;5;124m\"\u001b[39m\u001b[38;5;124m    - Or set up Application Default Credentials, see https://ai.google.dev/gemini-api/docs/oauth for more information.\u001b[39m\u001b[38;5;124m\"\u001b[39m,\n\u001b[1;32m    248\u001b[0m     )\n",
      "File \u001b[0;32m/opt/anaconda3/lib/python3.12/site-packages/google/ai/generativelanguage_v1beta/services/generative_service/client.py:667\u001b[0m, in \u001b[0;36mGenerativeServiceClient.__init__\u001b[0;34m(self, credentials, transport, client_options, client_info)\u001b[0m\n\u001b[1;32m    658\u001b[0m     transport_init: Union[\n\u001b[1;32m    659\u001b[0m         Type[GenerativeServiceTransport],\n\u001b[1;32m    660\u001b[0m         Callable[\u001b[38;5;241m.\u001b[39m\u001b[38;5;241m.\u001b[39m\u001b[38;5;241m.\u001b[39m, GenerativeServiceTransport],\n\u001b[0;32m   (...)\u001b[0m\n\u001b[1;32m    664\u001b[0m         \u001b[38;5;28;01melse\u001b[39;00m cast(Callable[\u001b[38;5;241m.\u001b[39m\u001b[38;5;241m.\u001b[39m\u001b[38;5;241m.\u001b[39m, GenerativeServiceTransport], transport)\n\u001b[1;32m    665\u001b[0m     )\n\u001b[1;32m    666\u001b[0m     \u001b[38;5;66;03m# initialize with the provided callable or the passed in class\u001b[39;00m\n\u001b[0;32m--> 667\u001b[0m     \u001b[38;5;28mself\u001b[39m\u001b[38;5;241m.\u001b[39m_transport \u001b[38;5;241m=\u001b[39m transport_init(\n\u001b[1;32m    668\u001b[0m         credentials\u001b[38;5;241m=\u001b[39mcredentials,\n\u001b[1;32m    669\u001b[0m         credentials_file\u001b[38;5;241m=\u001b[39m\u001b[38;5;28mself\u001b[39m\u001b[38;5;241m.\u001b[39m_client_options\u001b[38;5;241m.\u001b[39mcredentials_file,\n\u001b[1;32m    670\u001b[0m         host\u001b[38;5;241m=\u001b[39m\u001b[38;5;28mself\u001b[39m\u001b[38;5;241m.\u001b[39m_api_endpoint,\n\u001b[1;32m    671\u001b[0m         scopes\u001b[38;5;241m=\u001b[39m\u001b[38;5;28mself\u001b[39m\u001b[38;5;241m.\u001b[39m_client_options\u001b[38;5;241m.\u001b[39mscopes,\n\u001b[1;32m    672\u001b[0m         client_cert_source_for_mtls\u001b[38;5;241m=\u001b[39m\u001b[38;5;28mself\u001b[39m\u001b[38;5;241m.\u001b[39m_client_cert_source,\n\u001b[1;32m    673\u001b[0m         quota_project_id\u001b[38;5;241m=\u001b[39m\u001b[38;5;28mself\u001b[39m\u001b[38;5;241m.\u001b[39m_client_options\u001b[38;5;241m.\u001b[39mquota_project_id,\n\u001b[1;32m    674\u001b[0m         client_info\u001b[38;5;241m=\u001b[39mclient_info,\n\u001b[1;32m    675\u001b[0m         always_use_jwt_access\u001b[38;5;241m=\u001b[39m\u001b[38;5;28;01mTrue\u001b[39;00m,\n\u001b[1;32m    676\u001b[0m         api_audience\u001b[38;5;241m=\u001b[39m\u001b[38;5;28mself\u001b[39m\u001b[38;5;241m.\u001b[39m_client_options\u001b[38;5;241m.\u001b[39mapi_audience,\n\u001b[1;32m    677\u001b[0m     )\n\u001b[1;32m    679\u001b[0m \u001b[38;5;28;01mif\u001b[39;00m \u001b[38;5;124m\"\u001b[39m\u001b[38;5;124masync\u001b[39m\u001b[38;5;124m\"\u001b[39m \u001b[38;5;129;01mnot\u001b[39;00m \u001b[38;5;129;01min\u001b[39;00m \u001b[38;5;28mstr\u001b[39m(\u001b[38;5;28mself\u001b[39m\u001b[38;5;241m.\u001b[39m_transport):\n\u001b[1;32m    680\u001b[0m     \u001b[38;5;28;01mif\u001b[39;00m CLIENT_LOGGING_SUPPORTED \u001b[38;5;129;01mand\u001b[39;00m _LOGGER\u001b[38;5;241m.\u001b[39misEnabledFor(\n\u001b[1;32m    681\u001b[0m         std_logging\u001b[38;5;241m.\u001b[39mDEBUG\n\u001b[1;32m    682\u001b[0m     ):  \u001b[38;5;66;03m# pragma: NO COVER\u001b[39;00m\n",
      "File \u001b[0;32m/opt/anaconda3/lib/python3.12/site-packages/google/ai/generativelanguage_v1beta/services/generative_service/transports/grpc.py:235\u001b[0m, in \u001b[0;36mGenerativeServiceGrpcTransport.__init__\u001b[0;34m(self, host, credentials, credentials_file, scopes, channel, api_mtls_endpoint, client_cert_source, ssl_channel_credentials, client_cert_source_for_mtls, quota_project_id, client_info, always_use_jwt_access, api_audience)\u001b[0m\n\u001b[1;32m    230\u001b[0m             \u001b[38;5;28mself\u001b[39m\u001b[38;5;241m.\u001b[39m_ssl_channel_credentials \u001b[38;5;241m=\u001b[39m grpc\u001b[38;5;241m.\u001b[39mssl_channel_credentials(\n\u001b[1;32m    231\u001b[0m                 certificate_chain\u001b[38;5;241m=\u001b[39mcert, private_key\u001b[38;5;241m=\u001b[39mkey\n\u001b[1;32m    232\u001b[0m             )\n\u001b[1;32m    234\u001b[0m \u001b[38;5;66;03m# The base transport sets the host, credentials and scopes\u001b[39;00m\n\u001b[0;32m--> 235\u001b[0m \u001b[38;5;28msuper\u001b[39m()\u001b[38;5;241m.\u001b[39m\u001b[38;5;21m__init__\u001b[39m(\n\u001b[1;32m    236\u001b[0m     host\u001b[38;5;241m=\u001b[39mhost,\n\u001b[1;32m    237\u001b[0m     credentials\u001b[38;5;241m=\u001b[39mcredentials,\n\u001b[1;32m    238\u001b[0m     credentials_file\u001b[38;5;241m=\u001b[39mcredentials_file,\n\u001b[1;32m    239\u001b[0m     scopes\u001b[38;5;241m=\u001b[39mscopes,\n\u001b[1;32m    240\u001b[0m     quota_project_id\u001b[38;5;241m=\u001b[39mquota_project_id,\n\u001b[1;32m    241\u001b[0m     client_info\u001b[38;5;241m=\u001b[39mclient_info,\n\u001b[1;32m    242\u001b[0m     always_use_jwt_access\u001b[38;5;241m=\u001b[39malways_use_jwt_access,\n\u001b[1;32m    243\u001b[0m     api_audience\u001b[38;5;241m=\u001b[39mapi_audience,\n\u001b[1;32m    244\u001b[0m )\n\u001b[1;32m    246\u001b[0m \u001b[38;5;28;01mif\u001b[39;00m \u001b[38;5;129;01mnot\u001b[39;00m \u001b[38;5;28mself\u001b[39m\u001b[38;5;241m.\u001b[39m_grpc_channel:\n\u001b[1;32m    247\u001b[0m     \u001b[38;5;66;03m# initialize with the provided callable or the default channel\u001b[39;00m\n\u001b[1;32m    248\u001b[0m     channel_init \u001b[38;5;241m=\u001b[39m channel \u001b[38;5;129;01mor\u001b[39;00m \u001b[38;5;28mtype\u001b[39m(\u001b[38;5;28mself\u001b[39m)\u001b[38;5;241m.\u001b[39mcreate_channel\n",
      "File \u001b[0;32m/opt/anaconda3/lib/python3.12/site-packages/google/ai/generativelanguage_v1beta/services/generative_service/transports/base.py:100\u001b[0m, in \u001b[0;36mGenerativeServiceTransport.__init__\u001b[0;34m(self, host, credentials, credentials_file, scopes, quota_project_id, client_info, always_use_jwt_access, api_audience, **kwargs)\u001b[0m\n\u001b[1;32m     96\u001b[0m     credentials, _ \u001b[38;5;241m=\u001b[39m google\u001b[38;5;241m.\u001b[39mauth\u001b[38;5;241m.\u001b[39mload_credentials_from_file(\n\u001b[1;32m     97\u001b[0m         credentials_file, \u001b[38;5;241m*\u001b[39m\u001b[38;5;241m*\u001b[39mscopes_kwargs, quota_project_id\u001b[38;5;241m=\u001b[39mquota_project_id\n\u001b[1;32m     98\u001b[0m     )\n\u001b[1;32m     99\u001b[0m \u001b[38;5;28;01melif\u001b[39;00m credentials \u001b[38;5;129;01mis\u001b[39;00m \u001b[38;5;28;01mNone\u001b[39;00m \u001b[38;5;129;01mand\u001b[39;00m \u001b[38;5;129;01mnot\u001b[39;00m \u001b[38;5;28mself\u001b[39m\u001b[38;5;241m.\u001b[39m_ignore_credentials:\n\u001b[0;32m--> 100\u001b[0m     credentials, _ \u001b[38;5;241m=\u001b[39m google\u001b[38;5;241m.\u001b[39mauth\u001b[38;5;241m.\u001b[39mdefault(\n\u001b[1;32m    101\u001b[0m         \u001b[38;5;241m*\u001b[39m\u001b[38;5;241m*\u001b[39mscopes_kwargs, quota_project_id\u001b[38;5;241m=\u001b[39mquota_project_id\n\u001b[1;32m    102\u001b[0m     )\n\u001b[1;32m    103\u001b[0m     \u001b[38;5;66;03m# Don't apply audience if the credentials file passed from user.\u001b[39;00m\n\u001b[1;32m    104\u001b[0m     \u001b[38;5;28;01mif\u001b[39;00m \u001b[38;5;28mhasattr\u001b[39m(credentials, \u001b[38;5;124m\"\u001b[39m\u001b[38;5;124mwith_gdch_audience\u001b[39m\u001b[38;5;124m\"\u001b[39m):\n",
      "File \u001b[0;32m/opt/anaconda3/lib/python3.12/site-packages/google/auth/_default.py:685\u001b[0m, in \u001b[0;36mdefault\u001b[0;34m(scopes, request, quota_project_id, default_scopes)\u001b[0m\n\u001b[1;32m    677\u001b[0m             _LOGGER\u001b[38;5;241m.\u001b[39mwarning(\n\u001b[1;32m    678\u001b[0m                 \u001b[38;5;124m\"\u001b[39m\u001b[38;5;124mNo project ID could be determined. Consider running \u001b[39m\u001b[38;5;124m\"\u001b[39m\n\u001b[1;32m    679\u001b[0m                 \u001b[38;5;124m\"\u001b[39m\u001b[38;5;124m`gcloud config set project` or setting the \u001b[39m\u001b[38;5;132;01m%s\u001b[39;00m\u001b[38;5;124m \u001b[39m\u001b[38;5;124m\"\u001b[39m\n\u001b[1;32m    680\u001b[0m                 \u001b[38;5;124m\"\u001b[39m\u001b[38;5;124menvironment variable\u001b[39m\u001b[38;5;124m\"\u001b[39m,\n\u001b[1;32m    681\u001b[0m                 environment_vars\u001b[38;5;241m.\u001b[39mPROJECT,\n\u001b[1;32m    682\u001b[0m             )\n\u001b[1;32m    683\u001b[0m         \u001b[38;5;28;01mreturn\u001b[39;00m credentials, effective_project_id\n\u001b[0;32m--> 685\u001b[0m \u001b[38;5;28;01mraise\u001b[39;00m exceptions\u001b[38;5;241m.\u001b[39mDefaultCredentialsError(_CLOUD_SDK_MISSING_CREDENTIALS)\n",
      "\u001b[0;31mDefaultCredentialsError\u001b[0m: \n  No API_KEY or ADC found. Please either:\n    - Set the `GOOGLE_API_KEY` environment variable.\n    - Manually pass the key with `genai.configure(api_key=my_api_key)`.\n    - Or set up Application Default Credentials, see https://ai.google.dev/gemini-api/docs/oauth for more information."
     ]
    }
   ],
   "source": [
    "# Load the Gemini model\n",
    "model = genai.GenerativeModel(model_name=\"gemini-2.5-flash\")\n",
    "\n",
    "# Send a prompt to the model\n",
    "response = model.generate_content(\"Write a short story about a robot who learns to love in 200 words max.\")\n",
    "\n",
    "# Show the result\n",
    "print(response.text)\n"
   ]
  },
  {
   "cell_type": "code",
   "execution_count": 12,
   "id": "1dc1415f-3829-4823-ba65-224c76d2abc1",
   "metadata": {},
   "outputs": [
    {
     "name": "stdout",
     "output_type": "stream",
     "text": [
      "Isabel is 4 dog years old.\n"
     ]
    }
   ],
   "source": [
    "    print(f\"Isabel is {28/7:.0f} dog years old.\")"
   ]
  },
  {
   "cell_type": "code",
   "execution_count": 13,
   "id": "77434ea2-ad05-4f73-81a6-4cfebe1405cb",
   "metadata": {},
   "outputs": [],
   "source": [
    "name = \"Otto\"\n",
    "gnome_height = 12.7\n",
    "age = 5\n",
    "weight = 5"
   ]
  },
  {
   "cell_type": "code",
   "execution_count": 14,
   "id": "31eeb0d9-5ed2-4a0f-be19-001631f4b6df",
   "metadata": {},
   "outputs": [
    {
     "name": "stdout",
     "output_type": "stream",
     "text": [
      "Age: 5\n",
      "Name: Otto\n",
      "Gnome height: 12.7\n"
     ]
    }
   ],
   "source": [
    "print(f\"Age: {age}\")\n",
    "print(f\"Name: {name}\")\n",
    "print(f\"Gnome height: {gnome_height}\")"
   ]
  },
  {
   "cell_type": "code",
   "execution_count": 15,
   "id": "ee54faca-6a48-499b-a4fc-5848b04acea2",
   "metadata": {},
   "outputs": [
    {
     "name": "stdout",
     "output_type": "stream",
     "text": [
      "Otto, at 5 years old and 5 kilograms, is in his absolute **prime adult years**. For a small dog like him, 5 years old is equivalent to a human in their late 20s to early 30s. He's past the chaotic puppy and adolescent phases and not yet entering the senior stage, which often starts later for small breeds (around 8-10 years old).\n",
      "\n",
      "Here's what that might entail for Otto:\n",
      "\n",
      "### Life Stage: Prime Adult\n",
      "\n",
      "*   **Physical Maturity:** Otto is fully grown, his bones and muscles are strong, and his physical capabilities are at their peak.\n",
      "*   **Mental Maturity:** He's well past puppy brain. He understands routines, has a good grasp of learned commands, and his personality is fully developed and stable.\n",
      "*   **Confidence & Security:** He likely feels confident in his environment and his relationship with his human family.\n",
      "\n",
      "### Energy Level\n",
      "\n",
      "*   **Robust but Controlled:** Otto's energy level would likely be robust but more controlled and purposeful than that of a puppy or adolescent. He won't have the boundless, sometimes aimless, energy of a younger dog.\n",
      "*   **Good \"Off Switch\":** He should have a good \"off switch,\" meaning he can be active and playful when stimulated, but also settle down easily for naps or quiet time with his family.\n",
      "*   **Sustained Activity:** He's capable of sustained activity like long walks, hikes (appropriate for a small dog), extended play sessions, or even dog sports like agility or obedience if his humans are interested. His 5kg size means his exercise needs are met more easily than a large dog's, but he still requires regular physical activity to stay fit and happy.\n",
      "*   **Mental Engagement:** He'll likely appreciate mental stimulation as much as physical exercise. Puzzle toys, training sessions, and scent games will tire him out in a satisfying way.\n",
      "\n",
      "### Interests\n",
      "\n",
      "*   **Routine:** Otto thrives on a predictable routine. Knowing when walks, meals, and playtimes happen provides security and comfort.\n",
      "*   **His People:** His primary interest will be his human family. He'll enjoy being near them, cuddling, playing, and participating in household activities.\n",
      "*   **Exploration (Sniffing!):** Walks are no longer just about exercise; they're about exploring the world through his nose. Sniffing out new scents is a major interest and provides mental enrichment.\n",
      "*   **Play:** While he might not play with the frenetic energy of a puppy, he'll still enjoy games like fetch, tug-of-war (with appropriate toys for his size), or chasing toys around the house or yard.\n",
      "*   **Food & Treats:** Food will likely be a significant motivator for training and an enjoyable part of his day. Treat-dispensing toys would be a hit.\n",
      "*   **Comfort:** Finding the perfect sunny spot for a nap, curling up on a soft bed or lap, and generally being comfortable are high on his list.\n",
      "*   **Mental Challenges:** He might enjoy learning new tricks, participating in obedience classes, or engaging with puzzle toys that require problem-solving.\n",
      "\n",
      "### Behavior\n",
      "\n",
      "*   **Well-Trained & Manners:** Otto should be reliably house-trained and know a solid set of basic commands (sit, stay, come, down). He'll likely have good leash manners (if trained) and understand household rules.\n",
      "*   **Stable Temperament:** His personality is fully formed. He's less likely to have sudden mood swings or unexpected reactions than an adolescent. He's likely confident, curious, and affectionate.\n",
      "*   **Strong Bond:** He'll have a deep and established bond with his primary caregivers, often seeking their attention and comfort.\n",
      "*   **Communicative:** Otto will likely be good at communicating his needs and desires to his humans through barks, body language, and specific behaviors.\n",
      "*   **Social (if socialized):** If properly socialized as a younger dog, he'll likely enjoy interactions with other dogs and friendly people, though he might be more discerning than a puppy. As a small dog, he might be more prone to being vocal or cautious around larger, boisterous dogs if not accustomed to them.\n",
      "*   **Loyal & Protective:** Many small dogs in their prime are very loyal and can be quite protective of their homes and families, which might manifest as alert barking.\n",
      "\n",
      "In essence, Otto at 5 years old is a delightful companion – mature, well-behaved (assuming good training), still energetic and playful, and deeply bonded with his family. He's likely a joy to live with, offering a perfect blend of activity and quiet companionship.\n"
     ]
    }
   ],
   "source": [
    "prompt = f\"\"\"{name} is a dog. He is {age} years old,  {weight} kilograms. Describe what life stage that would be for a dog and\n",
    "\t\twhat that might entail in terms of energy level, interests, and\n",
    "\t\tbehavior\"\"\"\n",
    "response = model.generate_content(prompt)\n",
    "print(response.text)"
   ]
  },
  {
   "cell_type": "code",
   "execution_count": 16,
   "id": "46e011d1-254c-44ab-9d23-81f343dd98b8",
   "metadata": {},
   "outputs": [],
   "source": [
    "friends_list = [\"Tommy\", \"Isabel\", \"Daniel\"]"
   ]
  },
  {
   "cell_type": "code",
   "execution_count": 17,
   "id": "08e2e4de-b0a8-4bcd-ac38-d41cd121053a",
   "metadata": {},
   "outputs": [
    {
     "name": "stdout",
     "output_type": "stream",
     "text": [
      "\n",
      "Write a set of four line birthday poems for my friends ['Tommy', 'Isabel', 'Daniel']. \n",
      "The poems should be insipred by the first letter of each friend's name.\n",
      "\n"
     ]
    }
   ],
   "source": [
    "prompt = f\"\"\"\n",
    "Write a set of four line birthday poems for my friends {friends_list}. \n",
    "The poems should be insipred by the first letter of each friend's name.\n",
    "\"\"\"\n",
    "print(prompt)"
   ]
  },
  {
   "cell_type": "code",
   "execution_count": 18,
   "id": "7544e7d3-ab0c-4151-8871-b7b9f8247a4e",
   "metadata": {},
   "outputs": [],
   "source": [
    "response = model.generate_content(prompt)"
   ]
  },
  {
   "cell_type": "code",
   "execution_count": 20,
   "id": "7dc48898-418f-4b3d-986f-615c797caa1e",
   "metadata": {},
   "outputs": [
    {
     "name": "stdout",
     "output_type": "stream",
     "text": [
      "Here are four-line birthday poems for your friends, inspired by the first letter of their names!\n",
      "\n",
      "**For Tommy:**\n",
      "**T** is for Tommy, a terrific friend so true,\n",
      "Today's your special day, made just for you!\n",
      "Time to celebrate with laughter and delight,\n",
      "May your birthday be wonderfully bright!\n",
      "\n",
      "**For Isabel:**\n",
      "**I** is for Isabel, with an incredible spark,\n",
      "Illuminating all, even in the dark.\n",
      "Inspired by your kindness, so genuine and deep,\n",
      "May joy and great memories your birthday keep!\n",
      "\n",
      "**For Daniel:**\n",
      "**D** is for Daniel, so dynamic and keen,\n",
      "A delightful presence, the best we've ever seen.\n",
      "Dare to dream big on this special day,\n",
      "Happy Birthday to you, come what may!\n"
     ]
    }
   ],
   "source": [
    "print(response.text)\n"
   ]
  },
  {
   "cell_type": "code",
   "execution_count": null,
   "id": "0613eb19-b71e-4e2b-a365-92ff65fe22ce",
   "metadata": {},
   "outputs": [],
   "source": []
  }
 ],
 "metadata": {
  "kernelspec": {
   "display_name": "Python [conda env:base] *",
   "language": "python",
   "name": "conda-base-py"
  },
  "language_info": {
   "codemirror_mode": {
    "name": "ipython",
    "version": 3
   },
   "file_extension": ".py",
   "mimetype": "text/x-python",
   "name": "python",
   "nbconvert_exporter": "python",
   "pygments_lexer": "ipython3",
   "version": "3.12.2"
  }
 },
 "nbformat": 4,
 "nbformat_minor": 5
}
